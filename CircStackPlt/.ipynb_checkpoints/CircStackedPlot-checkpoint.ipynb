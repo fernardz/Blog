{
 "cells": [
  {
   "cell_type": "code",
   "execution_count": 1,
   "metadata": {},
   "outputs": [
    {
     "data": {
      "text/html": [
       "\n",
       "    <div class=\"bk-root\">\n",
       "        <a href=\"https://bokeh.pydata.org\" target=\"_blank\" class=\"bk-logo bk-logo-small bk-logo-notebook\"></a>\n",
       "        <span id=\"7d256dea-997e-4b38-b407-557266959a3d\">Loading BokehJS ...</span>\n",
       "    </div>"
      ]
     },
     "metadata": {},
     "output_type": "display_data"
    },
    {
     "data": {
      "application/javascript": [
       "\n",
       "(function(root) {\n",
       "  function now() {\n",
       "    return new Date();\n",
       "  }\n",
       "\n",
       "  var force = true;\n",
       "\n",
       "  if (typeof (root._bokeh_onload_callbacks) === \"undefined\" || force === true) {\n",
       "    root._bokeh_onload_callbacks = [];\n",
       "    root._bokeh_is_loading = undefined;\n",
       "  }\n",
       "\n",
       "  var JS_MIME_TYPE = 'application/javascript';\n",
       "  var HTML_MIME_TYPE = 'text/html';\n",
       "  var EXEC_MIME_TYPE = 'application/vnd.bokehjs_exec.v0+json';\n",
       "  var CLASS_NAME = 'output_bokeh rendered_html';\n",
       "\n",
       "  /**\n",
       "   * Render data to the DOM node\n",
       "   */\n",
       "  function render(props, node) {\n",
       "    var script = document.createElement(\"script\");\n",
       "    node.appendChild(script);\n",
       "  }\n",
       "\n",
       "  /**\n",
       "   * Handle when an output is cleared or removed\n",
       "   */\n",
       "  function handleClearOutput(event, handle) {\n",
       "    var cell = handle.cell;\n",
       "\n",
       "    var id = cell.output_area._bokeh_element_id;\n",
       "    var server_id = cell.output_area._bokeh_server_id;\n",
       "    // Clean up Bokeh references\n",
       "    if (id != null && id in Bokeh.index) {\n",
       "      Bokeh.index[id].model.document.clear();\n",
       "      delete Bokeh.index[id];\n",
       "    }\n",
       "\n",
       "    if (server_id !== undefined) {\n",
       "      // Clean up Bokeh references\n",
       "      var cmd = \"from bokeh.io.state import curstate; print(curstate().uuid_to_server['\" + server_id + \"'].get_sessions()[0].document.roots[0]._id)\";\n",
       "      cell.notebook.kernel.execute(cmd, {\n",
       "        iopub: {\n",
       "          output: function(msg) {\n",
       "            var id = msg.content.text.trim();\n",
       "            if (id in Bokeh.index) {\n",
       "              Bokeh.index[id].model.document.clear();\n",
       "              delete Bokeh.index[id];\n",
       "            }\n",
       "          }\n",
       "        }\n",
       "      });\n",
       "      // Destroy server and session\n",
       "      var cmd = \"import bokeh.io.notebook as ion; ion.destroy_server('\" + server_id + \"')\";\n",
       "      cell.notebook.kernel.execute(cmd);\n",
       "    }\n",
       "  }\n",
       "\n",
       "  /**\n",
       "   * Handle when a new output is added\n",
       "   */\n",
       "  function handleAddOutput(event, handle) {\n",
       "    var output_area = handle.output_area;\n",
       "    var output = handle.output;\n",
       "\n",
       "    // limit handleAddOutput to display_data with EXEC_MIME_TYPE content only\n",
       "    if ((output.output_type != \"display_data\") || (!output.data.hasOwnProperty(EXEC_MIME_TYPE))) {\n",
       "      return\n",
       "    }\n",
       "\n",
       "    var toinsert = output_area.element.find(\".\" + CLASS_NAME.split(' ')[0]);\n",
       "\n",
       "    if (output.metadata[EXEC_MIME_TYPE][\"id\"] !== undefined) {\n",
       "      toinsert[toinsert.length - 1].firstChild.textContent = output.data[JS_MIME_TYPE];\n",
       "      // store reference to embed id on output_area\n",
       "      output_area._bokeh_element_id = output.metadata[EXEC_MIME_TYPE][\"id\"];\n",
       "    }\n",
       "    if (output.metadata[EXEC_MIME_TYPE][\"server_id\"] !== undefined) {\n",
       "      var bk_div = document.createElement(\"div\");\n",
       "      bk_div.innerHTML = output.data[HTML_MIME_TYPE];\n",
       "      var script_attrs = bk_div.children[0].attributes;\n",
       "      for (var i = 0; i < script_attrs.length; i++) {\n",
       "        toinsert[toinsert.length - 1].firstChild.setAttribute(script_attrs[i].name, script_attrs[i].value);\n",
       "      }\n",
       "      // store reference to server id on output_area\n",
       "      output_area._bokeh_server_id = output.metadata[EXEC_MIME_TYPE][\"server_id\"];\n",
       "    }\n",
       "  }\n",
       "\n",
       "  function register_renderer(events, OutputArea) {\n",
       "\n",
       "    function append_mime(data, metadata, element) {\n",
       "      // create a DOM node to render to\n",
       "      var toinsert = this.create_output_subarea(\n",
       "        metadata,\n",
       "        CLASS_NAME,\n",
       "        EXEC_MIME_TYPE\n",
       "      );\n",
       "      this.keyboard_manager.register_events(toinsert);\n",
       "      // Render to node\n",
       "      var props = {data: data, metadata: metadata[EXEC_MIME_TYPE]};\n",
       "      render(props, toinsert[toinsert.length - 1]);\n",
       "      element.append(toinsert);\n",
       "      return toinsert\n",
       "    }\n",
       "\n",
       "    /* Handle when an output is cleared or removed */\n",
       "    events.on('clear_output.CodeCell', handleClearOutput);\n",
       "    events.on('delete.Cell', handleClearOutput);\n",
       "\n",
       "    /* Handle when a new output is added */\n",
       "    events.on('output_added.OutputArea', handleAddOutput);\n",
       "\n",
       "    /**\n",
       "     * Register the mime type and append_mime function with output_area\n",
       "     */\n",
       "    OutputArea.prototype.register_mime_type(EXEC_MIME_TYPE, append_mime, {\n",
       "      /* Is output safe? */\n",
       "      safe: true,\n",
       "      /* Index of renderer in `output_area.display_order` */\n",
       "      index: 0\n",
       "    });\n",
       "  }\n",
       "\n",
       "  // register the mime type if in Jupyter Notebook environment and previously unregistered\n",
       "  if (root.Jupyter !== undefined) {\n",
       "    var events = require('base/js/events');\n",
       "    var OutputArea = require('notebook/js/outputarea').OutputArea;\n",
       "\n",
       "    if (OutputArea.prototype.mime_types().indexOf(EXEC_MIME_TYPE) == -1) {\n",
       "      register_renderer(events, OutputArea);\n",
       "    }\n",
       "  }\n",
       "\n",
       "  \n",
       "  if (typeof (root._bokeh_timeout) === \"undefined\" || force === true) {\n",
       "    root._bokeh_timeout = Date.now() + 5000;\n",
       "    root._bokeh_failed_load = false;\n",
       "  }\n",
       "\n",
       "  var NB_LOAD_WARNING = {'data': {'text/html':\n",
       "     \"<div style='background-color: #fdd'>\\n\"+\n",
       "     \"<p>\\n\"+\n",
       "     \"BokehJS does not appear to have successfully loaded. If loading BokehJS from CDN, this \\n\"+\n",
       "     \"may be due to a slow or bad network connection. Possible fixes:\\n\"+\n",
       "     \"</p>\\n\"+\n",
       "     \"<ul>\\n\"+\n",
       "     \"<li>re-rerun `output_notebook()` to attempt to load from CDN again, or</li>\\n\"+\n",
       "     \"<li>use INLINE resources instead, as so:</li>\\n\"+\n",
       "     \"</ul>\\n\"+\n",
       "     \"<code>\\n\"+\n",
       "     \"from bokeh.resources import INLINE\\n\"+\n",
       "     \"output_notebook(resources=INLINE)\\n\"+\n",
       "     \"</code>\\n\"+\n",
       "     \"</div>\"}};\n",
       "\n",
       "  function display_loaded() {\n",
       "    var el = document.getElementById(\"7d256dea-997e-4b38-b407-557266959a3d\");\n",
       "    if (el != null) {\n",
       "      el.textContent = \"BokehJS is loading...\";\n",
       "    }\n",
       "    if (root.Bokeh !== undefined) {\n",
       "      if (el != null) {\n",
       "        el.textContent = \"BokehJS \" + root.Bokeh.version + \" successfully loaded.\";\n",
       "      }\n",
       "    } else if (Date.now() < root._bokeh_timeout) {\n",
       "      setTimeout(display_loaded, 100)\n",
       "    }\n",
       "  }\n",
       "\n",
       "\n",
       "  function run_callbacks() {\n",
       "    try {\n",
       "      root._bokeh_onload_callbacks.forEach(function(callback) { callback() });\n",
       "    }\n",
       "    finally {\n",
       "      delete root._bokeh_onload_callbacks\n",
       "    }\n",
       "    console.info(\"Bokeh: all callbacks have finished\");\n",
       "  }\n",
       "\n",
       "  function load_libs(js_urls, callback) {\n",
       "    root._bokeh_onload_callbacks.push(callback);\n",
       "    if (root._bokeh_is_loading > 0) {\n",
       "      console.log(\"Bokeh: BokehJS is being loaded, scheduling callback at\", now());\n",
       "      return null;\n",
       "    }\n",
       "    if (js_urls == null || js_urls.length === 0) {\n",
       "      run_callbacks();\n",
       "      return null;\n",
       "    }\n",
       "    console.log(\"Bokeh: BokehJS not loaded, scheduling load and callback at\", now());\n",
       "    root._bokeh_is_loading = js_urls.length;\n",
       "    for (var i = 0; i < js_urls.length; i++) {\n",
       "      var url = js_urls[i];\n",
       "      var s = document.createElement('script');\n",
       "      s.src = url;\n",
       "      s.async = false;\n",
       "      s.onreadystatechange = s.onload = function() {\n",
       "        root._bokeh_is_loading--;\n",
       "        if (root._bokeh_is_loading === 0) {\n",
       "          console.log(\"Bokeh: all BokehJS libraries loaded\");\n",
       "          run_callbacks()\n",
       "        }\n",
       "      };\n",
       "      s.onerror = function() {\n",
       "        console.warn(\"failed to load library \" + url);\n",
       "      };\n",
       "      console.log(\"Bokeh: injecting script tag for BokehJS library: \", url);\n",
       "      document.getElementsByTagName(\"head\")[0].appendChild(s);\n",
       "    }\n",
       "  };var element = document.getElementById(\"7d256dea-997e-4b38-b407-557266959a3d\");\n",
       "  if (element == null) {\n",
       "    console.log(\"Bokeh: ERROR: autoload.js configured with elementid '7d256dea-997e-4b38-b407-557266959a3d' but no matching script tag was found. \")\n",
       "    return false;\n",
       "  }\n",
       "\n",
       "  var js_urls = [\"https://cdn.pydata.org/bokeh/release/bokeh-0.13.0.min.js\", \"https://cdn.pydata.org/bokeh/release/bokeh-widgets-0.13.0.min.js\", \"https://cdn.pydata.org/bokeh/release/bokeh-tables-0.13.0.min.js\", \"https://cdn.pydata.org/bokeh/release/bokeh-gl-0.13.0.min.js\"];\n",
       "\n",
       "  var inline_js = [\n",
       "    function(Bokeh) {\n",
       "      Bokeh.set_log_level(\"info\");\n",
       "    },\n",
       "    \n",
       "    function(Bokeh) {\n",
       "      \n",
       "    },\n",
       "    function(Bokeh) {\n",
       "      console.log(\"Bokeh: injecting CSS: https://cdn.pydata.org/bokeh/release/bokeh-0.13.0.min.css\");\n",
       "      Bokeh.embed.inject_css(\"https://cdn.pydata.org/bokeh/release/bokeh-0.13.0.min.css\");\n",
       "      console.log(\"Bokeh: injecting CSS: https://cdn.pydata.org/bokeh/release/bokeh-widgets-0.13.0.min.css\");\n",
       "      Bokeh.embed.inject_css(\"https://cdn.pydata.org/bokeh/release/bokeh-widgets-0.13.0.min.css\");\n",
       "      console.log(\"Bokeh: injecting CSS: https://cdn.pydata.org/bokeh/release/bokeh-tables-0.13.0.min.css\");\n",
       "      Bokeh.embed.inject_css(\"https://cdn.pydata.org/bokeh/release/bokeh-tables-0.13.0.min.css\");\n",
       "    }\n",
       "  ];\n",
       "\n",
       "  function run_inline_js() {\n",
       "    \n",
       "    if ((root.Bokeh !== undefined) || (force === true)) {\n",
       "      for (var i = 0; i < inline_js.length; i++) {\n",
       "        inline_js[i].call(root, root.Bokeh);\n",
       "      }if (force === true) {\n",
       "        display_loaded();\n",
       "      }} else if (Date.now() < root._bokeh_timeout) {\n",
       "      setTimeout(run_inline_js, 100);\n",
       "    } else if (!root._bokeh_failed_load) {\n",
       "      console.log(\"Bokeh: BokehJS failed to load within specified timeout.\");\n",
       "      root._bokeh_failed_load = true;\n",
       "    } else if (force !== true) {\n",
       "      var cell = $(document.getElementById(\"7d256dea-997e-4b38-b407-557266959a3d\")).parents('.cell').data().cell;\n",
       "      cell.output_area.append_execute_result(NB_LOAD_WARNING)\n",
       "    }\n",
       "\n",
       "  }\n",
       "\n",
       "  if (root._bokeh_is_loading === 0) {\n",
       "    console.log(\"Bokeh: BokehJS loaded, going straight to plotting\");\n",
       "    run_inline_js();\n",
       "  } else {\n",
       "    load_libs(js_urls, function() {\n",
       "      console.log(\"Bokeh: BokehJS plotting callback run at\", now());\n",
       "      run_inline_js();\n",
       "    });\n",
       "  }\n",
       "}(window));"
      ],
      "application/vnd.bokehjs_load.v0+json": "\n(function(root) {\n  function now() {\n    return new Date();\n  }\n\n  var force = true;\n\n  if (typeof (root._bokeh_onload_callbacks) === \"undefined\" || force === true) {\n    root._bokeh_onload_callbacks = [];\n    root._bokeh_is_loading = undefined;\n  }\n\n  \n\n  \n  if (typeof (root._bokeh_timeout) === \"undefined\" || force === true) {\n    root._bokeh_timeout = Date.now() + 5000;\n    root._bokeh_failed_load = false;\n  }\n\n  var NB_LOAD_WARNING = {'data': {'text/html':\n     \"<div style='background-color: #fdd'>\\n\"+\n     \"<p>\\n\"+\n     \"BokehJS does not appear to have successfully loaded. If loading BokehJS from CDN, this \\n\"+\n     \"may be due to a slow or bad network connection. Possible fixes:\\n\"+\n     \"</p>\\n\"+\n     \"<ul>\\n\"+\n     \"<li>re-rerun `output_notebook()` to attempt to load from CDN again, or</li>\\n\"+\n     \"<li>use INLINE resources instead, as so:</li>\\n\"+\n     \"</ul>\\n\"+\n     \"<code>\\n\"+\n     \"from bokeh.resources import INLINE\\n\"+\n     \"output_notebook(resources=INLINE)\\n\"+\n     \"</code>\\n\"+\n     \"</div>\"}};\n\n  function display_loaded() {\n    var el = document.getElementById(\"7d256dea-997e-4b38-b407-557266959a3d\");\n    if (el != null) {\n      el.textContent = \"BokehJS is loading...\";\n    }\n    if (root.Bokeh !== undefined) {\n      if (el != null) {\n        el.textContent = \"BokehJS \" + root.Bokeh.version + \" successfully loaded.\";\n      }\n    } else if (Date.now() < root._bokeh_timeout) {\n      setTimeout(display_loaded, 100)\n    }\n  }\n\n\n  function run_callbacks() {\n    try {\n      root._bokeh_onload_callbacks.forEach(function(callback) { callback() });\n    }\n    finally {\n      delete root._bokeh_onload_callbacks\n    }\n    console.info(\"Bokeh: all callbacks have finished\");\n  }\n\n  function load_libs(js_urls, callback) {\n    root._bokeh_onload_callbacks.push(callback);\n    if (root._bokeh_is_loading > 0) {\n      console.log(\"Bokeh: BokehJS is being loaded, scheduling callback at\", now());\n      return null;\n    }\n    if (js_urls == null || js_urls.length === 0) {\n      run_callbacks();\n      return null;\n    }\n    console.log(\"Bokeh: BokehJS not loaded, scheduling load and callback at\", now());\n    root._bokeh_is_loading = js_urls.length;\n    for (var i = 0; i < js_urls.length; i++) {\n      var url = js_urls[i];\n      var s = document.createElement('script');\n      s.src = url;\n      s.async = false;\n      s.onreadystatechange = s.onload = function() {\n        root._bokeh_is_loading--;\n        if (root._bokeh_is_loading === 0) {\n          console.log(\"Bokeh: all BokehJS libraries loaded\");\n          run_callbacks()\n        }\n      };\n      s.onerror = function() {\n        console.warn(\"failed to load library \" + url);\n      };\n      console.log(\"Bokeh: injecting script tag for BokehJS library: \", url);\n      document.getElementsByTagName(\"head\")[0].appendChild(s);\n    }\n  };var element = document.getElementById(\"7d256dea-997e-4b38-b407-557266959a3d\");\n  if (element == null) {\n    console.log(\"Bokeh: ERROR: autoload.js configured with elementid '7d256dea-997e-4b38-b407-557266959a3d' but no matching script tag was found. \")\n    return false;\n  }\n\n  var js_urls = [\"https://cdn.pydata.org/bokeh/release/bokeh-0.13.0.min.js\", \"https://cdn.pydata.org/bokeh/release/bokeh-widgets-0.13.0.min.js\", \"https://cdn.pydata.org/bokeh/release/bokeh-tables-0.13.0.min.js\", \"https://cdn.pydata.org/bokeh/release/bokeh-gl-0.13.0.min.js\"];\n\n  var inline_js = [\n    function(Bokeh) {\n      Bokeh.set_log_level(\"info\");\n    },\n    \n    function(Bokeh) {\n      \n    },\n    function(Bokeh) {\n      console.log(\"Bokeh: injecting CSS: https://cdn.pydata.org/bokeh/release/bokeh-0.13.0.min.css\");\n      Bokeh.embed.inject_css(\"https://cdn.pydata.org/bokeh/release/bokeh-0.13.0.min.css\");\n      console.log(\"Bokeh: injecting CSS: https://cdn.pydata.org/bokeh/release/bokeh-widgets-0.13.0.min.css\");\n      Bokeh.embed.inject_css(\"https://cdn.pydata.org/bokeh/release/bokeh-widgets-0.13.0.min.css\");\n      console.log(\"Bokeh: injecting CSS: https://cdn.pydata.org/bokeh/release/bokeh-tables-0.13.0.min.css\");\n      Bokeh.embed.inject_css(\"https://cdn.pydata.org/bokeh/release/bokeh-tables-0.13.0.min.css\");\n    }\n  ];\n\n  function run_inline_js() {\n    \n    if ((root.Bokeh !== undefined) || (force === true)) {\n      for (var i = 0; i < inline_js.length; i++) {\n        inline_js[i].call(root, root.Bokeh);\n      }if (force === true) {\n        display_loaded();\n      }} else if (Date.now() < root._bokeh_timeout) {\n      setTimeout(run_inline_js, 100);\n    } else if (!root._bokeh_failed_load) {\n      console.log(\"Bokeh: BokehJS failed to load within specified timeout.\");\n      root._bokeh_failed_load = true;\n    } else if (force !== true) {\n      var cell = $(document.getElementById(\"7d256dea-997e-4b38-b407-557266959a3d\")).parents('.cell').data().cell;\n      cell.output_area.append_execute_result(NB_LOAD_WARNING)\n    }\n\n  }\n\n  if (root._bokeh_is_loading === 0) {\n    console.log(\"Bokeh: BokehJS loaded, going straight to plotting\");\n    run_inline_js();\n  } else {\n    load_libs(js_urls, function() {\n      console.log(\"Bokeh: BokehJS plotting callback run at\", now());\n      run_inline_js();\n    });\n  }\n}(window));"
     },
     "metadata": {},
     "output_type": "display_data"
    }
   ],
   "source": [
    "import bokeh\n",
    "import itertools\n",
    "import numpy as np\n",
    "from bokeh.plotting import figure, show, output_file\n",
    "import bokeh.palettes as ccycle\n",
    "from bokeh.io import output_notebook, export_png\n",
    "output_notebook()"
   ]
  },
  {
   "cell_type": "code",
   "execution_count": 2,
   "metadata": {},
   "outputs": [],
   "source": [
    "a1=[10,15,6,7]\n",
    "a2=[9,8,18,10]\n",
    "a3=[0,24,5,7]\n",
    "a4=[12,16,5,3]\n",
    "a5=[13,13,13,2]"
   ]
  },
  {
   "cell_type": "code",
   "execution_count": 3,
   "metadata": {},
   "outputs": [],
   "source": [
    "a=[a1,a2,a3,a4,a5]\n",
    "#we need to obtain the max values of our data\n",
    "max_vals=[sum(seg) for seg in a]\n",
    "max_val=max([sum(seg) for seg in a])"
   ]
  },
  {
   "cell_type": "code",
   "execution_count": 4,
   "metadata": {},
   "outputs": [],
   "source": [
    "Angle_Increment=(np.pi*2.0)/(len(a))"
   ]
  },
  {
   "cell_type": "code",
   "execution_count": 5,
   "metadata": {},
   "outputs": [
    {
     "data": {
      "text/plain": [
       "1.2566370614359172"
      ]
     },
     "execution_count": 5,
     "metadata": {},
     "output_type": "execute_result"
    }
   ],
   "source": [
    "Angle_Increment"
   ]
  },
  {
   "cell_type": "code",
   "execution_count": 6,
   "metadata": {},
   "outputs": [
    {
     "data": {
      "text/plain": [
       "6.283185307179586"
      ]
     },
     "execution_count": 6,
     "metadata": {},
     "output_type": "execute_result"
    }
   ],
   "source": [
    "2.0*np.pi"
   ]
  },
  {
   "cell_type": "code",
   "execution_count": 7,
   "metadata": {},
   "outputs": [
    {
     "name": "stdout",
     "output_type": "stream",
     "text": [
      "[0.0, 1.2566370614359172, 2.5132741228718345, 3.7699111843077517, 5.026548245743669] [1.2566370614359172, 2.5132741228718345, 3.7699111843077517, 5.026548245743669, 6.283185307179586]\n"
     ]
    }
   ],
   "source": [
    "Angle_Small=[x*Angle_Increment for x in range(0,len(a))]\n",
    "Angle_Big=[x+Angle_Increment for x in Angle_Small]\n",
    "As=[[sum(x[0:i+1]) for x in a] for i in range(0,len(a[0]))]\n",
    "#print(A1,A2,A3)\n",
    "print(Angle_Small, Angle_Big)"
   ]
  },
  {
   "cell_type": "code",
   "execution_count": 14,
   "metadata": {},
   "outputs": [
    {
     "name": "stdout",
     "output_type": "stream",
     "text": [
      "0\n",
      "1\n",
      "2\n",
      "3\n"
     ]
    },
    {
     "data": {
      "text/html": [
       "\n",
       "\n",
       "\n",
       "\n",
       "\n",
       "\n",
       "  <div class=\"bk-root\" id=\"ceed72f2-1813-4468-809d-899a15e4fa40\"></div>\n"
      ]
     },
     "metadata": {},
     "output_type": "display_data"
    },
    {
     "data": {
      "application/javascript": [
       "(function(root) {\n",
       "  function embed_document(root) {\n",
       "    \n",
       "  var docs_json = {\"bc58fed3-5b33-4554-8402-0960bf8cd0e7\":{\"roots\":{\"references\":[{\"attributes\":{\"callback\":null,\"data\":{\"end_angle\":[1.2566370614359172,2.5132741228718345,3.7699111843077517,5.026548245743669,6.283185307179586],\"inner_radius\":[25,17,24,28,26],\"outer_radius\":[31,35,29,33,39],\"start_angle\":[0.0,1.2566370614359172,2.5132741228718345,3.7699111843077517,5.026548245743669]},\"selected\":{\"id\":\"cfd14a15-caf7-4753-b3d6-8976b78336cf\",\"type\":\"Selection\"},\"selection_policy\":{\"id\":\"a8479130-99ff-4dcc-a6bd-6efea54fde51\",\"type\":\"UnionRenderers\"}},\"id\":\"706fd8c8-e071-42cd-88ff-f957db3daa71\",\"type\":\"ColumnDataSource\"},{\"attributes\":{\"data_source\":{\"id\":\"37446220-5f34-42f9-b0ec-697d64ef2de5\",\"type\":\"ColumnDataSource\"},\"glyph\":{\"id\":\"7b927d8c-3270-4574-a085-f5dbe1a1fa94\",\"type\":\"AnnularWedge\"},\"hover_glyph\":null,\"muted_glyph\":null,\"nonselection_glyph\":{\"id\":\"da12b829-0a38-4e3a-b291-6e4a01dd94ae\",\"type\":\"AnnularWedge\"},\"selection_glyph\":null,\"view\":{\"id\":\"62254674-84f3-407f-8290-1aed89febeb2\",\"type\":\"CDSView\"}},\"id\":\"17afadaf-e4dd-41a8-9be7-3b9bd5123f97\",\"type\":\"GlyphRenderer\"},{\"attributes\":{\"end_angle\":{\"field\":\"end_angle\",\"units\":\"rad\"},\"fill_alpha\":{\"value\":0.1},\"fill_color\":{\"value\":\"#1f77b4\"},\"inner_radius\":{\"field\":\"inner_radius\",\"units\":\"data\"},\"line_alpha\":{\"value\":0.1},\"line_color\":{\"value\":\"#1f77b4\"},\"outer_radius\":{\"field\":\"outer_radius\",\"units\":\"data\"},\"start_angle\":{\"field\":\"start_angle\",\"units\":\"rad\"},\"x\":{\"value\":0},\"y\":{\"value\":0}},\"id\":\"da12b829-0a38-4e3a-b291-6e4a01dd94ae\",\"type\":\"AnnularWedge\"},{\"attributes\":{\"source\":{\"id\":\"37446220-5f34-42f9-b0ec-697d64ef2de5\",\"type\":\"ColumnDataSource\"}},\"id\":\"62254674-84f3-407f-8290-1aed89febeb2\",\"type\":\"CDSView\"},{\"attributes\":{\"callback\":null,\"data\":{\"end_angle\":[1.2566370614359172,2.5132741228718345,3.7699111843077517,5.026548245743669,6.283185307179586],\"inner_radius\":[31,35,29,33,39],\"outer_radius\":[38,45,36,36,41],\"start_angle\":[0.0,1.2566370614359172,2.5132741228718345,3.7699111843077517,5.026548245743669]},\"selected\":{\"id\":\"35cc1cb4-8179-441c-96fa-f85939898f92\",\"type\":\"Selection\"},\"selection_policy\":{\"id\":\"aa70310a-55ff-4453-8cd9-9fd4b9fd4128\",\"type\":\"UnionRenderers\"}},\"id\":\"77c0e5b6-1ff5-4c11-82d7-467d8b613f0d\",\"type\":\"ColumnDataSource\"},{\"attributes\":{\"end_angle\":{\"field\":\"end_angle\",\"units\":\"rad\"},\"fill_color\":{\"value\":\"green\"},\"inner_radius\":{\"field\":\"inner_radius\",\"units\":\"data\"},\"line_color\":{\"value\":null},\"outer_radius\":{\"field\":\"outer_radius\",\"units\":\"data\"},\"start_angle\":{\"field\":\"start_angle\",\"units\":\"rad\"},\"x\":{\"value\":0},\"y\":{\"value\":0}},\"id\":\"d42db945-1400-4ca1-92aa-2cc04850704b\",\"type\":\"AnnularWedge\"},{\"attributes\":{\"below\":[{\"id\":\"432a5e29-c459-43ee-934c-fafc187cb311\",\"type\":\"LinearAxis\"}],\"left\":[{\"id\":\"0a103ea7-3852-40a4-a0c3-bddbca002b57\",\"type\":\"LinearAxis\"}],\"plot_height\":400,\"plot_width\":400,\"renderers\":[{\"id\":\"432a5e29-c459-43ee-934c-fafc187cb311\",\"type\":\"LinearAxis\"},{\"id\":\"e41ab780-0b05-4c35-bb21-bc858135cb0b\",\"type\":\"Grid\"},{\"id\":\"0a103ea7-3852-40a4-a0c3-bddbca002b57\",\"type\":\"LinearAxis\"},{\"id\":\"9bf8b8b0-1d4e-436b-a4a3-63c3e6cb9e15\",\"type\":\"Grid\"},{\"id\":\"8029cf39-c3d4-44ad-915f-1f32ffde19fc\",\"type\":\"BoxAnnotation\"},{\"id\":\"611c6f8c-6e15-42e4-a3a2-cbca7355e41d\",\"type\":\"GlyphRenderer\"},{\"id\":\"17afadaf-e4dd-41a8-9be7-3b9bd5123f97\",\"type\":\"GlyphRenderer\"},{\"id\":\"67a8d106-c3dc-4393-9196-d648ee05be65\",\"type\":\"GlyphRenderer\"},{\"id\":\"c56e3378-0f6d-474d-b23f-09a26a6c6b19\",\"type\":\"GlyphRenderer\"}],\"title\":{\"id\":\"6c54db42-35a9-40c9-98b1-1e002ccd3e2d\",\"type\":\"Title\"},\"toolbar\":{\"id\":\"6f21677f-4d4b-431c-9f0b-b808d7e7487c\",\"type\":\"Toolbar\"},\"x_range\":{\"id\":\"82889587-ceea-4167-a9f1-167021f90fc9\",\"type\":\"Range1d\"},\"x_scale\":{\"id\":\"e122aa4c-ebc3-4942-b39a-805183b0491d\",\"type\":\"LinearScale\"},\"y_range\":{\"id\":\"6e8f85d5-bc50-4d76-9a14-edc2893d2404\",\"type\":\"Range1d\"},\"y_scale\":{\"id\":\"70055542-ebb1-447d-9910-ae4acbf8c369\",\"type\":\"LinearScale\"}},\"id\":\"d65c92f1-ce72-49d5-9a63-82cefc88fdc1\",\"subtype\":\"Figure\",\"type\":\"Plot\"},{\"attributes\":{\"end_angle\":{\"field\":\"end_angle\",\"units\":\"rad\"},\"fill_alpha\":{\"value\":0.1},\"fill_color\":{\"value\":\"#1f77b4\"},\"inner_radius\":{\"field\":\"inner_radius\",\"units\":\"data\"},\"line_alpha\":{\"value\":0.1},\"line_color\":{\"value\":\"#1f77b4\"},\"outer_radius\":{\"field\":\"outer_radius\",\"units\":\"data\"},\"start_angle\":{\"field\":\"start_angle\",\"units\":\"rad\"},\"x\":{\"value\":0},\"y\":{\"value\":0}},\"id\":\"ed24d876-c725-49b5-a9f8-00bea0c04aeb\",\"type\":\"AnnularWedge\"},{\"attributes\":{\"end_angle\":{\"field\":\"end_angle\",\"units\":\"rad\"},\"fill_alpha\":{\"value\":0.1},\"fill_color\":{\"value\":\"#1f77b4\"},\"inner_radius\":{\"units\":\"data\",\"value\":0},\"line_alpha\":{\"value\":0.1},\"line_color\":{\"value\":\"#1f77b4\"},\"outer_radius\":{\"field\":\"outer_radius\",\"units\":\"data\"},\"start_angle\":{\"field\":\"start_angle\",\"units\":\"rad\"},\"x\":{\"value\":0},\"y\":{\"value\":0}},\"id\":\"16bcc91b-2e85-4667-9473-c2338e25b5f5\",\"type\":\"AnnularWedge\"},{\"attributes\":{\"data_source\":{\"id\":\"706fd8c8-e071-42cd-88ff-f957db3daa71\",\"type\":\"ColumnDataSource\"},\"glyph\":{\"id\":\"d42db945-1400-4ca1-92aa-2cc04850704b\",\"type\":\"AnnularWedge\"},\"hover_glyph\":null,\"muted_glyph\":null,\"nonselection_glyph\":{\"id\":\"ed24d876-c725-49b5-a9f8-00bea0c04aeb\",\"type\":\"AnnularWedge\"},\"selection_glyph\":null,\"view\":{\"id\":\"fa8c4373-198e-4080-ab17-1cb139e2076c\",\"type\":\"CDSView\"}},\"id\":\"67a8d106-c3dc-4393-9196-d648ee05be65\",\"type\":\"GlyphRenderer\"},{\"attributes\":{\"active_drag\":\"auto\",\"active_inspect\":\"auto\",\"active_multi\":null,\"active_scroll\":\"auto\",\"active_tap\":\"auto\",\"tools\":[{\"id\":\"da2e49a5-eb09-43b2-b446-4bf8a46873d1\",\"type\":\"PanTool\"},{\"id\":\"a59d07bd-2530-4bc3-af21-950661c7398b\",\"type\":\"WheelZoomTool\"},{\"id\":\"c63277fd-31a4-46b0-afac-b0bbfe11ae6c\",\"type\":\"BoxZoomTool\"},{\"id\":\"551aa9b7-4944-457d-a2c4-985f4bbb2f07\",\"type\":\"SaveTool\"},{\"id\":\"93ae1ad0-148a-4952-ae50-5d50788c0862\",\"type\":\"ResetTool\"},{\"id\":\"81254398-4dd6-4bf0-b88c-22ab1e8b5303\",\"type\":\"HelpTool\"}]},\"id\":\"6f21677f-4d4b-431c-9f0b-b808d7e7487c\",\"type\":\"Toolbar\"},{\"attributes\":{\"source\":{\"id\":\"706fd8c8-e071-42cd-88ff-f957db3daa71\",\"type\":\"ColumnDataSource\"}},\"id\":\"fa8c4373-198e-4080-ab17-1cb139e2076c\",\"type\":\"CDSView\"},{\"attributes\":{\"callback\":null,\"end\":58.5,\"start\":-58.5},\"id\":\"82889587-ceea-4167-a9f1-167021f90fc9\",\"type\":\"Range1d\"},{\"attributes\":{\"callback\":null,\"data\":{\"end_angle\":[1.2566370614359172,2.5132741228718345,3.7699111843077517,5.026548245743669,6.283185307179586],\"outer_radius\":[10,9,0,12,13],\"start_angle\":[0.0,1.2566370614359172,2.5132741228718345,3.7699111843077517,5.026548245743669]},\"selected\":{\"id\":\"51004deb-9738-4034-83c9-e45cf4d81a18\",\"type\":\"Selection\"},\"selection_policy\":{\"id\":\"71f48edf-eac5-4637-8634-aa81e740cc74\",\"type\":\"UnionRenderers\"}},\"id\":\"7076eb45-73c5-4c18-acde-96172c406e9a\",\"type\":\"ColumnDataSource\"},{\"attributes\":{\"callback\":null,\"end\":58.5,\"start\":-58.5},\"id\":\"6e8f85d5-bc50-4d76-9a14-edc2893d2404\",\"type\":\"Range1d\"},{\"attributes\":{\"end_angle\":{\"field\":\"end_angle\",\"units\":\"rad\"},\"fill_color\":{\"value\":\"yellow\"},\"inner_radius\":{\"field\":\"inner_radius\",\"units\":\"data\"},\"line_color\":{\"value\":null},\"outer_radius\":{\"field\":\"outer_radius\",\"units\":\"data\"},\"start_angle\":{\"field\":\"start_angle\",\"units\":\"rad\"},\"x\":{\"value\":0},\"y\":{\"value\":0}},\"id\":\"989ecd5f-0e49-4bd1-9f3d-09c3cb0785f6\",\"type\":\"AnnularWedge\"},{\"attributes\":{},\"id\":\"e122aa4c-ebc3-4942-b39a-805183b0491d\",\"type\":\"LinearScale\"},{\"attributes\":{\"end_angle\":{\"field\":\"end_angle\",\"units\":\"rad\"},\"fill_alpha\":{\"value\":0.1},\"fill_color\":{\"value\":\"#1f77b4\"},\"inner_radius\":{\"field\":\"inner_radius\",\"units\":\"data\"},\"line_alpha\":{\"value\":0.1},\"line_color\":{\"value\":\"#1f77b4\"},\"outer_radius\":{\"field\":\"outer_radius\",\"units\":\"data\"},\"start_angle\":{\"field\":\"start_angle\",\"units\":\"rad\"},\"x\":{\"value\":0},\"y\":{\"value\":0}},\"id\":\"4d9cde46-e480-4064-b347-fdebe26ac762\",\"type\":\"AnnularWedge\"},{\"attributes\":{},\"id\":\"70055542-ebb1-447d-9910-ae4acbf8c369\",\"type\":\"LinearScale\"},{\"attributes\":{\"data_source\":{\"id\":\"77c0e5b6-1ff5-4c11-82d7-467d8b613f0d\",\"type\":\"ColumnDataSource\"},\"glyph\":{\"id\":\"989ecd5f-0e49-4bd1-9f3d-09c3cb0785f6\",\"type\":\"AnnularWedge\"},\"hover_glyph\":null,\"muted_glyph\":null,\"nonselection_glyph\":{\"id\":\"4d9cde46-e480-4064-b347-fdebe26ac762\",\"type\":\"AnnularWedge\"},\"selection_glyph\":null,\"view\":{\"id\":\"085023ab-8520-443a-b1a4-6ebf7219ead4\",\"type\":\"CDSView\"}},\"id\":\"c56e3378-0f6d-474d-b23f-09a26a6c6b19\",\"type\":\"GlyphRenderer\"},{\"attributes\":{\"plot\":{\"id\":\"d65c92f1-ce72-49d5-9a63-82cefc88fdc1\",\"subtype\":\"Figure\",\"type\":\"Plot\"},\"ticker\":{\"id\":\"7eeb0a96-0d10-4fea-b54d-59ac868be1df\",\"type\":\"BasicTicker\"}},\"id\":\"e41ab780-0b05-4c35-bb21-bc858135cb0b\",\"type\":\"Grid\"},{\"attributes\":{\"source\":{\"id\":\"77c0e5b6-1ff5-4c11-82d7-467d8b613f0d\",\"type\":\"ColumnDataSource\"}},\"id\":\"085023ab-8520-443a-b1a4-6ebf7219ead4\",\"type\":\"CDSView\"},{\"attributes\":{\"formatter\":{\"id\":\"6b788f4a-5ec9-4f58-ad71-c8ffb82be02c\",\"type\":\"BasicTickFormatter\"},\"plot\":{\"id\":\"d65c92f1-ce72-49d5-9a63-82cefc88fdc1\",\"subtype\":\"Figure\",\"type\":\"Plot\"},\"ticker\":{\"id\":\"7eeb0a96-0d10-4fea-b54d-59ac868be1df\",\"type\":\"BasicTicker\"}},\"id\":\"432a5e29-c459-43ee-934c-fafc187cb311\",\"type\":\"LinearAxis\"},{\"attributes\":{},\"id\":\"7eeb0a96-0d10-4fea-b54d-59ac868be1df\",\"type\":\"BasicTicker\"},{\"attributes\":{},\"id\":\"6b788f4a-5ec9-4f58-ad71-c8ffb82be02c\",\"type\":\"BasicTickFormatter\"},{\"attributes\":{\"formatter\":{\"id\":\"acffbe79-4f26-4b99-a495-2b261235b05c\",\"type\":\"BasicTickFormatter\"},\"plot\":{\"id\":\"d65c92f1-ce72-49d5-9a63-82cefc88fdc1\",\"subtype\":\"Figure\",\"type\":\"Plot\"},\"ticker\":{\"id\":\"748500f8-586c-4d00-aa06-5fc3c7a1a98d\",\"type\":\"BasicTicker\"}},\"id\":\"0a103ea7-3852-40a4-a0c3-bddbca002b57\",\"type\":\"LinearAxis\"},{\"attributes\":{},\"id\":\"acffbe79-4f26-4b99-a495-2b261235b05c\",\"type\":\"BasicTickFormatter\"},{\"attributes\":{},\"id\":\"748500f8-586c-4d00-aa06-5fc3c7a1a98d\",\"type\":\"BasicTicker\"},{\"attributes\":{},\"id\":\"51004deb-9738-4034-83c9-e45cf4d81a18\",\"type\":\"Selection\"},{\"attributes\":{\"dimension\":1,\"plot\":{\"id\":\"d65c92f1-ce72-49d5-9a63-82cefc88fdc1\",\"subtype\":\"Figure\",\"type\":\"Plot\"},\"ticker\":{\"id\":\"748500f8-586c-4d00-aa06-5fc3c7a1a98d\",\"type\":\"BasicTicker\"}},\"id\":\"9bf8b8b0-1d4e-436b-a4a3-63c3e6cb9e15\",\"type\":\"Grid\"},{\"attributes\":{},\"id\":\"71f48edf-eac5-4637-8634-aa81e740cc74\",\"type\":\"UnionRenderers\"},{\"attributes\":{\"end_angle\":{\"field\":\"end_angle\",\"units\":\"rad\"},\"fill_color\":{\"value\":\"red\"},\"inner_radius\":{\"units\":\"data\",\"value\":0},\"line_color\":{\"value\":null},\"outer_radius\":{\"field\":\"outer_radius\",\"units\":\"data\"},\"start_angle\":{\"field\":\"start_angle\",\"units\":\"rad\"},\"x\":{\"value\":0},\"y\":{\"value\":0}},\"id\":\"b1cc4eee-cd08-4423-be5d-7199dd393629\",\"type\":\"AnnularWedge\"},{\"attributes\":{},\"id\":\"3c438c82-01f5-495b-bf74-732d3750ce03\",\"type\":\"Selection\"},{\"attributes\":{\"end_angle\":{\"field\":\"end_angle\",\"units\":\"rad\"},\"fill_color\":{\"value\":\"blue\"},\"inner_radius\":{\"field\":\"inner_radius\",\"units\":\"data\"},\"line_color\":{\"value\":null},\"outer_radius\":{\"field\":\"outer_radius\",\"units\":\"data\"},\"start_angle\":{\"field\":\"start_angle\",\"units\":\"rad\"},\"x\":{\"value\":0},\"y\":{\"value\":0}},\"id\":\"7b927d8c-3270-4574-a085-f5dbe1a1fa94\",\"type\":\"AnnularWedge\"},{\"attributes\":{},\"id\":\"965f45b0-f30a-4105-81ef-115d9085933c\",\"type\":\"UnionRenderers\"},{\"attributes\":{\"source\":{\"id\":\"7076eb45-73c5-4c18-acde-96172c406e9a\",\"type\":\"ColumnDataSource\"}},\"id\":\"6df797dd-a711-4639-a643-83f2b18ae8b9\",\"type\":\"CDSView\"},{\"attributes\":{},\"id\":\"cfd14a15-caf7-4753-b3d6-8976b78336cf\",\"type\":\"Selection\"},{\"attributes\":{},\"id\":\"da2e49a5-eb09-43b2-b446-4bf8a46873d1\",\"type\":\"PanTool\"},{\"attributes\":{},\"id\":\"a8479130-99ff-4dcc-a6bd-6efea54fde51\",\"type\":\"UnionRenderers\"},{\"attributes\":{\"data_source\":{\"id\":\"7076eb45-73c5-4c18-acde-96172c406e9a\",\"type\":\"ColumnDataSource\"},\"glyph\":{\"id\":\"b1cc4eee-cd08-4423-be5d-7199dd393629\",\"type\":\"AnnularWedge\"},\"hover_glyph\":null,\"muted_glyph\":null,\"nonselection_glyph\":{\"id\":\"16bcc91b-2e85-4667-9473-c2338e25b5f5\",\"type\":\"AnnularWedge\"},\"selection_glyph\":null,\"view\":{\"id\":\"6df797dd-a711-4639-a643-83f2b18ae8b9\",\"type\":\"CDSView\"}},\"id\":\"611c6f8c-6e15-42e4-a3a2-cbca7355e41d\",\"type\":\"GlyphRenderer\"},{\"attributes\":{},\"id\":\"35cc1cb4-8179-441c-96fa-f85939898f92\",\"type\":\"Selection\"},{\"attributes\":{},\"id\":\"a59d07bd-2530-4bc3-af21-950661c7398b\",\"type\":\"WheelZoomTool\"},{\"attributes\":{},\"id\":\"aa70310a-55ff-4453-8cd9-9fd4b9fd4128\",\"type\":\"UnionRenderers\"},{\"attributes\":{\"overlay\":{\"id\":\"8029cf39-c3d4-44ad-915f-1f32ffde19fc\",\"type\":\"BoxAnnotation\"}},\"id\":\"c63277fd-31a4-46b0-afac-b0bbfe11ae6c\",\"type\":\"BoxZoomTool\"},{\"attributes\":{},\"id\":\"551aa9b7-4944-457d-a2c4-985f4bbb2f07\",\"type\":\"SaveTool\"},{\"attributes\":{},\"id\":\"93ae1ad0-148a-4952-ae50-5d50788c0862\",\"type\":\"ResetTool\"},{\"attributes\":{},\"id\":\"81254398-4dd6-4bf0-b88c-22ab1e8b5303\",\"type\":\"HelpTool\"},{\"attributes\":{\"bottom_units\":\"screen\",\"fill_alpha\":{\"value\":0.5},\"fill_color\":{\"value\":\"lightgrey\"},\"left_units\":\"screen\",\"level\":\"overlay\",\"line_alpha\":{\"value\":1.0},\"line_color\":{\"value\":\"black\"},\"line_dash\":[4,4],\"line_width\":{\"value\":2},\"plot\":null,\"render_mode\":\"css\",\"right_units\":\"screen\",\"top_units\":\"screen\"},\"id\":\"8029cf39-c3d4-44ad-915f-1f32ffde19fc\",\"type\":\"BoxAnnotation\"},{\"attributes\":{\"plot\":null,\"text\":\"\"},\"id\":\"6c54db42-35a9-40c9-98b1-1e002ccd3e2d\",\"type\":\"Title\"},{\"attributes\":{\"callback\":null,\"data\":{\"end_angle\":[1.2566370614359172,2.5132741228718345,3.7699111843077517,5.026548245743669,6.283185307179586],\"inner_radius\":[10,9,0,12,13],\"outer_radius\":[25,17,24,28,26],\"start_angle\":[0.0,1.2566370614359172,2.5132741228718345,3.7699111843077517,5.026548245743669]},\"selected\":{\"id\":\"3c438c82-01f5-495b-bf74-732d3750ce03\",\"type\":\"Selection\"},\"selection_policy\":{\"id\":\"965f45b0-f30a-4105-81ef-115d9085933c\",\"type\":\"UnionRenderers\"}},\"id\":\"37446220-5f34-42f9-b0ec-697d64ef2de5\",\"type\":\"ColumnDataSource\"}],\"root_ids\":[\"d65c92f1-ce72-49d5-9a63-82cefc88fdc1\"]},\"title\":\"Bokeh Application\",\"version\":\"0.13.0\"}};\n",
       "  var render_items = [{\"docid\":\"bc58fed3-5b33-4554-8402-0960bf8cd0e7\",\"roots\":{\"d65c92f1-ce72-49d5-9a63-82cefc88fdc1\":\"ceed72f2-1813-4468-809d-899a15e4fa40\"}}];\n",
       "  root.Bokeh.embed.embed_items_notebook(docs_json, render_items);\n",
       "\n",
       "  }\n",
       "  if (root.Bokeh !== undefined) {\n",
       "    embed_document(root);\n",
       "  } else {\n",
       "    var attempts = 0;\n",
       "    var timer = setInterval(function(root) {\n",
       "      if (root.Bokeh !== undefined) {\n",
       "        embed_document(root);\n",
       "        clearInterval(timer);\n",
       "      }\n",
       "      attempts++;\n",
       "      if (attempts > 100) {\n",
       "        console.log(\"Bokeh: ERROR: Unable to run BokehJS code because BokehJS library is missing\")\n",
       "        clearInterval(timer);\n",
       "      }\n",
       "    }, 10, root)\n",
       "  }\n",
       "})(window);"
      ],
      "application/vnd.bokehjs_exec.v0+json": ""
     },
     "metadata": {
      "application/vnd.bokehjs_exec.v0+json": {
       "id": "d65c92f1-ce72-49d5-9a63-82cefc88fdc1"
      }
     },
     "output_type": "display_data"
    },
    {
     "ename": "RuntimeError",
     "evalue": "PhantomJS is not present in PATH. Try \"conda install phantomjs\" or             \"npm install -g phantomjs-prebuilt\"",
     "output_type": "error",
     "traceback": [
      "\u001b[1;31m---------------------------------------------------------------------------\u001b[0m",
      "\u001b[1;31mFileNotFoundError\u001b[0m                         Traceback (most recent call last)",
      "\u001b[1;32mC:\\ProgramData\\Anaconda3\\lib\\site-packages\\bokeh\\util\\dependencies.py\u001b[0m in \u001b[0;36mdetect_phantomjs\u001b[1;34m(version)\u001b[0m\n\u001b[0;32m     77\u001b[0m     \u001b[1;32mtry\u001b[0m\u001b[1;33m:\u001b[0m\u001b[1;33m\u001b[0m\u001b[0m\n\u001b[1;32m---> 78\u001b[1;33m         \u001b[0mproc\u001b[0m \u001b[1;33m=\u001b[0m \u001b[0mPopen\u001b[0m\u001b[1;33m(\u001b[0m\u001b[1;33m[\u001b[0m\u001b[0mphantomjs_path\u001b[0m\u001b[1;33m,\u001b[0m \u001b[1;34m\"--version\"\u001b[0m\u001b[1;33m]\u001b[0m\u001b[1;33m,\u001b[0m \u001b[0mstdout\u001b[0m\u001b[1;33m=\u001b[0m\u001b[0mPIPE\u001b[0m\u001b[1;33m,\u001b[0m \u001b[0mstderr\u001b[0m\u001b[1;33m=\u001b[0m\u001b[0mPIPE\u001b[0m\u001b[1;33m)\u001b[0m\u001b[1;33m\u001b[0m\u001b[0m\n\u001b[0m\u001b[0;32m     79\u001b[0m         \u001b[0mproc\u001b[0m\u001b[1;33m.\u001b[0m\u001b[0mwait\u001b[0m\u001b[1;33m(\u001b[0m\u001b[1;33m)\u001b[0m\u001b[1;33m\u001b[0m\u001b[0m\n",
      "\u001b[1;32mC:\\ProgramData\\Anaconda3\\lib\\subprocess.py\u001b[0m in \u001b[0;36m__init__\u001b[1;34m(self, args, bufsize, executable, stdin, stdout, stderr, preexec_fn, close_fds, shell, cwd, env, universal_newlines, startupinfo, creationflags, restore_signals, start_new_session, pass_fds, encoding, errors, text)\u001b[0m\n\u001b[0;32m    755\u001b[0m                                 \u001b[0merrread\u001b[0m\u001b[1;33m,\u001b[0m \u001b[0merrwrite\u001b[0m\u001b[1;33m,\u001b[0m\u001b[1;33m\u001b[0m\u001b[0m\n\u001b[1;32m--> 756\u001b[1;33m                                 restore_signals, start_new_session)\n\u001b[0m\u001b[0;32m    757\u001b[0m         \u001b[1;32mexcept\u001b[0m\u001b[1;33m:\u001b[0m\u001b[1;33m\u001b[0m\u001b[0m\n",
      "\u001b[1;32mC:\\ProgramData\\Anaconda3\\lib\\subprocess.py\u001b[0m in \u001b[0;36m_execute_child\u001b[1;34m(self, args, executable, preexec_fn, close_fds, pass_fds, cwd, env, startupinfo, creationflags, shell, p2cread, p2cwrite, c2pread, c2pwrite, errread, errwrite, unused_restore_signals, unused_start_new_session)\u001b[0m\n\u001b[0;32m   1154\u001b[0m                                          \u001b[0mos\u001b[0m\u001b[1;33m.\u001b[0m\u001b[0mfspath\u001b[0m\u001b[1;33m(\u001b[0m\u001b[0mcwd\u001b[0m\u001b[1;33m)\u001b[0m \u001b[1;32mif\u001b[0m \u001b[0mcwd\u001b[0m \u001b[1;32mis\u001b[0m \u001b[1;32mnot\u001b[0m \u001b[1;32mNone\u001b[0m \u001b[1;32melse\u001b[0m \u001b[1;32mNone\u001b[0m\u001b[1;33m,\u001b[0m\u001b[1;33m\u001b[0m\u001b[0m\n\u001b[1;32m-> 1155\u001b[1;33m                                          startupinfo)\n\u001b[0m\u001b[0;32m   1156\u001b[0m             \u001b[1;32mfinally\u001b[0m\u001b[1;33m:\u001b[0m\u001b[1;33m\u001b[0m\u001b[0m\n",
      "\u001b[1;31mFileNotFoundError\u001b[0m: [WinError 2] The system cannot find the file specified",
      "\nDuring handling of the above exception, another exception occurred:\n",
      "\u001b[1;31mRuntimeError\u001b[0m                              Traceback (most recent call last)",
      "\u001b[1;32m<ipython-input-14-b45109212c9f>\u001b[0m in \u001b[0;36m<module>\u001b[1;34m()\u001b[0m\n\u001b[0;32m     15\u001b[0m \u001b[1;31m#p.ray(0,0,max_val,Angle_Small,color='black')\u001b[0m\u001b[1;33m\u001b[0m\u001b[1;33m\u001b[0m\u001b[0m\n\u001b[0;32m     16\u001b[0m \u001b[0mshow\u001b[0m\u001b[1;33m(\u001b[0m\u001b[0mp\u001b[0m\u001b[1;33m)\u001b[0m\u001b[1;33m\u001b[0m\u001b[0m\n\u001b[1;32m---> 17\u001b[1;33m \u001b[0mexport_png\u001b[0m\u001b[1;33m(\u001b[0m\u001b[0mp\u001b[0m\u001b[1;33m,\u001b[0m\u001b[1;34m'circular_plot.png'\u001b[0m\u001b[1;33m)\u001b[0m\u001b[1;33m\u001b[0m\u001b[0m\n\u001b[0m",
      "\u001b[1;32mC:\\ProgramData\\Anaconda3\\lib\\site-packages\\bokeh\\io\\export.py\u001b[0m in \u001b[0;36mexport_png\u001b[1;34m(obj, filename, height, width, webdriver)\u001b[0m\n\u001b[0;32m     79\u001b[0m     '''\n\u001b[0;32m     80\u001b[0m \u001b[1;33m\u001b[0m\u001b[0m\n\u001b[1;32m---> 81\u001b[1;33m     \u001b[0mimage\u001b[0m \u001b[1;33m=\u001b[0m \u001b[0mget_screenshot_as_png\u001b[0m\u001b[1;33m(\u001b[0m\u001b[0mobj\u001b[0m\u001b[1;33m,\u001b[0m \u001b[0mheight\u001b[0m\u001b[1;33m=\u001b[0m\u001b[0mheight\u001b[0m\u001b[1;33m,\u001b[0m \u001b[0mwidth\u001b[0m\u001b[1;33m=\u001b[0m\u001b[0mwidth\u001b[0m\u001b[1;33m,\u001b[0m \u001b[0mdriver\u001b[0m\u001b[1;33m=\u001b[0m\u001b[0mwebdriver\u001b[0m\u001b[1;33m)\u001b[0m\u001b[1;33m\u001b[0m\u001b[0m\n\u001b[0m\u001b[0;32m     82\u001b[0m \u001b[1;33m\u001b[0m\u001b[0m\n\u001b[0;32m     83\u001b[0m     \u001b[1;32mif\u001b[0m \u001b[0mfilename\u001b[0m \u001b[1;32mis\u001b[0m \u001b[1;32mNone\u001b[0m\u001b[1;33m:\u001b[0m\u001b[1;33m\u001b[0m\u001b[0m\n",
      "\u001b[1;32mC:\\ProgramData\\Anaconda3\\lib\\site-packages\\bokeh\\io\\export.py\u001b[0m in \u001b[0;36mget_screenshot_as_png\u001b[1;34m(obj, driver, **kwargs)\u001b[0m\n\u001b[0;32m    176\u001b[0m             \u001b[0mfile\u001b[0m\u001b[1;33m.\u001b[0m\u001b[0mwrite\u001b[0m\u001b[1;33m(\u001b[0m\u001b[0mdecode_utf8\u001b[0m\u001b[1;33m(\u001b[0m\u001b[0mhtml\u001b[0m\u001b[1;33m)\u001b[0m\u001b[1;33m)\u001b[0m\u001b[1;33m\u001b[0m\u001b[0m\n\u001b[0;32m    177\u001b[0m \u001b[1;33m\u001b[0m\u001b[0m\n\u001b[1;32m--> 178\u001b[1;33m         \u001b[0mweb_driver\u001b[0m \u001b[1;33m=\u001b[0m \u001b[0mdriver\u001b[0m \u001b[1;32mif\u001b[0m \u001b[0mdriver\u001b[0m \u001b[1;32mis\u001b[0m \u001b[1;32mnot\u001b[0m \u001b[1;32mNone\u001b[0m \u001b[1;32melse\u001b[0m \u001b[0mcreate_webdriver\u001b[0m\u001b[1;33m(\u001b[0m\u001b[1;33m)\u001b[0m\u001b[1;33m\u001b[0m\u001b[0m\n\u001b[0m\u001b[0;32m    179\u001b[0m \u001b[1;33m\u001b[0m\u001b[0m\n\u001b[0;32m    180\u001b[0m         \u001b[1;32mtry\u001b[0m\u001b[1;33m:\u001b[0m\u001b[1;33m\u001b[0m\u001b[0m\n",
      "\u001b[1;32mC:\\ProgramData\\Anaconda3\\lib\\site-packages\\bokeh\\io\\export.py\u001b[0m in \u001b[0;36mcreate_webdriver\u001b[1;34m()\u001b[0m\n\u001b[0;32m    291\u001b[0m                                     '(\"conda install -c bokeh selenium\" or \"pip install selenium\")')\n\u001b[0;32m    292\u001b[0m \u001b[1;33m\u001b[0m\u001b[0m\n\u001b[1;32m--> 293\u001b[1;33m         \u001b[0mphantomjs_path\u001b[0m \u001b[1;33m=\u001b[0m \u001b[0mdetect_phantomjs\u001b[0m\u001b[1;33m(\u001b[0m\u001b[1;33m)\u001b[0m\u001b[1;33m\u001b[0m\u001b[0m\n\u001b[0m\u001b[0;32m    294\u001b[0m         \u001b[1;32mreturn\u001b[0m \u001b[0mwebdriver\u001b[0m\u001b[1;33m.\u001b[0m\u001b[0mPhantomJS\u001b[0m\u001b[1;33m(\u001b[0m\u001b[0mexecutable_path\u001b[0m\u001b[1;33m=\u001b[0m\u001b[0mphantomjs_path\u001b[0m\u001b[1;33m,\u001b[0m \u001b[0mservice_log_path\u001b[0m\u001b[1;33m=\u001b[0m\u001b[0mdevnull\u001b[0m\u001b[1;33m)\u001b[0m\u001b[1;33m\u001b[0m\u001b[0m\n\u001b[0;32m    295\u001b[0m \u001b[1;33m\u001b[0m\u001b[0m\n",
      "\u001b[1;32mC:\\ProgramData\\Anaconda3\\lib\\site-packages\\bokeh\\util\\dependencies.py\u001b[0m in \u001b[0;36mdetect_phantomjs\u001b[1;34m(version)\u001b[0m\n\u001b[0;32m     90\u001b[0m     \u001b[1;32mexcept\u001b[0m \u001b[0mOSError\u001b[0m\u001b[1;33m:\u001b[0m\u001b[1;33m\u001b[0m\u001b[0m\n\u001b[0;32m     91\u001b[0m         raise RuntimeError('PhantomJS is not present in PATH. Try \"conda install phantomjs\" or \\\n\u001b[1;32m---> 92\u001b[1;33m             \"npm install -g phantomjs-prebuilt\"')\n\u001b[0m\u001b[0;32m     93\u001b[0m \u001b[1;33m\u001b[0m\u001b[0m\n\u001b[0;32m     94\u001b[0m     \u001b[1;32mreturn\u001b[0m \u001b[0mphantomjs_path\u001b[0m\u001b[1;33m\u001b[0m\u001b[0m\n",
      "\u001b[1;31mRuntimeError\u001b[0m: PhantomJS is not present in PATH. Try \"conda install phantomjs\" or             \"npm install -g phantomjs-prebuilt\""
     ]
    }
   ],
   "source": [
    "p=figure(plot_width=400,plot_height=400, x_range=(-max_val*1.3,max_val*1.3),y_range=(-max_val*1.3,max_val*1.3))\n",
    "colors=['red','blue','green','yellow']\n",
    "\n",
    "for i in range(0,len(As)):\n",
    "    print(i)\n",
    "    if i==0:\n",
    "        p.annular_wedge(x=0, y=0, inner_radius=0, outer_radius=As[i], start_angle=Angle_Small,end_angle=Angle_Big,line_color=None, color=colors[i])\n",
    "    else:\n",
    "        p.annular_wedge(x=0, y=0, inner_radius=As[i-1], outer_radius=As[i], start_angle=Angle_Small,end_angle=Angle_Big,line_color=None, color=colors[i])\n",
    "        #p.annular_wedge(0, 0, 0, max_val, Angle_Small,Angle_Small, color='black')\n",
    "\n",
    "#p.xgrid.grid_line_color = None\n",
    "#p.ygrid.grid_line_color = None\n",
    "#p.axis.visible=False\n",
    "#p.ray(0,0,max_val,Angle_Small,color='black')\n",
    "show(p)\n",
    "export_png(p,'circular_plot.png')"
   ]
  },
  {
   "cell_type": "code",
   "execution_count": 10,
   "metadata": {},
   "outputs": [
    {
     "data": {
      "text/html": [
       "\n",
       "\n",
       "\n",
       "\n",
       "\n",
       "\n",
       "  <div class=\"bk-root\" id=\"9ddbad6d-f439-4f53-91ef-8eb52e9d6952\"></div>\n"
      ]
     },
     "metadata": {},
     "output_type": "display_data"
    },
    {
     "data": {
      "application/javascript": [
       "(function(root) {\n",
       "  function embed_document(root) {\n",
       "    \n",
       "  var docs_json = {\"eb06c80e-06fe-4d5a-962f-db27713d11f3\":{\"roots\":{\"references\":[{\"attributes\":{\"data_source\":{\"id\":\"d350062f-c7ae-4429-8f9f-7627c170bb7b\",\"type\":\"ColumnDataSource\"},\"glyph\":{\"id\":\"911b9a11-096e-41ca-8e1f-fc995eaa6234\",\"type\":\"AnnularWedge\"},\"hover_glyph\":null,\"muted_glyph\":null,\"nonselection_glyph\":{\"id\":\"f410fd68-8f7e-4db3-8de7-0d7bd121b406\",\"type\":\"AnnularWedge\"},\"selection_glyph\":null,\"view\":{\"id\":\"a4614c86-6d6a-41d0-890c-e01324c8b1ff\",\"type\":\"CDSView\"}},\"id\":\"cbe753e5-00a3-48cb-8cbc-81cbfb067063\",\"type\":\"GlyphRenderer\"},{\"attributes\":{\"callback\":null,\"data\":{\"end_angle\":[1.2566370614359172,2.5132741228718345,3.7699111843077517,5.026548245743669,6.283185307179586],\"inner_radius\":[31,35,29,33,39],\"outer_radius\":[38,45,36,36,41],\"start_angle\":[0.0,1.2566370614359172,2.5132741228718345,3.7699111843077517,5.026548245743669]},\"selected\":{\"id\":\"3c40b55e-a47a-40d2-92e3-f3deadb8aa8e\",\"type\":\"Selection\"},\"selection_policy\":{\"id\":\"fef68483-7764-49aa-a82f-73cd01b90495\",\"type\":\"UnionRenderers\"}},\"id\":\"d07947d9-7dd1-45d2-aabe-f9188be3ee03\",\"type\":\"ColumnDataSource\"},{\"attributes\":{\"source\":{\"id\":\"d350062f-c7ae-4429-8f9f-7627c170bb7b\",\"type\":\"ColumnDataSource\"}},\"id\":\"a4614c86-6d6a-41d0-890c-e01324c8b1ff\",\"type\":\"CDSView\"},{\"attributes\":{},\"id\":\"9e6fcdc7-2c89-4a7b-8b92-8752f3e446c3\",\"type\":\"Selection\"},{\"attributes\":{},\"id\":\"70652ee7-373a-4e9b-b9e7-a4148bb9d371\",\"type\":\"UnionRenderers\"},{\"attributes\":{\"label\":{\"value\":\"W3\"},\"renderers\":[{\"id\":\"cbe753e5-00a3-48cb-8cbc-81cbfb067063\",\"type\":\"GlyphRenderer\"}]},\"id\":\"043d2170-8bb1-4211-9ac3-ebec3efa66a3\",\"type\":\"LegendItem\"},{\"attributes\":{\"data_source\":{\"id\":\"7bc6069a-abd3-4e7c-9872-4c36029fec6d\",\"type\":\"ColumnDataSource\"},\"glyph\":{\"id\":\"aa88d1f3-c3c1-4b5b-9306-45520cf81f1d\",\"type\":\"Text\"},\"hover_glyph\":null,\"muted_glyph\":null,\"nonselection_glyph\":{\"id\":\"a4362158-2347-42c9-be5c-bc8f26231e1e\",\"type\":\"Text\"},\"selection_glyph\":null,\"view\":{\"id\":\"cb2a42e9-adaf-4361-8e28-ee2edb7e31c2\",\"type\":\"CDSView\"}},\"id\":\"c2bbe416-f736-4984-b6de-9e74bd562154\",\"type\":\"GlyphRenderer\"},{\"attributes\":{\"end_angle\":{\"field\":\"end_angle\",\"units\":\"rad\"},\"fill_color\":{\"value\":\"#ffffcc\"},\"inner_radius\":{\"field\":\"inner_radius\",\"units\":\"data\"},\"line_color\":{\"value\":\"white\"},\"outer_radius\":{\"field\":\"outer_radius\",\"units\":\"data\"},\"start_angle\":{\"field\":\"start_angle\",\"units\":\"rad\"},\"x\":{\"value\":0},\"y\":{\"value\":0}},\"id\":\"fcc182d4-0a2d-40c4-a975-d78293e02fa1\",\"type\":\"AnnularWedge\"},{\"attributes\":{\"end_angle\":{\"field\":\"end_angle\",\"units\":\"rad\"},\"fill_alpha\":{\"value\":0.1},\"fill_color\":{\"value\":\"#1f77b4\"},\"inner_radius\":{\"field\":\"inner_radius\",\"units\":\"data\"},\"line_alpha\":{\"value\":0.1},\"line_color\":{\"value\":\"#1f77b4\"},\"outer_radius\":{\"field\":\"outer_radius\",\"units\":\"data\"},\"start_angle\":{\"field\":\"start_angle\",\"units\":\"rad\"},\"x\":{\"value\":0},\"y\":{\"value\":0}},\"id\":\"cc74816a-7488-42ff-abf8-87ef71762a08\",\"type\":\"AnnularWedge\"},{\"attributes\":{\"data_source\":{\"id\":\"d07947d9-7dd1-45d2-aabe-f9188be3ee03\",\"type\":\"ColumnDataSource\"},\"glyph\":{\"id\":\"fcc182d4-0a2d-40c4-a975-d78293e02fa1\",\"type\":\"AnnularWedge\"},\"hover_glyph\":null,\"muted_glyph\":null,\"nonselection_glyph\":{\"id\":\"cc74816a-7488-42ff-abf8-87ef71762a08\",\"type\":\"AnnularWedge\"},\"selection_glyph\":null,\"view\":{\"id\":\"489f177e-55e1-44d7-a86d-96b452e55a98\",\"type\":\"CDSView\"}},\"id\":\"249ad5cf-660b-4a0f-86ad-1000f146e508\",\"type\":\"GlyphRenderer\"},{\"attributes\":{\"source\":{\"id\":\"d07947d9-7dd1-45d2-aabe-f9188be3ee03\",\"type\":\"ColumnDataSource\"}},\"id\":\"489f177e-55e1-44d7-a86d-96b452e55a98\",\"type\":\"CDSView\"},{\"attributes\":{},\"id\":\"062c0a9d-ac6e-43c7-b42a-5eaf45f62b44\",\"type\":\"Selection\"},{\"attributes\":{},\"id\":\"a6767563-69dc-4fcd-a7bb-82ddda7ac6e7\",\"type\":\"UnionRenderers\"},{\"attributes\":{\"label\":{\"value\":\"W4\"},\"renderers\":[{\"id\":\"249ad5cf-660b-4a0f-86ad-1000f146e508\",\"type\":\"GlyphRenderer\"}]},\"id\":\"24cf81f0-05f1-4e17-8c4c-9969030bae71\",\"type\":\"LegendItem\"},{\"attributes\":{\"callback\":null,\"data\":{\"text\":[0,12,24,36,48],\"x\":[0,12,24,36,48],\"y\":{\"__ndarray__\":\"AAAAAAAAAAAAAAAAAAAAAAAAAAAAAAAAAAAAAAAAAAAAAAAAAAAAAA==\",\"dtype\":\"float64\",\"shape\":[5]}},\"selected\":{\"id\":\"af1648d2-e77e-46d7-b02e-975a1d6f9ab2\",\"type\":\"Selection\"},\"selection_policy\":{\"id\":\"9bd4e681-fa4a-4c0e-9fd7-364fe4575549\",\"type\":\"UnionRenderers\"}},\"id\":\"7bc6069a-abd3-4e7c-9872-4c36029fec6d\",\"type\":\"ColumnDataSource\"},{\"attributes\":{\"fill_color\":{\"value\":null},\"line_color\":{\"value\":\"grey\"},\"radius\":{\"field\":\"radius\",\"units\":\"data\"},\"x\":{\"value\":0},\"y\":{\"value\":0}},\"id\":\"97281e4c-1f4a-4d57-a3b5-58702bb72a73\",\"type\":\"Circle\"},{\"attributes\":{\"fill_alpha\":{\"value\":0.1},\"fill_color\":{\"value\":\"#1f77b4\"},\"line_alpha\":{\"value\":0.1},\"line_color\":{\"value\":\"#1f77b4\"},\"radius\":{\"field\":\"radius\",\"units\":\"data\"},\"x\":{\"value\":0},\"y\":{\"value\":0}},\"id\":\"0e8c14b9-1838-4fcd-8aa8-9602fc776e6e\",\"type\":\"Circle\"},{\"attributes\":{\"data_source\":{\"id\":\"823bf68a-9d19-43c1-9ab9-d34a5f2d5430\",\"type\":\"ColumnDataSource\"},\"glyph\":{\"id\":\"97281e4c-1f4a-4d57-a3b5-58702bb72a73\",\"type\":\"Circle\"},\"hover_glyph\":null,\"muted_glyph\":null,\"nonselection_glyph\":{\"id\":\"0e8c14b9-1838-4fcd-8aa8-9602fc776e6e\",\"type\":\"Circle\"},\"selection_glyph\":null,\"view\":{\"id\":\"1742465c-ca80-4439-a8c7-bc7f41d70d6f\",\"type\":\"CDSView\"}},\"id\":\"ad013641-9688-4290-a7a1-1717e19894a5\",\"type\":\"GlyphRenderer\"},{\"attributes\":{\"source\":{\"id\":\"823bf68a-9d19-43c1-9ab9-d34a5f2d5430\",\"type\":\"ColumnDataSource\"}},\"id\":\"1742465c-ca80-4439-a8c7-bc7f41d70d6f\",\"type\":\"CDSView\"},{\"attributes\":{\"callback\":null,\"data\":{\"text\":[\"Fleet Rotation\"]},\"selected\":{\"id\":\"d6642b23-b1c8-40c4-b56a-15f53f3d167a\",\"type\":\"Selection\"},\"selection_policy\":{\"id\":\"795291c6-fda6-4812-aad7-0ed024a8e430\",\"type\":\"UnionRenderers\"}},\"id\":\"69d78f0f-242f-405c-bae0-d0e5df28fe3c\",\"type\":\"ColumnDataSource\"},{\"attributes\":{\"text_align\":\"center\",\"text_baseline\":\"top\",\"text_color\":{\"value\":\"white\"},\"x\":{\"field\":\"x\"},\"y\":{\"field\":\"y\"}},\"id\":\"aa88d1f3-c3c1-4b5b-9306-45520cf81f1d\",\"type\":\"Text\"},{\"attributes\":{\"text_align\":\"center\",\"text_alpha\":{\"value\":0.1},\"text_baseline\":\"middle\",\"text_color\":{\"value\":\"black\"},\"x\":{\"field\":\"x\"},\"y\":{\"field\":\"y\"}},\"id\":\"30b58a60-c2c4-429c-acc3-14db2746fdc0\",\"type\":\"Text\"},{\"attributes\":{\"source\":{\"id\":\"7bc6069a-abd3-4e7c-9872-4c36029fec6d\",\"type\":\"ColumnDataSource\"}},\"id\":\"cb2a42e9-adaf-4361-8e28-ee2edb7e31c2\",\"type\":\"CDSView\"},{\"attributes\":{\"callback\":null,\"data\":{\"angle\":[0.0,1.2566370614359172,2.5132741228718345,3.7699111843077517,5.026548245743669]},\"selected\":{\"id\":\"c6d3b8c7-95e0-4ba7-8f91-9715a97e4a3e\",\"type\":\"Selection\"},\"selection_policy\":{\"id\":\"574de293-49d3-4ce0-a86c-98163b8e1713\",\"type\":\"UnionRenderers\"}},\"id\":\"1a7f25c7-1791-40d0-91c2-5038575884da\",\"type\":\"ColumnDataSource\"},{\"attributes\":{\"text_align\":\"center\",\"text_baseline\":\"middle\",\"text_color\":{\"value\":\"white\"},\"text_font_size\":{\"value\":\"20pt\"},\"x\":{\"value\":0},\"y\":{\"value\":-58.5}},\"id\":\"366580fc-a748-4f4b-a23e-c02abd54cf3e\",\"type\":\"Text\"},{\"attributes\":{\"text_align\":\"center\",\"text_alpha\":{\"value\":0.1},\"text_baseline\":\"middle\",\"text_color\":{\"value\":\"black\"},\"text_font_size\":{\"value\":\"20pt\"},\"x\":{\"value\":0},\"y\":{\"value\":-58.5}},\"id\":\"c804c843-4aab-42dc-a7ab-f50db1abcc01\",\"type\":\"Text\"},{\"attributes\":{\"data_source\":{\"id\":\"69d78f0f-242f-405c-bae0-d0e5df28fe3c\",\"type\":\"ColumnDataSource\"},\"glyph\":{\"id\":\"366580fc-a748-4f4b-a23e-c02abd54cf3e\",\"type\":\"Text\"},\"hover_glyph\":null,\"muted_glyph\":null,\"nonselection_glyph\":{\"id\":\"c804c843-4aab-42dc-a7ab-f50db1abcc01\",\"type\":\"Text\"},\"selection_glyph\":null,\"view\":{\"id\":\"db54eb86-616c-4ac4-a287-e2c53edd1456\",\"type\":\"CDSView\"}},\"id\":\"aa536704-fcd9-44e1-90c3-7896b5f90a99\",\"type\":\"GlyphRenderer\"},{\"attributes\":{\"end_angle\":{\"field\":\"end_angle\",\"units\":\"rad\"},\"fill_color\":{\"value\":\"#225ea8\"},\"inner_radius\":{\"units\":\"data\",\"value\":0},\"line_color\":{\"value\":\"white\"},\"outer_radius\":{\"field\":\"outer_radius\",\"units\":\"data\"},\"start_angle\":{\"field\":\"start_angle\",\"units\":\"rad\"},\"x\":{\"value\":0},\"y\":{\"value\":0}},\"id\":\"e855242e-1031-4c59-83cb-c62f9049cf42\",\"type\":\"AnnularWedge\"},{\"attributes\":{\"source\":{\"id\":\"69d78f0f-242f-405c-bae0-d0e5df28fe3c\",\"type\":\"ColumnDataSource\"}},\"id\":\"db54eb86-616c-4ac4-a287-e2c53edd1456\",\"type\":\"CDSView\"},{\"attributes\":{\"text_align\":\"center\",\"text_baseline\":\"middle\",\"text_color\":{\"value\":\"white\"},\"x\":{\"field\":\"x\"},\"y\":{\"field\":\"y\"}},\"id\":\"b0f66444-f60a-4fab-beed-087624a7489d\",\"type\":\"Text\"},{\"attributes\":{\"angle\":{\"field\":\"angle\",\"units\":\"rad\"},\"length\":{\"units\":\"data\",\"value\":49.50000000000001},\"x\":{\"value\":0},\"y\":{\"value\":0}},\"id\":\"3a35d3f6-fb20-49ea-912d-17d672e927f7\",\"type\":\"Ray\"},{\"attributes\":{},\"id\":\"46446a45-ae01-4d46-847e-3e74582bb5af\",\"type\":\"Selection\"},{\"attributes\":{\"angle\":{\"field\":\"angle\",\"units\":\"rad\"},\"length\":{\"units\":\"data\",\"value\":49.50000000000001},\"line_alpha\":{\"value\":0.1},\"line_color\":{\"value\":\"#1f77b4\"},\"x\":{\"value\":0},\"y\":{\"value\":0}},\"id\":\"1695318b-9c8c-4001-b2ea-3dfc47977fbb\",\"type\":\"Ray\"},{\"attributes\":{\"data_source\":{\"id\":\"1a7f25c7-1791-40d0-91c2-5038575884da\",\"type\":\"ColumnDataSource\"},\"glyph\":{\"id\":\"3a35d3f6-fb20-49ea-912d-17d672e927f7\",\"type\":\"Ray\"},\"hover_glyph\":null,\"muted_glyph\":null,\"nonselection_glyph\":{\"id\":\"1695318b-9c8c-4001-b2ea-3dfc47977fbb\",\"type\":\"Ray\"},\"selection_glyph\":null,\"view\":{\"id\":\"3622da5e-d6e2-4401-83a9-f2bc682f4d73\",\"type\":\"CDSView\"}},\"id\":\"400ae15b-ae87-4993-a28b-4af08ee59c31\",\"type\":\"GlyphRenderer\"},{\"attributes\":{\"end_angle\":{\"field\":\"end_angle\",\"units\":\"rad\"},\"fill_color\":{\"value\":\"#a1dab4\"},\"inner_radius\":{\"field\":\"inner_radius\",\"units\":\"data\"},\"line_color\":{\"value\":\"white\"},\"outer_radius\":{\"field\":\"outer_radius\",\"units\":\"data\"},\"start_angle\":{\"field\":\"start_angle\",\"units\":\"rad\"},\"x\":{\"value\":0},\"y\":{\"value\":0}},\"id\":\"911b9a11-096e-41ca-8e1f-fc995eaa6234\",\"type\":\"AnnularWedge\"},{\"attributes\":{\"source\":{\"id\":\"1a7f25c7-1791-40d0-91c2-5038575884da\",\"type\":\"ColumnDataSource\"}},\"id\":\"3622da5e-d6e2-4401-83a9-f2bc682f4d73\",\"type\":\"CDSView\"},{\"attributes\":{\"background_fill_color\":{\"value\":\"black\"},\"below\":[{\"id\":\"42827e05-bbbb-42de-babe-1ae9b588e681\",\"type\":\"LinearAxis\"}],\"left\":[{\"id\":\"9e882ab7-83d7-4bc1-8fa0-3b691fb58ada\",\"type\":\"LinearAxis\"}],\"plot_height\":500,\"plot_width\":500,\"renderers\":[{\"id\":\"42827e05-bbbb-42de-babe-1ae9b588e681\",\"type\":\"LinearAxis\"},{\"id\":\"1b4aa471-5e4a-4eb0-a1d4-d95ead2cfdd4\",\"type\":\"Grid\"},{\"id\":\"9e882ab7-83d7-4bc1-8fa0-3b691fb58ada\",\"type\":\"LinearAxis\"},{\"id\":\"e6e8f154-8ea6-4bcc-8c5a-2e6c5bcfc37f\",\"type\":\"Grid\"},{\"id\":\"90f82499-32b3-4874-a608-92b176125616\",\"type\":\"BoxAnnotation\"},{\"id\":\"3eef4712-e904-4f57-8509-902afecc9665\",\"type\":\"Legend\"},{\"id\":\"f445c458-c726-460b-a277-003b730b5fe6\",\"type\":\"GlyphRenderer\"},{\"id\":\"05563f83-1bfd-40db-a7d0-2adaa2c57132\",\"type\":\"GlyphRenderer\"},{\"id\":\"cbe753e5-00a3-48cb-8cbc-81cbfb067063\",\"type\":\"GlyphRenderer\"},{\"id\":\"249ad5cf-660b-4a0f-86ad-1000f146e508\",\"type\":\"GlyphRenderer\"},{\"id\":\"ad013641-9688-4290-a7a1-1717e19894a5\",\"type\":\"GlyphRenderer\"},{\"id\":\"c2bbe416-f736-4984-b6de-9e74bd562154\",\"type\":\"GlyphRenderer\"},{\"id\":\"aa536704-fcd9-44e1-90c3-7896b5f90a99\",\"type\":\"GlyphRenderer\"},{\"id\":\"400ae15b-ae87-4993-a28b-4af08ee59c31\",\"type\":\"GlyphRenderer\"},{\"id\":\"9fdf9355-9231-434a-9fe1-09be732bf874\",\"type\":\"GlyphRenderer\"}],\"title\":{\"id\":\"183dbad2-5b18-46f8-9bca-aedf18ad245b\",\"type\":\"Title\"},\"toolbar\":{\"id\":\"f77a5f2c-f51d-48ac-b7ab-ca035f60b75b\",\"type\":\"Toolbar\"},\"toolbar_location\":null,\"x_range\":{\"id\":\"7304489c-7bb8-406d-9743-35241da39f43\",\"type\":\"Range1d\"},\"x_scale\":{\"id\":\"6fcba5a0-b7dd-4bb4-af6c-52c7b475fe13\",\"type\":\"LinearScale\"},\"y_range\":{\"id\":\"ccc7aa57-d72d-4f2c-a183-5bd11f8718d6\",\"type\":\"Range1d\"},\"y_scale\":{\"id\":\"6981010d-feff-4d8e-a525-499a9f71e53a\",\"type\":\"LinearScale\"}},\"id\":\"19acee3f-232f-4a50-832a-e581f91453f6\",\"subtype\":\"Figure\",\"type\":\"Plot\"},{\"attributes\":{},\"id\":\"30d9177c-00f1-4cec-951a-d99292ab2530\",\"type\":\"UnionRenderers\"},{\"attributes\":{},\"id\":\"3c40b55e-a47a-40d2-92e3-f3deadb8aa8e\",\"type\":\"Selection\"},{\"attributes\":{\"active_drag\":\"auto\",\"active_inspect\":\"auto\",\"active_multi\":null,\"active_scroll\":\"auto\",\"active_tap\":\"auto\",\"tools\":[{\"id\":\"9fde367d-7440-4efb-b6db-3364b2b5232c\",\"type\":\"PanTool\"},{\"id\":\"69dcf304-b808-46f0-a7ab-092c9c54b9aa\",\"type\":\"WheelZoomTool\"},{\"id\":\"3e7b2f04-7399-4e99-8820-7adb350b9753\",\"type\":\"BoxZoomTool\"},{\"id\":\"8580c786-0d99-43f9-a54c-8e4219975480\",\"type\":\"SaveTool\"},{\"id\":\"05ff6e11-4661-40f7-abc4-285276d7cebc\",\"type\":\"ResetTool\"},{\"id\":\"c4ac579f-afaf-4837-b49a-4acc246ba77b\",\"type\":\"HelpTool\"}]},\"id\":\"f77a5f2c-f51d-48ac-b7ab-ca035f60b75b\",\"type\":\"Toolbar\"},{\"attributes\":{\"callback\":null,\"end\":67.5,\"start\":-67.5},\"id\":\"7304489c-7bb8-406d-9743-35241da39f43\",\"type\":\"Range1d\"},{\"attributes\":{\"callback\":null,\"data\":{\"text\":[\"Vehicle 0\",\"Vehicle 1\",\"Vehicle 2\",\"Vehicle 3\",\"Vehicle 4\"],\"x\":[43.686917696247164,-16.686917696247157,-54.0,-16.686917696247168,43.68691769624716],\"y\":[31.74040362379355,51.3570518799383,6.6130927153957075e-15,-51.35705187993829,-31.74040362379356]},\"selected\":{\"id\":\"7d323c2b-2544-4169-885e-0c2d774edff1\",\"type\":\"Selection\"},\"selection_policy\":{\"id\":\"882e31bb-c5ff-4a65-b569-6d67204ab2b5\",\"type\":\"UnionRenderers\"}},\"id\":\"e2489042-0867-482e-8a76-b4f691f3323a\",\"type\":\"ColumnDataSource\"},{\"attributes\":{\"data_source\":{\"id\":\"e2489042-0867-482e-8a76-b4f691f3323a\",\"type\":\"ColumnDataSource\"},\"glyph\":{\"id\":\"b0f66444-f60a-4fab-beed-087624a7489d\",\"type\":\"Text\"},\"hover_glyph\":null,\"muted_glyph\":null,\"nonselection_glyph\":{\"id\":\"30b58a60-c2c4-429c-acc3-14db2746fdc0\",\"type\":\"Text\"},\"selection_glyph\":null,\"view\":{\"id\":\"63de2085-f575-4bb1-aed8-c165693d0437\",\"type\":\"CDSView\"}},\"id\":\"9fdf9355-9231-434a-9fe1-09be732bf874\",\"type\":\"GlyphRenderer\"},{\"attributes\":{\"callback\":null,\"data\":{\"end_angle\":[1.2566370614359172,2.5132741228718345,3.7699111843077517,5.026548245743669,6.283185307179586],\"inner_radius\":[25,17,24,28,26],\"outer_radius\":[31,35,29,33,39],\"start_angle\":[0.0,1.2566370614359172,2.5132741228718345,3.7699111843077517,5.026548245743669]},\"selected\":{\"id\":\"062c0a9d-ac6e-43c7-b42a-5eaf45f62b44\",\"type\":\"Selection\"},\"selection_policy\":{\"id\":\"a6767563-69dc-4fcd-a7bb-82ddda7ac6e7\",\"type\":\"UnionRenderers\"}},\"id\":\"d350062f-c7ae-4429-8f9f-7627c170bb7b\",\"type\":\"ColumnDataSource\"},{\"attributes\":{\"callback\":null,\"end\":67.5,\"start\":-67.5},\"id\":\"ccc7aa57-d72d-4f2c-a183-5bd11f8718d6\",\"type\":\"Range1d\"},{\"attributes\":{\"source\":{\"id\":\"e2489042-0867-482e-8a76-b4f691f3323a\",\"type\":\"ColumnDataSource\"}},\"id\":\"63de2085-f575-4bb1-aed8-c165693d0437\",\"type\":\"CDSView\"},{\"attributes\":{},\"id\":\"6fcba5a0-b7dd-4bb4-af6c-52c7b475fe13\",\"type\":\"LinearScale\"},{\"attributes\":{},\"id\":\"6981010d-feff-4d8e-a525-499a9f71e53a\",\"type\":\"LinearScale\"},{\"attributes\":{\"grid_line_color\":{\"value\":null},\"plot\":{\"id\":\"19acee3f-232f-4a50-832a-e581f91453f6\",\"subtype\":\"Figure\",\"type\":\"Plot\"},\"ticker\":{\"id\":\"de468e54-dc8d-4ecc-96d1-a2e142512f11\",\"type\":\"BasicTicker\"}},\"id\":\"1b4aa471-5e4a-4eb0-a1d4-d95ead2cfdd4\",\"type\":\"Grid\"},{\"attributes\":{},\"id\":\"fef68483-7764-49aa-a82f-73cd01b90495\",\"type\":\"UnionRenderers\"},{\"attributes\":{\"formatter\":{\"id\":\"78de3f78-deae-4ea8-8628-258875e22203\",\"type\":\"BasicTickFormatter\"},\"plot\":{\"id\":\"19acee3f-232f-4a50-832a-e581f91453f6\",\"subtype\":\"Figure\",\"type\":\"Plot\"},\"ticker\":{\"id\":\"de468e54-dc8d-4ecc-96d1-a2e142512f11\",\"type\":\"BasicTicker\"},\"visible\":false},\"id\":\"42827e05-bbbb-42de-babe-1ae9b588e681\",\"type\":\"LinearAxis\"},{\"attributes\":{},\"id\":\"e28a82c5-6174-407a-b103-565b8e19f495\",\"type\":\"Selection\"},{\"attributes\":{},\"id\":\"de468e54-dc8d-4ecc-96d1-a2e142512f11\",\"type\":\"BasicTicker\"},{\"attributes\":{},\"id\":\"040915a1-06f9-4cd7-bcdb-e9bf82049c7f\",\"type\":\"UnionRenderers\"},{\"attributes\":{\"text_align\":\"center\",\"text_alpha\":{\"value\":0.1},\"text_baseline\":\"top\",\"text_color\":{\"value\":\"black\"},\"x\":{\"field\":\"x\"},\"y\":{\"field\":\"y\"}},\"id\":\"a4362158-2347-42c9-be5c-bc8f26231e1e\",\"type\":\"Text\"},{\"attributes\":{\"formatter\":{\"id\":\"0d81502a-cc09-4e43-b304-69909def6362\",\"type\":\"BasicTickFormatter\"},\"plot\":{\"id\":\"19acee3f-232f-4a50-832a-e581f91453f6\",\"subtype\":\"Figure\",\"type\":\"Plot\"},\"ticker\":{\"id\":\"c7d7af75-3c3c-4d5c-afa2-86e56496da62\",\"type\":\"BasicTicker\"},\"visible\":false},\"id\":\"9e882ab7-83d7-4bc1-8fa0-3b691fb58ada\",\"type\":\"LinearAxis\"},{\"attributes\":{},\"id\":\"af1648d2-e77e-46d7-b02e-975a1d6f9ab2\",\"type\":\"Selection\"},{\"attributes\":{},\"id\":\"c7d7af75-3c3c-4d5c-afa2-86e56496da62\",\"type\":\"BasicTicker\"},{\"attributes\":{},\"id\":\"9bd4e681-fa4a-4c0e-9fd7-364fe4575549\",\"type\":\"UnionRenderers\"},{\"attributes\":{\"dimension\":1,\"grid_line_color\":{\"value\":null},\"plot\":{\"id\":\"19acee3f-232f-4a50-832a-e581f91453f6\",\"subtype\":\"Figure\",\"type\":\"Plot\"},\"ticker\":{\"id\":\"c7d7af75-3c3c-4d5c-afa2-86e56496da62\",\"type\":\"BasicTicker\"}},\"id\":\"e6e8f154-8ea6-4bcc-8c5a-2e6c5bcfc37f\",\"type\":\"Grid\"},{\"attributes\":{},\"id\":\"d6642b23-b1c8-40c4-b56a-15f53f3d167a\",\"type\":\"Selection\"},{\"attributes\":{\"label\":{\"value\":\"W2\"},\"renderers\":[{\"id\":\"05563f83-1bfd-40db-a7d0-2adaa2c57132\",\"type\":\"GlyphRenderer\"}]},\"id\":\"b934bdcb-5e44-4d96-8784-141c6b673bdd\",\"type\":\"LegendItem\"},{\"attributes\":{},\"id\":\"795291c6-fda6-4812-aad7-0ed024a8e430\",\"type\":\"UnionRenderers\"},{\"attributes\":{\"callback\":null,\"data\":{\"end_angle\":[1.2566370614359172,2.5132741228718345,3.7699111843077517,5.026548245743669,6.283185307179586],\"outer_radius\":[10,9,0,12,13],\"start_angle\":[0.0,1.2566370614359172,2.5132741228718345,3.7699111843077517,5.026548245743669]},\"selected\":{\"id\":\"46446a45-ae01-4d46-847e-3e74582bb5af\",\"type\":\"Selection\"},\"selection_policy\":{\"id\":\"30d9177c-00f1-4cec-951a-d99292ab2530\",\"type\":\"UnionRenderers\"}},\"id\":\"6b3f329c-b806-4704-bd48-b0d422dd0b3e\",\"type\":\"ColumnDataSource\"},{\"attributes\":{},\"id\":\"c6d3b8c7-95e0-4ba7-8f91-9715a97e4a3e\",\"type\":\"Selection\"},{\"attributes\":{},\"id\":\"78de3f78-deae-4ea8-8628-258875e22203\",\"type\":\"BasicTickFormatter\"},{\"attributes\":{},\"id\":\"574de293-49d3-4ce0-a86c-98163b8e1713\",\"type\":\"UnionRenderers\"},{\"attributes\":{\"source\":{\"id\":\"9f1313ec-2eb5-4c5b-abde-037d2815d43e\",\"type\":\"ColumnDataSource\"}},\"id\":\"554b8175-3836-46a5-ab3d-42a5f39ba144\",\"type\":\"CDSView\"},{\"attributes\":{},\"id\":\"7d323c2b-2544-4169-885e-0c2d774edff1\",\"type\":\"Selection\"},{\"attributes\":{},\"id\":\"9fde367d-7440-4efb-b6db-3364b2b5232c\",\"type\":\"PanTool\"},{\"attributes\":{},\"id\":\"882e31bb-c5ff-4a65-b569-6d67204ab2b5\",\"type\":\"UnionRenderers\"},{\"attributes\":{},\"id\":\"8580c786-0d99-43f9-a54c-8e4219975480\",\"type\":\"SaveTool\"},{\"attributes\":{},\"id\":\"69dcf304-b808-46f0-a7ab-092c9c54b9aa\",\"type\":\"WheelZoomTool\"},{\"attributes\":{\"overlay\":{\"id\":\"90f82499-32b3-4874-a608-92b176125616\",\"type\":\"BoxAnnotation\"}},\"id\":\"3e7b2f04-7399-4e99-8820-7adb350b9753\",\"type\":\"BoxZoomTool\"},{\"attributes\":{},\"id\":\"05ff6e11-4661-40f7-abc4-285276d7cebc\",\"type\":\"ResetTool\"},{\"attributes\":{},\"id\":\"c4ac579f-afaf-4837-b49a-4acc246ba77b\",\"type\":\"HelpTool\"},{\"attributes\":{\"bottom_units\":\"screen\",\"fill_alpha\":{\"value\":0.5},\"fill_color\":{\"value\":\"lightgrey\"},\"left_units\":\"screen\",\"level\":\"overlay\",\"line_alpha\":{\"value\":1.0},\"line_color\":{\"value\":\"black\"},\"line_dash\":[4,4],\"line_width\":{\"value\":2},\"plot\":null,\"render_mode\":\"css\",\"right_units\":\"screen\",\"top_units\":\"screen\"},\"id\":\"90f82499-32b3-4874-a608-92b176125616\",\"type\":\"BoxAnnotation\"},{\"attributes\":{\"end_angle\":{\"field\":\"end_angle\",\"units\":\"rad\"},\"fill_color\":{\"value\":\"#41b6c4\"},\"inner_radius\":{\"field\":\"inner_radius\",\"units\":\"data\"},\"line_color\":{\"value\":\"white\"},\"outer_radius\":{\"field\":\"outer_radius\",\"units\":\"data\"},\"start_angle\":{\"field\":\"start_angle\",\"units\":\"rad\"},\"x\":{\"value\":0},\"y\":{\"value\":0}},\"id\":\"b9749f23-f8c3-45c9-81e8-10c048c9d198\",\"type\":\"AnnularWedge\"},{\"attributes\":{\"data_source\":{\"id\":\"9f1313ec-2eb5-4c5b-abde-037d2815d43e\",\"type\":\"ColumnDataSource\"},\"glyph\":{\"id\":\"b9749f23-f8c3-45c9-81e8-10c048c9d198\",\"type\":\"AnnularWedge\"},\"hover_glyph\":null,\"muted_glyph\":null,\"nonselection_glyph\":{\"id\":\"94598c35-9e49-4681-8868-b9862379e877\",\"type\":\"AnnularWedge\"},\"selection_glyph\":null,\"view\":{\"id\":\"554b8175-3836-46a5-ab3d-42a5f39ba144\",\"type\":\"CDSView\"}},\"id\":\"05563f83-1bfd-40db-a7d0-2adaa2c57132\",\"type\":\"GlyphRenderer\"},{\"attributes\":{\"end_angle\":{\"field\":\"end_angle\",\"units\":\"rad\"},\"fill_alpha\":{\"value\":0.1},\"fill_color\":{\"value\":\"#1f77b4\"},\"inner_radius\":{\"field\":\"inner_radius\",\"units\":\"data\"},\"line_alpha\":{\"value\":0.1},\"line_color\":{\"value\":\"#1f77b4\"},\"outer_radius\":{\"field\":\"outer_radius\",\"units\":\"data\"},\"start_angle\":{\"field\":\"start_angle\",\"units\":\"rad\"},\"x\":{\"value\":0},\"y\":{\"value\":0}},\"id\":\"94598c35-9e49-4681-8868-b9862379e877\",\"type\":\"AnnularWedge\"},{\"attributes\":{\"callback\":null,\"data\":{\"end_angle\":[1.2566370614359172,2.5132741228718345,3.7699111843077517,5.026548245743669,6.283185307179586],\"inner_radius\":[10,9,0,12,13],\"outer_radius\":[25,17,24,28,26],\"start_angle\":[0.0,1.2566370614359172,2.5132741228718345,3.7699111843077517,5.026548245743669]},\"selected\":{\"id\":\"9e6fcdc7-2c89-4a7b-8b92-8752f3e446c3\",\"type\":\"Selection\"},\"selection_policy\":{\"id\":\"70652ee7-373a-4e9b-b9e7-a4148bb9d371\",\"type\":\"UnionRenderers\"}},\"id\":\"9f1313ec-2eb5-4c5b-abde-037d2815d43e\",\"type\":\"ColumnDataSource\"},{\"attributes\":{\"end_angle\":{\"field\":\"end_angle\",\"units\":\"rad\"},\"fill_alpha\":{\"value\":0.1},\"fill_color\":{\"value\":\"#1f77b4\"},\"inner_radius\":{\"field\":\"inner_radius\",\"units\":\"data\"},\"line_alpha\":{\"value\":0.1},\"line_color\":{\"value\":\"#1f77b4\"},\"outer_radius\":{\"field\":\"outer_radius\",\"units\":\"data\"},\"start_angle\":{\"field\":\"start_angle\",\"units\":\"rad\"},\"x\":{\"value\":0},\"y\":{\"value\":0}},\"id\":\"f410fd68-8f7e-4db3-8de7-0d7bd121b406\",\"type\":\"AnnularWedge\"},{\"attributes\":{\"label\":{\"value\":\"W1\"},\"renderers\":[{\"id\":\"f445c458-c726-460b-a277-003b730b5fe6\",\"type\":\"GlyphRenderer\"}]},\"id\":\"0eaaa9c3-3494-4875-a3a0-928d5999bcf4\",\"type\":\"LegendItem\"},{\"attributes\":{\"background_fill_alpha\":{\"value\":0.1},\"items\":[{\"id\":\"0eaaa9c3-3494-4875-a3a0-928d5999bcf4\",\"type\":\"LegendItem\"},{\"id\":\"b934bdcb-5e44-4d96-8784-141c6b673bdd\",\"type\":\"LegendItem\"},{\"id\":\"043d2170-8bb1-4211-9ac3-ebec3efa66a3\",\"type\":\"LegendItem\"},{\"id\":\"24cf81f0-05f1-4e17-8c4c-9969030bae71\",\"type\":\"LegendItem\"}],\"label_text_color\":{\"value\":\"white\"},\"location\":\"top_center\",\"orientation\":\"horizontal\",\"plot\":{\"id\":\"19acee3f-232f-4a50-832a-e581f91453f6\",\"subtype\":\"Figure\",\"type\":\"Plot\"}},\"id\":\"3eef4712-e904-4f57-8509-902afecc9665\",\"type\":\"Legend\"},{\"attributes\":{},\"id\":\"0d81502a-cc09-4e43-b304-69909def6362\",\"type\":\"BasicTickFormatter\"},{\"attributes\":{\"plot\":null,\"text\":\"\"},\"id\":\"183dbad2-5b18-46f8-9bca-aedf18ad245b\",\"type\":\"Title\"},{\"attributes\":{\"source\":{\"id\":\"6b3f329c-b806-4704-bd48-b0d422dd0b3e\",\"type\":\"ColumnDataSource\"}},\"id\":\"3a3e209c-946b-44fd-9eda-e0f1ba6d1a96\",\"type\":\"CDSView\"},{\"attributes\":{\"data_source\":{\"id\":\"6b3f329c-b806-4704-bd48-b0d422dd0b3e\",\"type\":\"ColumnDataSource\"},\"glyph\":{\"id\":\"e855242e-1031-4c59-83cb-c62f9049cf42\",\"type\":\"AnnularWedge\"},\"hover_glyph\":null,\"muted_glyph\":null,\"nonselection_glyph\":{\"id\":\"fc74dcce-9e1c-4582-99a1-2501c0106904\",\"type\":\"AnnularWedge\"},\"selection_glyph\":null,\"view\":{\"id\":\"3a3e209c-946b-44fd-9eda-e0f1ba6d1a96\",\"type\":\"CDSView\"}},\"id\":\"f445c458-c726-460b-a277-003b730b5fe6\",\"type\":\"GlyphRenderer\"},{\"attributes\":{\"end_angle\":{\"field\":\"end_angle\",\"units\":\"rad\"},\"fill_alpha\":{\"value\":0.1},\"fill_color\":{\"value\":\"#1f77b4\"},\"inner_radius\":{\"units\":\"data\",\"value\":0},\"line_alpha\":{\"value\":0.1},\"line_color\":{\"value\":\"#1f77b4\"},\"outer_radius\":{\"field\":\"outer_radius\",\"units\":\"data\"},\"start_angle\":{\"field\":\"start_angle\",\"units\":\"rad\"},\"x\":{\"value\":0},\"y\":{\"value\":0}},\"id\":\"fc74dcce-9e1c-4582-99a1-2501c0106904\",\"type\":\"AnnularWedge\"},{\"attributes\":{\"callback\":null,\"data\":{\"radius\":[0,12,24,36,48]},\"selected\":{\"id\":\"e28a82c5-6174-407a-b103-565b8e19f495\",\"type\":\"Selection\"},\"selection_policy\":{\"id\":\"040915a1-06f9-4cd7-bcdb-e9bf82049c7f\",\"type\":\"UnionRenderers\"}},\"id\":\"823bf68a-9d19-43c1-9ab9-d34a5f2d5430\",\"type\":\"ColumnDataSource\"}],\"root_ids\":[\"19acee3f-232f-4a50-832a-e581f91453f6\"]},\"title\":\"Bokeh Application\",\"version\":\"0.13.0\"}};\n",
       "  var render_items = [{\"docid\":\"eb06c80e-06fe-4d5a-962f-db27713d11f3\",\"roots\":{\"19acee3f-232f-4a50-832a-e581f91453f6\":\"9ddbad6d-f439-4f53-91ef-8eb52e9d6952\"}}];\n",
       "  root.Bokeh.embed.embed_items_notebook(docs_json, render_items);\n",
       "\n",
       "  }\n",
       "  if (root.Bokeh !== undefined) {\n",
       "    embed_document(root);\n",
       "  } else {\n",
       "    var attempts = 0;\n",
       "    var timer = setInterval(function(root) {\n",
       "      if (root.Bokeh !== undefined) {\n",
       "        embed_document(root);\n",
       "        clearInterval(timer);\n",
       "      }\n",
       "      attempts++;\n",
       "      if (attempts > 100) {\n",
       "        console.log(\"Bokeh: ERROR: Unable to run BokehJS code because BokehJS library is missing\")\n",
       "        clearInterval(timer);\n",
       "      }\n",
       "    }, 10, root)\n",
       "  }\n",
       "})(window);"
      ],
      "application/vnd.bokehjs_exec.v0+json": ""
     },
     "metadata": {
      "application/vnd.bokehjs_exec.v0+json": {
       "id": "19acee3f-232f-4a50-832a-e581f91453f6"
      }
     },
     "output_type": "display_data"
    }
   ],
   "source": [
    "p=figure(toolbar_location=None,background_fill_color='black',plot_width=500,plot_height=500, x_range=(-max_val*1.5,max_val*1.5),y_range=(-max_val*1.5,max_val*1.5))\n",
    "#colors=['red','blue','green']\n",
    "colors = itertools.cycle(ccycle.brewer['YlGnBu'][len(As)]) \n",
    "\n",
    "factor=2\n",
    "ml=1\n",
    "res=10\n",
    "while res>5:\n",
    "    res=np.ceil(max_val/(factor*ml))\n",
    "    ml=ml+1\n",
    "divisor=ml*factor\n",
    "\n",
    "labels=[plbl*divisor for plbl in range(0,int(np.ceil(max_val/divisor)+1))]\n",
    "lbl=['W1','W2','W3','W4']\n",
    "VH=['Vehicle '+str(i) for i in range(0,len(As)+1)]\n",
    "\n",
    "for i in range(0,len(As)):\n",
    "    if i==0:\n",
    "        p.annular_wedge(x=0, y=0, inner_radius=0, outer_radius=As[i], start_angle=Angle_Small,end_angle=Angle_Big,line_color='white', color=next(colors),legend=lbl[i])\n",
    "    else:\n",
    "        p.annular_wedge(x=0, y=0, inner_radius=As[i-1], outer_radius=As[i], start_angle=Angle_Small,end_angle=Angle_Big,line_color='white', color=next(colors),legend=lbl[i])\n",
    "        #p.annular_wedge(0, 0, 0, max_val, Angle_Small,Angle_Small, color='black')\n",
    "p.xaxis.visible=False\n",
    "p.yaxis.visible=False\n",
    "p.xgrid.grid_line_color = None\n",
    "p.ygrid.grid_line_color = None\n",
    "p.circle(0, 0, radius=labels, fill_color=None, line_color=\"grey\")\n",
    "p.text(labels,np.zeros(len(labels)),text=labels,text_align=\"center\",text_color='white', text_baseline=\"top\", text_font='helvetica')\n",
    "p.text(0,-max_val*1.3,text=['Fleet Rotation'],text_align=\"center\",text_color='white', text_font_size=\"20pt\",text_baseline=\"middle\", text_font='helvetica')\n",
    "#p.axis.visible=False\n",
    "p.ray(0,0,max_val*1.1,Angle_Small,color='black')\n",
    "p.legend.location = \"top_center\"\n",
    "p.legend.background_fill_alpha = 0.1\n",
    "p.legend.label_text_color='white'\n",
    "p.legend.orientation='horizontal'\n",
    "\n",
    "vangle=[(Angle_Small[i]+Angle_Big[i])/2 for i in range(0,len(Angle_Small))]\n",
    "vx=[max_val*1.2*np.cos(v) for v in vangle]\n",
    "vy=[max_val*1.2*np.sin(v) for v in vangle]\n",
    "\n",
    "p.text(vx,vy,VH, text_align='center', text_baseline='middle', text_color='white')\n",
    "\n",
    "show(p)"
   ]
  },
  {
   "cell_type": "code",
   "execution_count": null,
   "metadata": {},
   "outputs": [],
   "source": [
    "export_png(p,'circular_plot_fancy.png')"
   ]
  },
  {
   "cell_type": "code",
   "execution_count": null,
   "metadata": {},
   "outputs": [],
   "source": [
    "VH"
   ]
  },
  {
   "cell_type": "code",
   "execution_count": null,
   "metadata": {},
   "outputs": [],
   "source": [
    "vangle=[(Angle_Small[i]+Angle_Big[i])/2 for i in range(0,len(Angle_Small))]\n",
    "vx=[max_val*np.cos(v) for v in vangle]\n",
    "vy=[max_val*np.sin(v) for v in vangle]"
   ]
  },
  {
   "cell_type": "code",
   "execution_count": null,
   "metadata": {},
   "outputs": [],
   "source": [
    "vy"
   ]
  },
  {
   "cell_type": "code",
   "execution_count": null,
   "metadata": {
    "scrolled": false
   },
   "outputs": [],
   "source": [
    "p1=figure(plot_width=400,plot_height=400, x_range=(-max_val*1.3,max_val*1.3),y_range=(-max_val*1.3,max_val*1.3))\n",
    "p1.annular_wedge(0,0,0,40,Angle_Small[1],Angle_Big[1])\n",
    "p1.ray(0,0,45,Angle_Small[1])\n",
    "\n",
    "show(p1)"
   ]
  },
  {
   "cell_type": "code",
   "execution_count": null,
   "metadata": {},
   "outputs": [],
   "source": [
    "xs"
   ]
  },
  {
   "cell_type": "code",
   "execution_count": null,
   "metadata": {},
   "outputs": [],
   "source": [
    "#we need to obtain the max values of our data\n",
    "max_vals=[sum(seg) for seg in a]\n",
    "max_val=max(max_vals)"
   ]
  },
  {
   "cell_type": "code",
   "execution_count": null,
   "metadata": {},
   "outputs": [],
   "source": [
    "Angle_Small"
   ]
  },
  {
   "cell_type": "code",
   "execution_count": null,
   "metadata": {},
   "outputs": [],
   "source": [
    "Angle_Big"
   ]
  },
  {
   "cell_type": "code",
   "execution_count": null,
   "metadata": {},
   "outputs": [],
   "source": []
  }
 ],
 "metadata": {
  "kernelspec": {
   "display_name": "Python 3",
   "language": "python",
   "name": "python3"
  },
  "language_info": {
   "codemirror_mode": {
    "name": "ipython",
    "version": 3
   },
   "file_extension": ".py",
   "mimetype": "text/x-python",
   "name": "python",
   "nbconvert_exporter": "python",
   "pygments_lexer": "ipython3",
   "version": "3.7.0"
  }
 },
 "nbformat": 4,
 "nbformat_minor": 2
}
