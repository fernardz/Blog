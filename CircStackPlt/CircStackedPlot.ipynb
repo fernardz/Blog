{
 "cells": [
  {
   "cell_type": "code",
   "execution_count": 1,
   "metadata": {},
   "outputs": [
    {
     "data": {
      "text/html": [
       "\n",
       "    <div class=\"bk-root\">\n",
       "        <a href=\"https://bokeh.pydata.org\" target=\"_blank\" class=\"bk-logo bk-logo-small bk-logo-notebook\"></a>\n",
       "        <span id=\"ebe36b4a-b3af-44a9-9508-4b7b25ad28e7\">Loading BokehJS ...</span>\n",
       "    </div>"
      ]
     },
     "metadata": {},
     "output_type": "display_data"
    },
    {
     "data": {
      "application/javascript": [
       "\n",
       "(function(root) {\n",
       "  function now() {\n",
       "    return new Date();\n",
       "  }\n",
       "\n",
       "  var force = true;\n",
       "\n",
       "  if (typeof (root._bokeh_onload_callbacks) === \"undefined\" || force === true) {\n",
       "    root._bokeh_onload_callbacks = [];\n",
       "    root._bokeh_is_loading = undefined;\n",
       "  }\n",
       "\n",
       "  var JS_MIME_TYPE = 'application/javascript';\n",
       "  var HTML_MIME_TYPE = 'text/html';\n",
       "  var EXEC_MIME_TYPE = 'application/vnd.bokehjs_exec.v0+json';\n",
       "  var CLASS_NAME = 'output_bokeh rendered_html';\n",
       "\n",
       "  /**\n",
       "   * Render data to the DOM node\n",
       "   */\n",
       "  function render(props, node) {\n",
       "    var script = document.createElement(\"script\");\n",
       "    node.appendChild(script);\n",
       "  }\n",
       "\n",
       "  /**\n",
       "   * Handle when an output is cleared or removed\n",
       "   */\n",
       "  function handleClearOutput(event, handle) {\n",
       "    var cell = handle.cell;\n",
       "\n",
       "    var id = cell.output_area._bokeh_element_id;\n",
       "    var server_id = cell.output_area._bokeh_server_id;\n",
       "    // Clean up Bokeh references\n",
       "    if (id != null && id in Bokeh.index) {\n",
       "      Bokeh.index[id].model.document.clear();\n",
       "      delete Bokeh.index[id];\n",
       "    }\n",
       "\n",
       "    if (server_id !== undefined) {\n",
       "      // Clean up Bokeh references\n",
       "      var cmd = \"from bokeh.io.state import curstate; print(curstate().uuid_to_server['\" + server_id + \"'].get_sessions()[0].document.roots[0]._id)\";\n",
       "      cell.notebook.kernel.execute(cmd, {\n",
       "        iopub: {\n",
       "          output: function(msg) {\n",
       "            var id = msg.content.text.trim();\n",
       "            if (id in Bokeh.index) {\n",
       "              Bokeh.index[id].model.document.clear();\n",
       "              delete Bokeh.index[id];\n",
       "            }\n",
       "          }\n",
       "        }\n",
       "      });\n",
       "      // Destroy server and session\n",
       "      var cmd = \"import bokeh.io.notebook as ion; ion.destroy_server('\" + server_id + \"')\";\n",
       "      cell.notebook.kernel.execute(cmd);\n",
       "    }\n",
       "  }\n",
       "\n",
       "  /**\n",
       "   * Handle when a new output is added\n",
       "   */\n",
       "  function handleAddOutput(event, handle) {\n",
       "    var output_area = handle.output_area;\n",
       "    var output = handle.output;\n",
       "\n",
       "    // limit handleAddOutput to display_data with EXEC_MIME_TYPE content only\n",
       "    if ((output.output_type != \"display_data\") || (!output.data.hasOwnProperty(EXEC_MIME_TYPE))) {\n",
       "      return\n",
       "    }\n",
       "\n",
       "    var toinsert = output_area.element.find(\".\" + CLASS_NAME.split(' ')[0]);\n",
       "\n",
       "    if (output.metadata[EXEC_MIME_TYPE][\"id\"] !== undefined) {\n",
       "      toinsert[toinsert.length - 1].firstChild.textContent = output.data[JS_MIME_TYPE];\n",
       "      // store reference to embed id on output_area\n",
       "      output_area._bokeh_element_id = output.metadata[EXEC_MIME_TYPE][\"id\"];\n",
       "    }\n",
       "    if (output.metadata[EXEC_MIME_TYPE][\"server_id\"] !== undefined) {\n",
       "      var bk_div = document.createElement(\"div\");\n",
       "      bk_div.innerHTML = output.data[HTML_MIME_TYPE];\n",
       "      var script_attrs = bk_div.children[0].attributes;\n",
       "      for (var i = 0; i < script_attrs.length; i++) {\n",
       "        toinsert[toinsert.length - 1].firstChild.setAttribute(script_attrs[i].name, script_attrs[i].value);\n",
       "      }\n",
       "      // store reference to server id on output_area\n",
       "      output_area._bokeh_server_id = output.metadata[EXEC_MIME_TYPE][\"server_id\"];\n",
       "    }\n",
       "  }\n",
       "\n",
       "  function register_renderer(events, OutputArea) {\n",
       "\n",
       "    function append_mime(data, metadata, element) {\n",
       "      // create a DOM node to render to\n",
       "      var toinsert = this.create_output_subarea(\n",
       "        metadata,\n",
       "        CLASS_NAME,\n",
       "        EXEC_MIME_TYPE\n",
       "      );\n",
       "      this.keyboard_manager.register_events(toinsert);\n",
       "      // Render to node\n",
       "      var props = {data: data, metadata: metadata[EXEC_MIME_TYPE]};\n",
       "      render(props, toinsert[toinsert.length - 1]);\n",
       "      element.append(toinsert);\n",
       "      return toinsert\n",
       "    }\n",
       "\n",
       "    /* Handle when an output is cleared or removed */\n",
       "    events.on('clear_output.CodeCell', handleClearOutput);\n",
       "    events.on('delete.Cell', handleClearOutput);\n",
       "\n",
       "    /* Handle when a new output is added */\n",
       "    events.on('output_added.OutputArea', handleAddOutput);\n",
       "\n",
       "    /**\n",
       "     * Register the mime type and append_mime function with output_area\n",
       "     */\n",
       "    OutputArea.prototype.register_mime_type(EXEC_MIME_TYPE, append_mime, {\n",
       "      /* Is output safe? */\n",
       "      safe: true,\n",
       "      /* Index of renderer in `output_area.display_order` */\n",
       "      index: 0\n",
       "    });\n",
       "  }\n",
       "\n",
       "  // register the mime type if in Jupyter Notebook environment and previously unregistered\n",
       "  if (root.Jupyter !== undefined) {\n",
       "    var events = require('base/js/events');\n",
       "    var OutputArea = require('notebook/js/outputarea').OutputArea;\n",
       "\n",
       "    if (OutputArea.prototype.mime_types().indexOf(EXEC_MIME_TYPE) == -1) {\n",
       "      register_renderer(events, OutputArea);\n",
       "    }\n",
       "  }\n",
       "\n",
       "  \n",
       "  if (typeof (root._bokeh_timeout) === \"undefined\" || force === true) {\n",
       "    root._bokeh_timeout = Date.now() + 5000;\n",
       "    root._bokeh_failed_load = false;\n",
       "  }\n",
       "\n",
       "  var NB_LOAD_WARNING = {'data': {'text/html':\n",
       "     \"<div style='background-color: #fdd'>\\n\"+\n",
       "     \"<p>\\n\"+\n",
       "     \"BokehJS does not appear to have successfully loaded. If loading BokehJS from CDN, this \\n\"+\n",
       "     \"may be due to a slow or bad network connection. Possible fixes:\\n\"+\n",
       "     \"</p>\\n\"+\n",
       "     \"<ul>\\n\"+\n",
       "     \"<li>re-rerun `output_notebook()` to attempt to load from CDN again, or</li>\\n\"+\n",
       "     \"<li>use INLINE resources instead, as so:</li>\\n\"+\n",
       "     \"</ul>\\n\"+\n",
       "     \"<code>\\n\"+\n",
       "     \"from bokeh.resources import INLINE\\n\"+\n",
       "     \"output_notebook(resources=INLINE)\\n\"+\n",
       "     \"</code>\\n\"+\n",
       "     \"</div>\"}};\n",
       "\n",
       "  function display_loaded() {\n",
       "    var el = document.getElementById(\"ebe36b4a-b3af-44a9-9508-4b7b25ad28e7\");\n",
       "    if (el != null) {\n",
       "      el.textContent = \"BokehJS is loading...\";\n",
       "    }\n",
       "    if (root.Bokeh !== undefined) {\n",
       "      if (el != null) {\n",
       "        el.textContent = \"BokehJS \" + root.Bokeh.version + \" successfully loaded.\";\n",
       "      }\n",
       "    } else if (Date.now() < root._bokeh_timeout) {\n",
       "      setTimeout(display_loaded, 100)\n",
       "    }\n",
       "  }\n",
       "\n",
       "\n",
       "  function run_callbacks() {\n",
       "    try {\n",
       "      root._bokeh_onload_callbacks.forEach(function(callback) { callback() });\n",
       "    }\n",
       "    finally {\n",
       "      delete root._bokeh_onload_callbacks\n",
       "    }\n",
       "    console.info(\"Bokeh: all callbacks have finished\");\n",
       "  }\n",
       "\n",
       "  function load_libs(js_urls, callback) {\n",
       "    root._bokeh_onload_callbacks.push(callback);\n",
       "    if (root._bokeh_is_loading > 0) {\n",
       "      console.log(\"Bokeh: BokehJS is being loaded, scheduling callback at\", now());\n",
       "      return null;\n",
       "    }\n",
       "    if (js_urls == null || js_urls.length === 0) {\n",
       "      run_callbacks();\n",
       "      return null;\n",
       "    }\n",
       "    console.log(\"Bokeh: BokehJS not loaded, scheduling load and callback at\", now());\n",
       "    root._bokeh_is_loading = js_urls.length;\n",
       "    for (var i = 0; i < js_urls.length; i++) {\n",
       "      var url = js_urls[i];\n",
       "      var s = document.createElement('script');\n",
       "      s.src = url;\n",
       "      s.async = false;\n",
       "      s.onreadystatechange = s.onload = function() {\n",
       "        root._bokeh_is_loading--;\n",
       "        if (root._bokeh_is_loading === 0) {\n",
       "          console.log(\"Bokeh: all BokehJS libraries loaded\");\n",
       "          run_callbacks()\n",
       "        }\n",
       "      };\n",
       "      s.onerror = function() {\n",
       "        console.warn(\"failed to load library \" + url);\n",
       "      };\n",
       "      console.log(\"Bokeh: injecting script tag for BokehJS library: \", url);\n",
       "      document.getElementsByTagName(\"head\")[0].appendChild(s);\n",
       "    }\n",
       "  };var element = document.getElementById(\"ebe36b4a-b3af-44a9-9508-4b7b25ad28e7\");\n",
       "  if (element == null) {\n",
       "    console.log(\"Bokeh: ERROR: autoload.js configured with elementid 'ebe36b4a-b3af-44a9-9508-4b7b25ad28e7' but no matching script tag was found. \")\n",
       "    return false;\n",
       "  }\n",
       "\n",
       "  var js_urls = [\"https://cdn.pydata.org/bokeh/release/bokeh-0.13.0.min.js\", \"https://cdn.pydata.org/bokeh/release/bokeh-widgets-0.13.0.min.js\", \"https://cdn.pydata.org/bokeh/release/bokeh-tables-0.13.0.min.js\", \"https://cdn.pydata.org/bokeh/release/bokeh-gl-0.13.0.min.js\"];\n",
       "\n",
       "  var inline_js = [\n",
       "    function(Bokeh) {\n",
       "      Bokeh.set_log_level(\"info\");\n",
       "    },\n",
       "    \n",
       "    function(Bokeh) {\n",
       "      \n",
       "    },\n",
       "    function(Bokeh) {\n",
       "      console.log(\"Bokeh: injecting CSS: https://cdn.pydata.org/bokeh/release/bokeh-0.13.0.min.css\");\n",
       "      Bokeh.embed.inject_css(\"https://cdn.pydata.org/bokeh/release/bokeh-0.13.0.min.css\");\n",
       "      console.log(\"Bokeh: injecting CSS: https://cdn.pydata.org/bokeh/release/bokeh-widgets-0.13.0.min.css\");\n",
       "      Bokeh.embed.inject_css(\"https://cdn.pydata.org/bokeh/release/bokeh-widgets-0.13.0.min.css\");\n",
       "      console.log(\"Bokeh: injecting CSS: https://cdn.pydata.org/bokeh/release/bokeh-tables-0.13.0.min.css\");\n",
       "      Bokeh.embed.inject_css(\"https://cdn.pydata.org/bokeh/release/bokeh-tables-0.13.0.min.css\");\n",
       "    }\n",
       "  ];\n",
       "\n",
       "  function run_inline_js() {\n",
       "    \n",
       "    if ((root.Bokeh !== undefined) || (force === true)) {\n",
       "      for (var i = 0; i < inline_js.length; i++) {\n",
       "        inline_js[i].call(root, root.Bokeh);\n",
       "      }if (force === true) {\n",
       "        display_loaded();\n",
       "      }} else if (Date.now() < root._bokeh_timeout) {\n",
       "      setTimeout(run_inline_js, 100);\n",
       "    } else if (!root._bokeh_failed_load) {\n",
       "      console.log(\"Bokeh: BokehJS failed to load within specified timeout.\");\n",
       "      root._bokeh_failed_load = true;\n",
       "    } else if (force !== true) {\n",
       "      var cell = $(document.getElementById(\"ebe36b4a-b3af-44a9-9508-4b7b25ad28e7\")).parents('.cell').data().cell;\n",
       "      cell.output_area.append_execute_result(NB_LOAD_WARNING)\n",
       "    }\n",
       "\n",
       "  }\n",
       "\n",
       "  if (root._bokeh_is_loading === 0) {\n",
       "    console.log(\"Bokeh: BokehJS loaded, going straight to plotting\");\n",
       "    run_inline_js();\n",
       "  } else {\n",
       "    load_libs(js_urls, function() {\n",
       "      console.log(\"Bokeh: BokehJS plotting callback run at\", now());\n",
       "      run_inline_js();\n",
       "    });\n",
       "  }\n",
       "}(window));"
      ],
      "application/vnd.bokehjs_load.v0+json": "\n(function(root) {\n  function now() {\n    return new Date();\n  }\n\n  var force = true;\n\n  if (typeof (root._bokeh_onload_callbacks) === \"undefined\" || force === true) {\n    root._bokeh_onload_callbacks = [];\n    root._bokeh_is_loading = undefined;\n  }\n\n  \n\n  \n  if (typeof (root._bokeh_timeout) === \"undefined\" || force === true) {\n    root._bokeh_timeout = Date.now() + 5000;\n    root._bokeh_failed_load = false;\n  }\n\n  var NB_LOAD_WARNING = {'data': {'text/html':\n     \"<div style='background-color: #fdd'>\\n\"+\n     \"<p>\\n\"+\n     \"BokehJS does not appear to have successfully loaded. If loading BokehJS from CDN, this \\n\"+\n     \"may be due to a slow or bad network connection. Possible fixes:\\n\"+\n     \"</p>\\n\"+\n     \"<ul>\\n\"+\n     \"<li>re-rerun `output_notebook()` to attempt to load from CDN again, or</li>\\n\"+\n     \"<li>use INLINE resources instead, as so:</li>\\n\"+\n     \"</ul>\\n\"+\n     \"<code>\\n\"+\n     \"from bokeh.resources import INLINE\\n\"+\n     \"output_notebook(resources=INLINE)\\n\"+\n     \"</code>\\n\"+\n     \"</div>\"}};\n\n  function display_loaded() {\n    var el = document.getElementById(\"ebe36b4a-b3af-44a9-9508-4b7b25ad28e7\");\n    if (el != null) {\n      el.textContent = \"BokehJS is loading...\";\n    }\n    if (root.Bokeh !== undefined) {\n      if (el != null) {\n        el.textContent = \"BokehJS \" + root.Bokeh.version + \" successfully loaded.\";\n      }\n    } else if (Date.now() < root._bokeh_timeout) {\n      setTimeout(display_loaded, 100)\n    }\n  }\n\n\n  function run_callbacks() {\n    try {\n      root._bokeh_onload_callbacks.forEach(function(callback) { callback() });\n    }\n    finally {\n      delete root._bokeh_onload_callbacks\n    }\n    console.info(\"Bokeh: all callbacks have finished\");\n  }\n\n  function load_libs(js_urls, callback) {\n    root._bokeh_onload_callbacks.push(callback);\n    if (root._bokeh_is_loading > 0) {\n      console.log(\"Bokeh: BokehJS is being loaded, scheduling callback at\", now());\n      return null;\n    }\n    if (js_urls == null || js_urls.length === 0) {\n      run_callbacks();\n      return null;\n    }\n    console.log(\"Bokeh: BokehJS not loaded, scheduling load and callback at\", now());\n    root._bokeh_is_loading = js_urls.length;\n    for (var i = 0; i < js_urls.length; i++) {\n      var url = js_urls[i];\n      var s = document.createElement('script');\n      s.src = url;\n      s.async = false;\n      s.onreadystatechange = s.onload = function() {\n        root._bokeh_is_loading--;\n        if (root._bokeh_is_loading === 0) {\n          console.log(\"Bokeh: all BokehJS libraries loaded\");\n          run_callbacks()\n        }\n      };\n      s.onerror = function() {\n        console.warn(\"failed to load library \" + url);\n      };\n      console.log(\"Bokeh: injecting script tag for BokehJS library: \", url);\n      document.getElementsByTagName(\"head\")[0].appendChild(s);\n    }\n  };var element = document.getElementById(\"ebe36b4a-b3af-44a9-9508-4b7b25ad28e7\");\n  if (element == null) {\n    console.log(\"Bokeh: ERROR: autoload.js configured with elementid 'ebe36b4a-b3af-44a9-9508-4b7b25ad28e7' but no matching script tag was found. \")\n    return false;\n  }\n\n  var js_urls = [\"https://cdn.pydata.org/bokeh/release/bokeh-0.13.0.min.js\", \"https://cdn.pydata.org/bokeh/release/bokeh-widgets-0.13.0.min.js\", \"https://cdn.pydata.org/bokeh/release/bokeh-tables-0.13.0.min.js\", \"https://cdn.pydata.org/bokeh/release/bokeh-gl-0.13.0.min.js\"];\n\n  var inline_js = [\n    function(Bokeh) {\n      Bokeh.set_log_level(\"info\");\n    },\n    \n    function(Bokeh) {\n      \n    },\n    function(Bokeh) {\n      console.log(\"Bokeh: injecting CSS: https://cdn.pydata.org/bokeh/release/bokeh-0.13.0.min.css\");\n      Bokeh.embed.inject_css(\"https://cdn.pydata.org/bokeh/release/bokeh-0.13.0.min.css\");\n      console.log(\"Bokeh: injecting CSS: https://cdn.pydata.org/bokeh/release/bokeh-widgets-0.13.0.min.css\");\n      Bokeh.embed.inject_css(\"https://cdn.pydata.org/bokeh/release/bokeh-widgets-0.13.0.min.css\");\n      console.log(\"Bokeh: injecting CSS: https://cdn.pydata.org/bokeh/release/bokeh-tables-0.13.0.min.css\");\n      Bokeh.embed.inject_css(\"https://cdn.pydata.org/bokeh/release/bokeh-tables-0.13.0.min.css\");\n    }\n  ];\n\n  function run_inline_js() {\n    \n    if ((root.Bokeh !== undefined) || (force === true)) {\n      for (var i = 0; i < inline_js.length; i++) {\n        inline_js[i].call(root, root.Bokeh);\n      }if (force === true) {\n        display_loaded();\n      }} else if (Date.now() < root._bokeh_timeout) {\n      setTimeout(run_inline_js, 100);\n    } else if (!root._bokeh_failed_load) {\n      console.log(\"Bokeh: BokehJS failed to load within specified timeout.\");\n      root._bokeh_failed_load = true;\n    } else if (force !== true) {\n      var cell = $(document.getElementById(\"ebe36b4a-b3af-44a9-9508-4b7b25ad28e7\")).parents('.cell').data().cell;\n      cell.output_area.append_execute_result(NB_LOAD_WARNING)\n    }\n\n  }\n\n  if (root._bokeh_is_loading === 0) {\n    console.log(\"Bokeh: BokehJS loaded, going straight to plotting\");\n    run_inline_js();\n  } else {\n    load_libs(js_urls, function() {\n      console.log(\"Bokeh: BokehJS plotting callback run at\", now());\n      run_inline_js();\n    });\n  }\n}(window));"
     },
     "metadata": {},
     "output_type": "display_data"
    }
   ],
   "source": [
    "import bokeh\n",
    "import itertools\n",
    "import numpy as np\n",
    "from bokeh.plotting import figure, show, output_file\n",
    "import bokeh.palettes as ccycle\n",
    "from bokeh.io import output_notebook, export_png\n",
    "output_notebook()"
   ]
  },
  {
   "cell_type": "code",
   "execution_count": 2,
   "metadata": {},
   "outputs": [],
   "source": [
    "a1=[10,15,6,7]\n",
    "a2=[9,8,18,10]\n",
    "a3=[0,24,5,7]\n",
    "a4=[12,16,5,3]\n",
    "a5=[13,13,13,2]"
   ]
  },
  {
   "cell_type": "code",
   "execution_count": 3,
   "metadata": {},
   "outputs": [],
   "source": [
    "a=[a1,a2,a3,a4,a5]\n",
    "#we need to obtain the max values of our data\n",
    "max_vals=[sum(seg) for seg in a]\n",
    "max_val=max([sum(seg) for seg in a])"
   ]
  },
  {
   "cell_type": "code",
   "execution_count": 4,
   "metadata": {},
   "outputs": [],
   "source": [
    "Angle_Increment=(np.pi*2.0)/(len(a))"
   ]
  },
  {
   "cell_type": "code",
   "execution_count": 5,
   "metadata": {},
   "outputs": [
    {
     "data": {
      "text/plain": [
       "1.2566370614359172"
      ]
     },
     "execution_count": 5,
     "metadata": {},
     "output_type": "execute_result"
    }
   ],
   "source": [
    "Angle_Increment"
   ]
  },
  {
   "cell_type": "code",
   "execution_count": 6,
   "metadata": {},
   "outputs": [
    {
     "data": {
      "text/plain": [
       "6.283185307179586"
      ]
     },
     "execution_count": 6,
     "metadata": {},
     "output_type": "execute_result"
    }
   ],
   "source": [
    "2.0*np.pi"
   ]
  },
  {
   "cell_type": "code",
   "execution_count": 7,
   "metadata": {},
   "outputs": [
    {
     "name": "stdout",
     "output_type": "stream",
     "text": [
      "[0.0, 1.2566370614359172, 2.5132741228718345, 3.7699111843077517, 5.026548245743669] [1.2566370614359172, 2.5132741228718345, 3.7699111843077517, 5.026548245743669, 6.283185307179586]\n"
     ]
    }
   ],
   "source": [
    "Angle_Small=[x*Angle_Increment for x in range(0,len(a))]\n",
    "Angle_Big=[x+Angle_Increment for x in Angle_Small]\n",
    "As=[[sum(x[0:i+1]) for x in a] for i in range(0,len(a[0]))]\n",
    "#print(A1,A2,A3)\n",
    "print(Angle_Small, Angle_Big)"
   ]
  },
  {
   "cell_type": "code",
   "execution_count": 8,
   "metadata": {},
   "outputs": [
    {
     "name": "stdout",
     "output_type": "stream",
     "text": [
      "0\n",
      "1\n",
      "2\n",
      "3\n"
     ]
    },
    {
     "data": {
      "text/html": [
       "\n",
       "\n",
       "\n",
       "\n",
       "\n",
       "\n",
       "  <div class=\"bk-root\" id=\"f491e909-fc63-46f4-b44f-e43063c34707\"></div>\n"
      ]
     },
     "metadata": {},
     "output_type": "display_data"
    },
    {
     "data": {
      "application/javascript": [
       "(function(root) {\n",
       "  function embed_document(root) {\n",
       "    \n",
       "  var docs_json = {\"a6b6146a-9a01-470c-ba06-341cc6a14d6f\":{\"roots\":{\"references\":[{\"attributes\":{\"end_angle\":{\"field\":\"end_angle\",\"units\":\"rad\"},\"fill_alpha\":{\"value\":0.1},\"fill_color\":{\"value\":\"#1f77b4\"},\"inner_radius\":{\"units\":\"data\",\"value\":0},\"line_alpha\":{\"value\":0.1},\"line_color\":{\"value\":\"#1f77b4\"},\"outer_radius\":{\"field\":\"outer_radius\",\"units\":\"data\"},\"start_angle\":{\"field\":\"start_angle\",\"units\":\"rad\"},\"x\":{\"value\":0},\"y\":{\"value\":0}},\"id\":\"070082d6-7ed5-4526-a0d0-ceb70e944ec3\",\"type\":\"AnnularWedge\"},{\"attributes\":{\"end_angle\":{\"field\":\"end_angle\",\"units\":\"rad\"},\"fill_alpha\":{\"value\":0.1},\"fill_color\":{\"value\":\"#1f77b4\"},\"inner_radius\":{\"field\":\"inner_radius\",\"units\":\"data\"},\"line_alpha\":{\"value\":0.1},\"line_color\":{\"value\":\"#1f77b4\"},\"outer_radius\":{\"field\":\"outer_radius\",\"units\":\"data\"},\"start_angle\":{\"field\":\"start_angle\",\"units\":\"rad\"},\"x\":{\"value\":0},\"y\":{\"value\":0}},\"id\":\"865d1936-2814-4053-92ea-18c2c09995cc\",\"type\":\"AnnularWedge\"},{\"attributes\":{\"callback\":null,\"end\":58.5,\"start\":-58.5},\"id\":\"8b1e73a0-352f-487e-82d7-df0415fe3dac\",\"type\":\"Range1d\"},{\"attributes\":{\"data_source\":{\"id\":\"dbce521e-7d8d-41c5-8348-6e0c52459ebd\",\"type\":\"ColumnDataSource\"},\"glyph\":{\"id\":\"62c32ce4-6ada-4558-9e43-657757d1fe22\",\"type\":\"AnnularWedge\"},\"hover_glyph\":null,\"muted_glyph\":null,\"nonselection_glyph\":{\"id\":\"865d1936-2814-4053-92ea-18c2c09995cc\",\"type\":\"AnnularWedge\"},\"selection_glyph\":null,\"view\":{\"id\":\"282f8657-b53b-4c79-8224-1cb7a4f68274\",\"type\":\"CDSView\"}},\"id\":\"427e5a82-7de2-4c06-9395-6d633496ed2e\",\"type\":\"GlyphRenderer\"},{\"attributes\":{\"source\":{\"id\":\"dbce521e-7d8d-41c5-8348-6e0c52459ebd\",\"type\":\"ColumnDataSource\"}},\"id\":\"282f8657-b53b-4c79-8224-1cb7a4f68274\",\"type\":\"CDSView\"},{\"attributes\":{},\"id\":\"0e1e894e-530f-4671-98ba-b41f7a5915fe\",\"type\":\"LinearScale\"},{\"attributes\":{},\"id\":\"b22128ac-9db0-43f1-bb86-604b41d4bf22\",\"type\":\"LinearScale\"},{\"attributes\":{},\"id\":\"eb93a72b-ec3a-440f-9d5c-d2abbcbbbc5d\",\"type\":\"BasicTickFormatter\"},{\"attributes\":{},\"id\":\"6af133ce-1930-4e51-a44b-e63293eb852d\",\"type\":\"BasicTicker\"},{\"attributes\":{},\"id\":\"444fedf5-d9c0-44fd-b191-7b0dbf18e7ec\",\"type\":\"BasicTickFormatter\"},{\"attributes\":{\"formatter\":{\"id\":\"444fedf5-d9c0-44fd-b191-7b0dbf18e7ec\",\"type\":\"BasicTickFormatter\"},\"plot\":{\"id\":\"525d5920-ff6a-4e00-a1e8-c818d17635da\",\"subtype\":\"Figure\",\"type\":\"Plot\"},\"ticker\":{\"id\":\"4956e1cd-b6ea-4820-8612-5201d0ca503d\",\"type\":\"BasicTicker\"}},\"id\":\"955552d6-aa7c-44f2-985c-c910672acad4\",\"type\":\"LinearAxis\"},{\"attributes\":{},\"id\":\"48c85f98-32ca-424b-86b0-42dc74d773a7\",\"type\":\"Selection\"},{\"attributes\":{},\"id\":\"4956e1cd-b6ea-4820-8612-5201d0ca503d\",\"type\":\"BasicTicker\"},{\"attributes\":{},\"id\":\"a60b735f-b8ac-48bc-b539-0eca22a44ced\",\"type\":\"UnionRenderers\"},{\"attributes\":{\"plot\":{\"id\":\"525d5920-ff6a-4e00-a1e8-c818d17635da\",\"subtype\":\"Figure\",\"type\":\"Plot\"},\"ticker\":{\"id\":\"4956e1cd-b6ea-4820-8612-5201d0ca503d\",\"type\":\"BasicTicker\"}},\"id\":\"bf28aef3-9596-4903-8fa2-b19df0f0133c\",\"type\":\"Grid\"},{\"attributes\":{},\"id\":\"6ea9314a-818f-4a42-859d-c0d075401c21\",\"type\":\"Selection\"},{\"attributes\":{\"dimension\":1,\"plot\":{\"id\":\"525d5920-ff6a-4e00-a1e8-c818d17635da\",\"subtype\":\"Figure\",\"type\":\"Plot\"},\"ticker\":{\"id\":\"6af133ce-1930-4e51-a44b-e63293eb852d\",\"type\":\"BasicTicker\"}},\"id\":\"7755b79b-087a-4fae-9b37-9ef125e4e76c\",\"type\":\"Grid\"},{\"attributes\":{},\"id\":\"463dc269-0a26-4fc4-a894-46a4f9cf5d4e\",\"type\":\"UnionRenderers\"},{\"attributes\":{\"callback\":null,\"data\":{\"end_angle\":[1.2566370614359172,2.5132741228718345,3.7699111843077517,5.026548245743669,6.283185307179586],\"inner_radius\":[25,17,24,28,26],\"outer_radius\":[31,35,29,33,39],\"start_angle\":[0.0,1.2566370614359172,2.5132741228718345,3.7699111843077517,5.026548245743669]},\"selected\":{\"id\":\"c9dfba9b-aa39-4b6a-aa6f-06d0ac7a283d\",\"type\":\"Selection\"},\"selection_policy\":{\"id\":\"68686077-c335-478a-8a76-ff77317bca24\",\"type\":\"UnionRenderers\"}},\"id\":\"ddbbf84d-b93b-4b7a-b4cd-d6abff56d4c1\",\"type\":\"ColumnDataSource\"},{\"attributes\":{},\"id\":\"c9dfba9b-aa39-4b6a-aa6f-06d0ac7a283d\",\"type\":\"Selection\"},{\"attributes\":{\"callback\":null,\"data\":{\"end_angle\":[1.2566370614359172,2.5132741228718345,3.7699111843077517,5.026548245743669,6.283185307179586],\"outer_radius\":[10,9,0,12,13],\"start_angle\":[0.0,1.2566370614359172,2.5132741228718345,3.7699111843077517,5.026548245743669]},\"selected\":{\"id\":\"48c85f98-32ca-424b-86b0-42dc74d773a7\",\"type\":\"Selection\"},\"selection_policy\":{\"id\":\"a60b735f-b8ac-48bc-b539-0eca22a44ced\",\"type\":\"UnionRenderers\"}},\"id\":\"60645473-3c46-464e-bc26-6ee399a15af8\",\"type\":\"ColumnDataSource\"},{\"attributes\":{},\"id\":\"68686077-c335-478a-8a76-ff77317bca24\",\"type\":\"UnionRenderers\"},{\"attributes\":{\"end_angle\":{\"field\":\"end_angle\",\"units\":\"rad\"},\"fill_color\":{\"value\":\"red\"},\"inner_radius\":{\"units\":\"data\",\"value\":0},\"line_color\":{\"value\":null},\"outer_radius\":{\"field\":\"outer_radius\",\"units\":\"data\"},\"start_angle\":{\"field\":\"start_angle\",\"units\":\"rad\"},\"x\":{\"value\":0},\"y\":{\"value\":0}},\"id\":\"57707903-5266-47f4-af14-ca0b67c61363\",\"type\":\"AnnularWedge\"},{\"attributes\":{},\"id\":\"6eca6f58-0965-42b6-8207-2b823c302a1e\",\"type\":\"Selection\"},{\"attributes\":{},\"id\":\"86321eea-a77c-441c-bdb5-3da3ca8c0a8c\",\"type\":\"PanTool\"},{\"attributes\":{},\"id\":\"c001b4ca-77e6-4460-a695-f381b947fb7a\",\"type\":\"UnionRenderers\"},{\"attributes\":{\"data_source\":{\"id\":\"60645473-3c46-464e-bc26-6ee399a15af8\",\"type\":\"ColumnDataSource\"},\"glyph\":{\"id\":\"57707903-5266-47f4-af14-ca0b67c61363\",\"type\":\"AnnularWedge\"},\"hover_glyph\":null,\"muted_glyph\":null,\"nonselection_glyph\":{\"id\":\"070082d6-7ed5-4526-a0d0-ceb70e944ec3\",\"type\":\"AnnularWedge\"},\"selection_glyph\":null,\"view\":{\"id\":\"7ec63a8a-a254-4a12-baaf-c9a2ea9075d3\",\"type\":\"CDSView\"}},\"id\":\"7313e018-c5c2-4785-8f4c-d4a6eda92533\",\"type\":\"GlyphRenderer\"},{\"attributes\":{},\"id\":\"840bb6ae-dca2-4e16-af47-48fa9a9207d0\",\"type\":\"WheelZoomTool\"},{\"attributes\":{\"overlay\":{\"id\":\"db75ed4a-4445-49d1-8302-42411a7d66b6\",\"type\":\"BoxAnnotation\"}},\"id\":\"d90a7399-dec1-4411-b200-2ad72f8e2b9d\",\"type\":\"BoxZoomTool\"},{\"attributes\":{},\"id\":\"e5c76ff8-a1c0-4f8b-935b-bd044880591b\",\"type\":\"SaveTool\"},{\"attributes\":{},\"id\":\"191386ea-8ff8-4f23-b86d-c38ebc7d9f64\",\"type\":\"ResetTool\"},{\"attributes\":{\"callback\":null,\"data\":{\"end_angle\":[1.2566370614359172,2.5132741228718345,3.7699111843077517,5.026548245743669,6.283185307179586],\"inner_radius\":[10,9,0,12,13],\"outer_radius\":[25,17,24,28,26],\"start_angle\":[0.0,1.2566370614359172,2.5132741228718345,3.7699111843077517,5.026548245743669]},\"selected\":{\"id\":\"6ea9314a-818f-4a42-859d-c0d075401c21\",\"type\":\"Selection\"},\"selection_policy\":{\"id\":\"463dc269-0a26-4fc4-a894-46a4f9cf5d4e\",\"type\":\"UnionRenderers\"}},\"id\":\"bc930d30-bd3f-4810-9e0d-f951974c0db7\",\"type\":\"ColumnDataSource\"},{\"attributes\":{},\"id\":\"f633bd6b-e307-44c1-8fdb-c6a519286830\",\"type\":\"HelpTool\"},{\"attributes\":{\"bottom_units\":\"screen\",\"fill_alpha\":{\"value\":0.5},\"fill_color\":{\"value\":\"lightgrey\"},\"left_units\":\"screen\",\"level\":\"overlay\",\"line_alpha\":{\"value\":1.0},\"line_color\":{\"value\":\"black\"},\"line_dash\":[4,4],\"line_width\":{\"value\":2},\"plot\":null,\"render_mode\":\"css\",\"right_units\":\"screen\",\"top_units\":\"screen\"},\"id\":\"db75ed4a-4445-49d1-8302-42411a7d66b6\",\"type\":\"BoxAnnotation\"},{\"attributes\":{\"end_angle\":{\"field\":\"end_angle\",\"units\":\"rad\"},\"fill_alpha\":{\"value\":0.1},\"fill_color\":{\"value\":\"#1f77b4\"},\"inner_radius\":{\"field\":\"inner_radius\",\"units\":\"data\"},\"line_alpha\":{\"value\":0.1},\"line_color\":{\"value\":\"#1f77b4\"},\"outer_radius\":{\"field\":\"outer_radius\",\"units\":\"data\"},\"start_angle\":{\"field\":\"start_angle\",\"units\":\"rad\"},\"x\":{\"value\":0},\"y\":{\"value\":0}},\"id\":\"e66ce3c7-d0bf-45f5-8062-404c2780cbf2\",\"type\":\"AnnularWedge\"},{\"attributes\":{\"source\":{\"id\":\"60645473-3c46-464e-bc26-6ee399a15af8\",\"type\":\"ColumnDataSource\"}},\"id\":\"7ec63a8a-a254-4a12-baaf-c9a2ea9075d3\",\"type\":\"CDSView\"},{\"attributes\":{\"end_angle\":{\"field\":\"end_angle\",\"units\":\"rad\"},\"fill_color\":{\"value\":\"blue\"},\"inner_radius\":{\"field\":\"inner_radius\",\"units\":\"data\"},\"line_color\":{\"value\":null},\"outer_radius\":{\"field\":\"outer_radius\",\"units\":\"data\"},\"start_angle\":{\"field\":\"start_angle\",\"units\":\"rad\"},\"x\":{\"value\":0},\"y\":{\"value\":0}},\"id\":\"791c2453-473a-46fe-a43b-8861b0034aa5\",\"type\":\"AnnularWedge\"},{\"attributes\":{\"end_angle\":{\"field\":\"end_angle\",\"units\":\"rad\"},\"fill_alpha\":{\"value\":0.1},\"fill_color\":{\"value\":\"#1f77b4\"},\"inner_radius\":{\"field\":\"inner_radius\",\"units\":\"data\"},\"line_alpha\":{\"value\":0.1},\"line_color\":{\"value\":\"#1f77b4\"},\"outer_radius\":{\"field\":\"outer_radius\",\"units\":\"data\"},\"start_angle\":{\"field\":\"start_angle\",\"units\":\"rad\"},\"x\":{\"value\":0},\"y\":{\"value\":0}},\"id\":\"2a9a5692-af9f-4233-b5d4-98437a1911b4\",\"type\":\"AnnularWedge\"},{\"attributes\":{\"data_source\":{\"id\":\"bc930d30-bd3f-4810-9e0d-f951974c0db7\",\"type\":\"ColumnDataSource\"},\"glyph\":{\"id\":\"791c2453-473a-46fe-a43b-8861b0034aa5\",\"type\":\"AnnularWedge\"},\"hover_glyph\":null,\"muted_glyph\":null,\"nonselection_glyph\":{\"id\":\"2a9a5692-af9f-4233-b5d4-98437a1911b4\",\"type\":\"AnnularWedge\"},\"selection_glyph\":null,\"view\":{\"id\":\"49def51a-b557-49b8-bc03-9a529e08474e\",\"type\":\"CDSView\"}},\"id\":\"2f5707a9-a977-41aa-bbaa-36457876d7b6\",\"type\":\"GlyphRenderer\"},{\"attributes\":{\"formatter\":{\"id\":\"eb93a72b-ec3a-440f-9d5c-d2abbcbbbc5d\",\"type\":\"BasicTickFormatter\"},\"plot\":{\"id\":\"525d5920-ff6a-4e00-a1e8-c818d17635da\",\"subtype\":\"Figure\",\"type\":\"Plot\"},\"ticker\":{\"id\":\"6af133ce-1930-4e51-a44b-e63293eb852d\",\"type\":\"BasicTicker\"}},\"id\":\"eb85918b-185b-4be9-8f05-aba604437155\",\"type\":\"LinearAxis\"},{\"attributes\":{\"source\":{\"id\":\"bc930d30-bd3f-4810-9e0d-f951974c0db7\",\"type\":\"ColumnDataSource\"}},\"id\":\"49def51a-b557-49b8-bc03-9a529e08474e\",\"type\":\"CDSView\"},{\"attributes\":{\"data_source\":{\"id\":\"ddbbf84d-b93b-4b7a-b4cd-d6abff56d4c1\",\"type\":\"ColumnDataSource\"},\"glyph\":{\"id\":\"121fc839-56db-4c20-9240-f516301786f5\",\"type\":\"AnnularWedge\"},\"hover_glyph\":null,\"muted_glyph\":null,\"nonselection_glyph\":{\"id\":\"e66ce3c7-d0bf-45f5-8062-404c2780cbf2\",\"type\":\"AnnularWedge\"},\"selection_glyph\":null,\"view\":{\"id\":\"06902e12-3fe7-4828-b59c-26f2abe83cdf\",\"type\":\"CDSView\"}},\"id\":\"97dfa5e3-ce0c-44ca-b9a7-c4a65af9919c\",\"type\":\"GlyphRenderer\"},{\"attributes\":{\"end_angle\":{\"field\":\"end_angle\",\"units\":\"rad\"},\"fill_color\":{\"value\":\"green\"},\"inner_radius\":{\"field\":\"inner_radius\",\"units\":\"data\"},\"line_color\":{\"value\":null},\"outer_radius\":{\"field\":\"outer_radius\",\"units\":\"data\"},\"start_angle\":{\"field\":\"start_angle\",\"units\":\"rad\"},\"x\":{\"value\":0},\"y\":{\"value\":0}},\"id\":\"121fc839-56db-4c20-9240-f516301786f5\",\"type\":\"AnnularWedge\"},{\"attributes\":{\"callback\":null,\"data\":{\"end_angle\":[1.2566370614359172,2.5132741228718345,3.7699111843077517,5.026548245743669,6.283185307179586],\"inner_radius\":[31,35,29,33,39],\"outer_radius\":[38,45,36,36,41],\"start_angle\":[0.0,1.2566370614359172,2.5132741228718345,3.7699111843077517,5.026548245743669]},\"selected\":{\"id\":\"6eca6f58-0965-42b6-8207-2b823c302a1e\",\"type\":\"Selection\"},\"selection_policy\":{\"id\":\"c001b4ca-77e6-4460-a695-f381b947fb7a\",\"type\":\"UnionRenderers\"}},\"id\":\"dbce521e-7d8d-41c5-8348-6e0c52459ebd\",\"type\":\"ColumnDataSource\"},{\"attributes\":{\"below\":[{\"id\":\"955552d6-aa7c-44f2-985c-c910672acad4\",\"type\":\"LinearAxis\"}],\"left\":[{\"id\":\"eb85918b-185b-4be9-8f05-aba604437155\",\"type\":\"LinearAxis\"}],\"plot_height\":400,\"plot_width\":400,\"renderers\":[{\"id\":\"955552d6-aa7c-44f2-985c-c910672acad4\",\"type\":\"LinearAxis\"},{\"id\":\"bf28aef3-9596-4903-8fa2-b19df0f0133c\",\"type\":\"Grid\"},{\"id\":\"eb85918b-185b-4be9-8f05-aba604437155\",\"type\":\"LinearAxis\"},{\"id\":\"7755b79b-087a-4fae-9b37-9ef125e4e76c\",\"type\":\"Grid\"},{\"id\":\"db75ed4a-4445-49d1-8302-42411a7d66b6\",\"type\":\"BoxAnnotation\"},{\"id\":\"7313e018-c5c2-4785-8f4c-d4a6eda92533\",\"type\":\"GlyphRenderer\"},{\"id\":\"2f5707a9-a977-41aa-bbaa-36457876d7b6\",\"type\":\"GlyphRenderer\"},{\"id\":\"97dfa5e3-ce0c-44ca-b9a7-c4a65af9919c\",\"type\":\"GlyphRenderer\"},{\"id\":\"427e5a82-7de2-4c06-9395-6d633496ed2e\",\"type\":\"GlyphRenderer\"}],\"title\":{\"id\":\"999c6e54-e441-4954-a7d3-275070198d7e\",\"type\":\"Title\"},\"toolbar\":{\"id\":\"8a8bc596-971c-48bd-b85c-3a993a8b95d9\",\"type\":\"Toolbar\"},\"x_range\":{\"id\":\"a960f912-48a3-46bc-a257-6baf1588e758\",\"type\":\"Range1d\"},\"x_scale\":{\"id\":\"0e1e894e-530f-4671-98ba-b41f7a5915fe\",\"type\":\"LinearScale\"},\"y_range\":{\"id\":\"8b1e73a0-352f-487e-82d7-df0415fe3dac\",\"type\":\"Range1d\"},\"y_scale\":{\"id\":\"b22128ac-9db0-43f1-bb86-604b41d4bf22\",\"type\":\"LinearScale\"}},\"id\":\"525d5920-ff6a-4e00-a1e8-c818d17635da\",\"subtype\":\"Figure\",\"type\":\"Plot\"},{\"attributes\":{\"source\":{\"id\":\"ddbbf84d-b93b-4b7a-b4cd-d6abff56d4c1\",\"type\":\"ColumnDataSource\"}},\"id\":\"06902e12-3fe7-4828-b59c-26f2abe83cdf\",\"type\":\"CDSView\"},{\"attributes\":{\"active_drag\":\"auto\",\"active_inspect\":\"auto\",\"active_multi\":null,\"active_scroll\":\"auto\",\"active_tap\":\"auto\",\"tools\":[{\"id\":\"86321eea-a77c-441c-bdb5-3da3ca8c0a8c\",\"type\":\"PanTool\"},{\"id\":\"840bb6ae-dca2-4e16-af47-48fa9a9207d0\",\"type\":\"WheelZoomTool\"},{\"id\":\"d90a7399-dec1-4411-b200-2ad72f8e2b9d\",\"type\":\"BoxZoomTool\"},{\"id\":\"e5c76ff8-a1c0-4f8b-935b-bd044880591b\",\"type\":\"SaveTool\"},{\"id\":\"191386ea-8ff8-4f23-b86d-c38ebc7d9f64\",\"type\":\"ResetTool\"},{\"id\":\"f633bd6b-e307-44c1-8fdb-c6a519286830\",\"type\":\"HelpTool\"}]},\"id\":\"8a8bc596-971c-48bd-b85c-3a993a8b95d9\",\"type\":\"Toolbar\"},{\"attributes\":{\"plot\":null,\"text\":\"\"},\"id\":\"999c6e54-e441-4954-a7d3-275070198d7e\",\"type\":\"Title\"},{\"attributes\":{\"callback\":null,\"end\":58.5,\"start\":-58.5},\"id\":\"a960f912-48a3-46bc-a257-6baf1588e758\",\"type\":\"Range1d\"},{\"attributes\":{\"end_angle\":{\"field\":\"end_angle\",\"units\":\"rad\"},\"fill_color\":{\"value\":\"yellow\"},\"inner_radius\":{\"field\":\"inner_radius\",\"units\":\"data\"},\"line_color\":{\"value\":null},\"outer_radius\":{\"field\":\"outer_radius\",\"units\":\"data\"},\"start_angle\":{\"field\":\"start_angle\",\"units\":\"rad\"},\"x\":{\"value\":0},\"y\":{\"value\":0}},\"id\":\"62c32ce4-6ada-4558-9e43-657757d1fe22\",\"type\":\"AnnularWedge\"}],\"root_ids\":[\"525d5920-ff6a-4e00-a1e8-c818d17635da\"]},\"title\":\"Bokeh Application\",\"version\":\"0.13.0\"}};\n",
       "  var render_items = [{\"docid\":\"a6b6146a-9a01-470c-ba06-341cc6a14d6f\",\"roots\":{\"525d5920-ff6a-4e00-a1e8-c818d17635da\":\"f491e909-fc63-46f4-b44f-e43063c34707\"}}];\n",
       "  root.Bokeh.embed.embed_items_notebook(docs_json, render_items);\n",
       "\n",
       "  }\n",
       "  if (root.Bokeh !== undefined) {\n",
       "    embed_document(root);\n",
       "  } else {\n",
       "    var attempts = 0;\n",
       "    var timer = setInterval(function(root) {\n",
       "      if (root.Bokeh !== undefined) {\n",
       "        embed_document(root);\n",
       "        clearInterval(timer);\n",
       "      }\n",
       "      attempts++;\n",
       "      if (attempts > 100) {\n",
       "        console.log(\"Bokeh: ERROR: Unable to run BokehJS code because BokehJS library is missing\")\n",
       "        clearInterval(timer);\n",
       "      }\n",
       "    }, 10, root)\n",
       "  }\n",
       "})(window);"
      ],
      "application/vnd.bokehjs_exec.v0+json": ""
     },
     "metadata": {
      "application/vnd.bokehjs_exec.v0+json": {
       "id": "525d5920-ff6a-4e00-a1e8-c818d17635da"
      }
     },
     "output_type": "display_data"
    },
    {
     "data": {
      "text/plain": [
       "'D:\\\\Devcode\\\\Blog\\\\CircStackPlt\\\\circular_plot.png'"
      ]
     },
     "execution_count": 8,
     "metadata": {},
     "output_type": "execute_result"
    }
   ],
   "source": [
    "p=figure(plot_width=400,plot_height=400, x_range=(-max_val*1.3,max_val*1.3),y_range=(-max_val*1.3,max_val*1.3))\n",
    "colors=['red','blue','green','yellow']\n",
    "\n",
    "for i in range(0,len(As)):\n",
    "    print(i)\n",
    "    if i==0:\n",
    "        p.annular_wedge(x=0, y=0, inner_radius=0, outer_radius=As[i], start_angle=Angle_Small,end_angle=Angle_Big,line_color=None, color=colors[i])\n",
    "    else:\n",
    "        p.annular_wedge(x=0, y=0, inner_radius=As[i-1], outer_radius=As[i], start_angle=Angle_Small,end_angle=Angle_Big,line_color=None, color=colors[i])\n",
    "        #p.annular_wedge(0, 0, 0, max_val, Angle_Small,Angle_Small, color='black')\n",
    "\n",
    "#p.xgrid.grid_line_color = None\n",
    "#p.ygrid.grid_line_color = None\n",
    "#p.axis.visible=False\n",
    "#p.ray(0,0,max_val,Angle_Small,color='black')\n",
    "show(p)\n",
    "export_png(p,'circular_plot.png')"
   ]
  },
  {
   "cell_type": "code",
   "execution_count": 9,
   "metadata": {},
   "outputs": [
    {
     "data": {
      "text/html": [
       "\n",
       "\n",
       "\n",
       "\n",
       "\n",
       "\n",
       "  <div class=\"bk-root\" id=\"3d150f90-afb4-4e92-936f-67f4968f3d58\"></div>\n"
      ]
     },
     "metadata": {},
     "output_type": "display_data"
    },
    {
     "data": {
      "application/javascript": [
       "(function(root) {\n",
       "  function embed_document(root) {\n",
       "    \n",
       "  var docs_json = {\"b30ef854-27ef-4d20-b406-6414ee7e2f3b\":{\"roots\":{\"references\":[{\"attributes\":{\"end_angle\":{\"field\":\"end_angle\",\"units\":\"rad\"},\"fill_alpha\":{\"value\":0.1},\"fill_color\":{\"value\":\"#1f77b4\"},\"inner_radius\":{\"field\":\"inner_radius\",\"units\":\"data\"},\"line_alpha\":{\"value\":0.1},\"line_color\":{\"value\":\"#1f77b4\"},\"outer_radius\":{\"field\":\"outer_radius\",\"units\":\"data\"},\"start_angle\":{\"field\":\"start_angle\",\"units\":\"rad\"},\"x\":{\"value\":0},\"y\":{\"value\":0}},\"id\":\"3a2a80a2-5775-4c42-b1bc-0aaff35e727c\",\"type\":\"AnnularWedge\"},{\"attributes\":{\"overlay\":{\"id\":\"e23b405b-e4b6-4685-a962-345e2bf2b27f\",\"type\":\"BoxAnnotation\"}},\"id\":\"55458bc0-6bdb-4165-886d-87e46a64fa22\",\"type\":\"BoxZoomTool\"},{\"attributes\":{},\"id\":\"eed7aa27-5636-4309-a805-30f4cab8e0b0\",\"type\":\"UnionRenderers\"},{\"attributes\":{},\"id\":\"2b5c6339-e0a7-4057-bbd6-42588665aeb7\",\"type\":\"SaveTool\"},{\"attributes\":{},\"id\":\"9f330c4a-3d63-4933-a3e6-44a4a6a4f323\",\"type\":\"ResetTool\"},{\"attributes\":{},\"id\":\"100ee13c-63ef-4b6c-8ce0-7613e77c46ad\",\"type\":\"HelpTool\"},{\"attributes\":{\"bottom_units\":\"screen\",\"fill_alpha\":{\"value\":0.5},\"fill_color\":{\"value\":\"lightgrey\"},\"left_units\":\"screen\",\"level\":\"overlay\",\"line_alpha\":{\"value\":1.0},\"line_color\":{\"value\":\"black\"},\"line_dash\":[4,4],\"line_width\":{\"value\":2},\"plot\":null,\"render_mode\":\"css\",\"right_units\":\"screen\",\"top_units\":\"screen\"},\"id\":\"e23b405b-e4b6-4685-a962-345e2bf2b27f\",\"type\":\"BoxAnnotation\"},{\"attributes\":{\"label\":{\"value\":\"W3\"},\"renderers\":[{\"id\":\"d6b9a2c9-883e-48f4-8926-956c46e40eaf\",\"type\":\"GlyphRenderer\"}]},\"id\":\"078c2100-c67d-4ee6-88e5-2c97ed528e98\",\"type\":\"LegendItem\"},{\"attributes\":{\"end_angle\":{\"field\":\"end_angle\",\"units\":\"rad\"},\"fill_color\":{\"value\":\"#ffffcc\"},\"inner_radius\":{\"field\":\"inner_radius\",\"units\":\"data\"},\"line_color\":{\"value\":\"white\"},\"outer_radius\":{\"field\":\"outer_radius\",\"units\":\"data\"},\"start_angle\":{\"field\":\"start_angle\",\"units\":\"rad\"},\"x\":{\"value\":0},\"y\":{\"value\":0}},\"id\":\"9d1e44e5-9b84-4914-b682-05dc46e83bff\",\"type\":\"AnnularWedge\"},{\"attributes\":{\"callback\":null,\"data\":{\"end_angle\":[1.2566370614359172,2.5132741228718345,3.7699111843077517,5.026548245743669,6.283185307179586],\"inner_radius\":[31,35,29,33,39],\"outer_radius\":[38,45,36,36,41],\"start_angle\":[0.0,1.2566370614359172,2.5132741228718345,3.7699111843077517,5.026548245743669]},\"selected\":{\"id\":\"2bc55050-cc80-4217-8588-cc44200a75aa\",\"type\":\"Selection\"},\"selection_policy\":{\"id\":\"ef7b4863-259c-4f18-95fe-60c5fa238f85\",\"type\":\"UnionRenderers\"}},\"id\":\"a2652cea-8974-4c07-9c56-6dfe94b79e76\",\"type\":\"ColumnDataSource\"},{\"attributes\":{},\"id\":\"2eaa103f-030b-494a-93ca-4cd885c80f99\",\"type\":\"UnionRenderers\"},{\"attributes\":{},\"id\":\"e39c2b7e-490f-4bae-886b-67305da1ba93\",\"type\":\"Selection\"},{\"attributes\":{\"source\":{\"id\":\"0caca0ac-dbe7-4ccd-abda-5c3084e36ded\",\"type\":\"ColumnDataSource\"}},\"id\":\"bbb968b9-9f95-4752-a338-12b900765605\",\"type\":\"CDSView\"},{\"attributes\":{\"data_source\":{\"id\":\"0caca0ac-dbe7-4ccd-abda-5c3084e36ded\",\"type\":\"ColumnDataSource\"},\"glyph\":{\"id\":\"0aca3e67-fe57-4a8e-bd12-ea3b98cc1f15\",\"type\":\"AnnularWedge\"},\"hover_glyph\":null,\"muted_glyph\":null,\"nonselection_glyph\":{\"id\":\"73a4b1d5-79c2-4f31-8625-bd80cb01d535\",\"type\":\"AnnularWedge\"},\"selection_glyph\":null,\"view\":{\"id\":\"bbb968b9-9f95-4752-a338-12b900765605\",\"type\":\"CDSView\"}},\"id\":\"d6b9a2c9-883e-48f4-8926-956c46e40eaf\",\"type\":\"GlyphRenderer\"},{\"attributes\":{\"end_angle\":{\"field\":\"end_angle\",\"units\":\"rad\"},\"fill_alpha\":{\"value\":0.1},\"fill_color\":{\"value\":\"#1f77b4\"},\"inner_radius\":{\"field\":\"inner_radius\",\"units\":\"data\"},\"line_alpha\":{\"value\":0.1},\"line_color\":{\"value\":\"#1f77b4\"},\"outer_radius\":{\"field\":\"outer_radius\",\"units\":\"data\"},\"start_angle\":{\"field\":\"start_angle\",\"units\":\"rad\"},\"x\":{\"value\":0},\"y\":{\"value\":0}},\"id\":\"73a4b1d5-79c2-4f31-8625-bd80cb01d535\",\"type\":\"AnnularWedge\"},{\"attributes\":{\"end_angle\":{\"field\":\"end_angle\",\"units\":\"rad\"},\"fill_color\":{\"value\":\"#a1dab4\"},\"inner_radius\":{\"field\":\"inner_radius\",\"units\":\"data\"},\"line_color\":{\"value\":\"white\"},\"outer_radius\":{\"field\":\"outer_radius\",\"units\":\"data\"},\"start_angle\":{\"field\":\"start_angle\",\"units\":\"rad\"},\"x\":{\"value\":0},\"y\":{\"value\":0}},\"id\":\"0aca3e67-fe57-4a8e-bd12-ea3b98cc1f15\",\"type\":\"AnnularWedge\"},{\"attributes\":{\"callback\":null,\"data\":{\"end_angle\":[1.2566370614359172,2.5132741228718345,3.7699111843077517,5.026548245743669,6.283185307179586],\"inner_radius\":[25,17,24,28,26],\"outer_radius\":[31,35,29,33,39],\"start_angle\":[0.0,1.2566370614359172,2.5132741228718345,3.7699111843077517,5.026548245743669]},\"selected\":{\"id\":\"afeaea5b-65be-422e-b428-7ae809a5103c\",\"type\":\"Selection\"},\"selection_policy\":{\"id\":\"9c991a81-1662-4eb8-8fbe-0d10d3035000\",\"type\":\"UnionRenderers\"}},\"id\":\"0caca0ac-dbe7-4ccd-abda-5c3084e36ded\",\"type\":\"ColumnDataSource\"},{\"attributes\":{\"label\":{\"value\":\"W2\"},\"renderers\":[{\"id\":\"24fa4684-ba34-4a26-82d0-1e5271b721c5\",\"type\":\"GlyphRenderer\"}]},\"id\":\"2390753f-51b3-43ed-b299-4446c2788434\",\"type\":\"LegendItem\"},{\"attributes\":{},\"id\":\"3def8788-5aa1-4299-b63c-3ce7a4a38779\",\"type\":\"UnionRenderers\"},{\"attributes\":{},\"id\":\"1a55be1b-d752-4507-bd5c-ff32cb6400d3\",\"type\":\"Selection\"},{\"attributes\":{\"source\":{\"id\":\"c343ab4f-a23a-47ac-bcfa-c9465c86f144\",\"type\":\"ColumnDataSource\"}},\"id\":\"7ec91da5-9255-4207-8375-402da68cf187\",\"type\":\"CDSView\"},{\"attributes\":{\"data_source\":{\"id\":\"c343ab4f-a23a-47ac-bcfa-c9465c86f144\",\"type\":\"ColumnDataSource\"},\"glyph\":{\"id\":\"5993855d-19b5-461d-809d-55b0d70b0492\",\"type\":\"AnnularWedge\"},\"hover_glyph\":null,\"muted_glyph\":null,\"nonselection_glyph\":{\"id\":\"832a0a54-811e-4de9-b3fc-2d1bad5ad2bc\",\"type\":\"AnnularWedge\"},\"selection_glyph\":null,\"view\":{\"id\":\"7ec91da5-9255-4207-8375-402da68cf187\",\"type\":\"CDSView\"}},\"id\":\"24fa4684-ba34-4a26-82d0-1e5271b721c5\",\"type\":\"GlyphRenderer\"},{\"attributes\":{\"end_angle\":{\"field\":\"end_angle\",\"units\":\"rad\"},\"fill_alpha\":{\"value\":0.1},\"fill_color\":{\"value\":\"#1f77b4\"},\"inner_radius\":{\"field\":\"inner_radius\",\"units\":\"data\"},\"line_alpha\":{\"value\":0.1},\"line_color\":{\"value\":\"#1f77b4\"},\"outer_radius\":{\"field\":\"outer_radius\",\"units\":\"data\"},\"start_angle\":{\"field\":\"start_angle\",\"units\":\"rad\"},\"x\":{\"value\":0},\"y\":{\"value\":0}},\"id\":\"832a0a54-811e-4de9-b3fc-2d1bad5ad2bc\",\"type\":\"AnnularWedge\"},{\"attributes\":{\"end_angle\":{\"field\":\"end_angle\",\"units\":\"rad\"},\"fill_color\":{\"value\":\"#41b6c4\"},\"inner_radius\":{\"field\":\"inner_radius\",\"units\":\"data\"},\"line_color\":{\"value\":\"white\"},\"outer_radius\":{\"field\":\"outer_radius\",\"units\":\"data\"},\"start_angle\":{\"field\":\"start_angle\",\"units\":\"rad\"},\"x\":{\"value\":0},\"y\":{\"value\":0}},\"id\":\"5993855d-19b5-461d-809d-55b0d70b0492\",\"type\":\"AnnularWedge\"},{\"attributes\":{\"callback\":null,\"data\":{\"end_angle\":[1.2566370614359172,2.5132741228718345,3.7699111843077517,5.026548245743669,6.283185307179586],\"inner_radius\":[10,9,0,12,13],\"outer_radius\":[25,17,24,28,26],\"start_angle\":[0.0,1.2566370614359172,2.5132741228718345,3.7699111843077517,5.026548245743669]},\"selected\":{\"id\":\"e39c2b7e-490f-4bae-886b-67305da1ba93\",\"type\":\"Selection\"},\"selection_policy\":{\"id\":\"2eaa103f-030b-494a-93ca-4cd885c80f99\",\"type\":\"UnionRenderers\"}},\"id\":\"c343ab4f-a23a-47ac-bcfa-c9465c86f144\",\"type\":\"ColumnDataSource\"},{\"attributes\":{\"source\":{\"id\":\"a2652cea-8974-4c07-9c56-6dfe94b79e76\",\"type\":\"ColumnDataSource\"}},\"id\":\"9c8fd1da-926b-4351-9ccb-d3d80a94eb2a\",\"type\":\"CDSView\"},{\"attributes\":{\"label\":{\"value\":\"W1\"},\"renderers\":[{\"id\":\"c2e97706-60ee-4fee-add1-7afff166af42\",\"type\":\"GlyphRenderer\"}]},\"id\":\"d840af16-c545-4cd2-8ff2-8e3c0a6ca9f3\",\"type\":\"LegendItem\"},{\"attributes\":{\"background_fill_alpha\":{\"value\":0.1},\"items\":[{\"id\":\"d840af16-c545-4cd2-8ff2-8e3c0a6ca9f3\",\"type\":\"LegendItem\"},{\"id\":\"2390753f-51b3-43ed-b299-4446c2788434\",\"type\":\"LegendItem\"},{\"id\":\"078c2100-c67d-4ee6-88e5-2c97ed528e98\",\"type\":\"LegendItem\"},{\"id\":\"4bf83b5d-a694-409b-a527-464ccb221cad\",\"type\":\"LegendItem\"}],\"label_text_color\":{\"value\":\"white\"},\"location\":\"top_center\",\"orientation\":\"horizontal\",\"plot\":{\"id\":\"2b590bf1-b21f-405a-979e-cc46458a14b4\",\"subtype\":\"Figure\",\"type\":\"Plot\"}},\"id\":\"5996c0dd-5203-4a48-9117-4fd88dcc2c64\",\"type\":\"Legend\"},{\"attributes\":{},\"id\":\"d001a300-0cd2-4599-aae2-5f86971e654d\",\"type\":\"BasicTickFormatter\"},{\"attributes\":{\"plot\":null,\"text\":\"\"},\"id\":\"46d061c4-05bd-47b9-b326-aeac6a64d43b\",\"type\":\"Title\"},{\"attributes\":{\"source\":{\"id\":\"55685410-6c9a-4efb-99d7-7a2c84f31d91\",\"type\":\"ColumnDataSource\"}},\"id\":\"5c60e381-1516-48b3-b4e0-06d2a2b98d86\",\"type\":\"CDSView\"},{\"attributes\":{\"data_source\":{\"id\":\"55685410-6c9a-4efb-99d7-7a2c84f31d91\",\"type\":\"ColumnDataSource\"},\"glyph\":{\"id\":\"0d34030e-ad07-4bed-949e-51eceb84b5fa\",\"type\":\"AnnularWedge\"},\"hover_glyph\":null,\"muted_glyph\":null,\"nonselection_glyph\":{\"id\":\"65d0fb74-c2b9-4e90-a5c2-30f40c6f53c8\",\"type\":\"AnnularWedge\"},\"selection_glyph\":null,\"view\":{\"id\":\"5c60e381-1516-48b3-b4e0-06d2a2b98d86\",\"type\":\"CDSView\"}},\"id\":\"c2e97706-60ee-4fee-add1-7afff166af42\",\"type\":\"GlyphRenderer\"},{\"attributes\":{},\"id\":\"30f8a05b-c3b5-4b23-bf29-be4785891c06\",\"type\":\"BasicTickFormatter\"},{\"attributes\":{},\"id\":\"ef7b4863-259c-4f18-95fe-60c5fa238f85\",\"type\":\"UnionRenderers\"},{\"attributes\":{},\"id\":\"1e51ad2c-3c4b-4bbc-9834-f17efddb5b8d\",\"type\":\"Selection\"},{\"attributes\":{},\"id\":\"afeaea5b-65be-422e-b428-7ae809a5103c\",\"type\":\"Selection\"},{\"attributes\":{},\"id\":\"9c991a81-1662-4eb8-8fbe-0d10d3035000\",\"type\":\"UnionRenderers\"},{\"attributes\":{\"label\":{\"value\":\"W4\"},\"renderers\":[{\"id\":\"52859a0f-9de0-4ed9-a206-22562f75df18\",\"type\":\"GlyphRenderer\"}]},\"id\":\"4bf83b5d-a694-409b-a527-464ccb221cad\",\"type\":\"LegendItem\"},{\"attributes\":{\"callback\":null,\"data\":{\"text\":[0,12,24,36,48],\"x\":[0,12,24,36,48],\"y\":{\"__ndarray__\":\"AAAAAAAAAAAAAAAAAAAAAAAAAAAAAAAAAAAAAAAAAAAAAAAAAAAAAA==\",\"dtype\":\"float64\",\"shape\":[5]}},\"selected\":{\"id\":\"59a4673c-e7c0-4efb-a43c-019c4986d4d2\",\"type\":\"Selection\"},\"selection_policy\":{\"id\":\"35832180-0f67-4455-a1cb-fa6cfab6e518\",\"type\":\"UnionRenderers\"}},\"id\":\"c19b4b5b-27d8-4db8-ac47-b6297cb1bd5c\",\"type\":\"ColumnDataSource\"},{\"attributes\":{\"fill_color\":{\"value\":null},\"line_color\":{\"value\":\"grey\"},\"radius\":{\"field\":\"radius\",\"units\":\"data\"},\"x\":{\"value\":0},\"y\":{\"value\":0}},\"id\":\"336102cf-f9c4-480b-931c-f1750f87c81b\",\"type\":\"Circle\"},{\"attributes\":{},\"id\":\"e14d338d-7a82-4a01-85b6-80f11bcbb51d\",\"type\":\"BasicTicker\"},{\"attributes\":{\"fill_alpha\":{\"value\":0.1},\"fill_color\":{\"value\":\"#1f77b4\"},\"line_alpha\":{\"value\":0.1},\"line_color\":{\"value\":\"#1f77b4\"},\"radius\":{\"field\":\"radius\",\"units\":\"data\"},\"x\":{\"value\":0},\"y\":{\"value\":0}},\"id\":\"aca826ba-bf0d-4c05-8747-5c4771a1e8f5\",\"type\":\"Circle\"},{\"attributes\":{\"data_source\":{\"id\":\"c2e7cc4e-ad02-4df2-b80b-b3914ec2c4c9\",\"type\":\"ColumnDataSource\"},\"glyph\":{\"id\":\"336102cf-f9c4-480b-931c-f1750f87c81b\",\"type\":\"Circle\"},\"hover_glyph\":null,\"muted_glyph\":null,\"nonselection_glyph\":{\"id\":\"aca826ba-bf0d-4c05-8747-5c4771a1e8f5\",\"type\":\"Circle\"},\"selection_glyph\":null,\"view\":{\"id\":\"4e1cbed2-4458-4934-ae10-685074128bf6\",\"type\":\"CDSView\"}},\"id\":\"4811647d-a770-4c18-be1a-927890681806\",\"type\":\"GlyphRenderer\"},{\"attributes\":{\"source\":{\"id\":\"c2e7cc4e-ad02-4df2-b80b-b3914ec2c4c9\",\"type\":\"ColumnDataSource\"}},\"id\":\"4e1cbed2-4458-4934-ae10-685074128bf6\",\"type\":\"CDSView\"},{\"attributes\":{\"callback\":null,\"data\":{\"text\":[\"Fleet Rotation\"]},\"selected\":{\"id\":\"0d46b4cf-2410-43a7-8b43-82b2231a2106\",\"type\":\"Selection\"},\"selection_policy\":{\"id\":\"d89b4ef7-5537-429f-85b4-f9b243dc29ea\",\"type\":\"UnionRenderers\"}},\"id\":\"18849f4d-d74d-43e8-999c-52933f544ef2\",\"type\":\"ColumnDataSource\"},{\"attributes\":{\"text_align\":\"center\",\"text_baseline\":\"top\",\"text_color\":{\"value\":\"white\"},\"x\":{\"field\":\"x\"},\"y\":{\"field\":\"y\"}},\"id\":\"34b9bc6b-27d5-4a05-839f-f8ab1cd682be\",\"type\":\"Text\"},{\"attributes\":{\"text_align\":\"center\",\"text_alpha\":{\"value\":0.1},\"text_baseline\":\"middle\",\"text_color\":{\"value\":\"black\"},\"x\":{\"field\":\"x\"},\"y\":{\"field\":\"y\"}},\"id\":\"a1609b91-1a2b-43b0-9dc1-4c8a0cb15dcc\",\"type\":\"Text\"},{\"attributes\":{\"text_align\":\"center\",\"text_alpha\":{\"value\":0.1},\"text_baseline\":\"top\",\"text_color\":{\"value\":\"black\"},\"x\":{\"field\":\"x\"},\"y\":{\"field\":\"y\"}},\"id\":\"7e6e563f-cc3f-4ec4-a4e8-76485ebe3de5\",\"type\":\"Text\"},{\"attributes\":{\"data_source\":{\"id\":\"c19b4b5b-27d8-4db8-ac47-b6297cb1bd5c\",\"type\":\"ColumnDataSource\"},\"glyph\":{\"id\":\"34b9bc6b-27d5-4a05-839f-f8ab1cd682be\",\"type\":\"Text\"},\"hover_glyph\":null,\"muted_glyph\":null,\"nonselection_glyph\":{\"id\":\"7e6e563f-cc3f-4ec4-a4e8-76485ebe3de5\",\"type\":\"Text\"},\"selection_glyph\":null,\"view\":{\"id\":\"50d55ca4-a57a-454e-976a-c1bbe9669e79\",\"type\":\"CDSView\"}},\"id\":\"dd5da43c-1e8e-4a55-a216-1fbbdcd01f47\",\"type\":\"GlyphRenderer\"},{\"attributes\":{\"source\":{\"id\":\"c19b4b5b-27d8-4db8-ac47-b6297cb1bd5c\",\"type\":\"ColumnDataSource\"}},\"id\":\"50d55ca4-a57a-454e-976a-c1bbe9669e79\",\"type\":\"CDSView\"},{\"attributes\":{\"callback\":null,\"data\":{\"angle\":[0.0,1.2566370614359172,2.5132741228718345,3.7699111843077517,5.026548245743669]},\"selected\":{\"id\":\"7bfc8323-6b1c-4aa5-b5d2-0c05cfbb271e\",\"type\":\"Selection\"},\"selection_policy\":{\"id\":\"57b8bd92-8ad3-4ea2-87b3-695a049a3f67\",\"type\":\"UnionRenderers\"}},\"id\":\"66ba83e2-6425-440c-93a0-30dc735fda80\",\"type\":\"ColumnDataSource\"},{\"attributes\":{\"text_align\":\"center\",\"text_baseline\":\"middle\",\"text_color\":{\"value\":\"white\"},\"text_font_size\":{\"value\":\"20pt\"},\"x\":{\"value\":0},\"y\":{\"value\":-58.5}},\"id\":\"e025b716-562c-409e-b3d8-acad8069c63e\",\"type\":\"Text\"},{\"attributes\":{\"text_align\":\"center\",\"text_alpha\":{\"value\":0.1},\"text_baseline\":\"middle\",\"text_color\":{\"value\":\"black\"},\"text_font_size\":{\"value\":\"20pt\"},\"x\":{\"value\":0},\"y\":{\"value\":-58.5}},\"id\":\"0d42ca7e-f4c0-438f-8122-0815a6c02c3b\",\"type\":\"Text\"},{\"attributes\":{\"data_source\":{\"id\":\"18849f4d-d74d-43e8-999c-52933f544ef2\",\"type\":\"ColumnDataSource\"},\"glyph\":{\"id\":\"e025b716-562c-409e-b3d8-acad8069c63e\",\"type\":\"Text\"},\"hover_glyph\":null,\"muted_glyph\":null,\"nonselection_glyph\":{\"id\":\"0d42ca7e-f4c0-438f-8122-0815a6c02c3b\",\"type\":\"Text\"},\"selection_glyph\":null,\"view\":{\"id\":\"3f074522-2dac-4b87-89dd-4643a552edc5\",\"type\":\"CDSView\"}},\"id\":\"26d6e334-5808-4371-b765-0a97823489ea\",\"type\":\"GlyphRenderer\"},{\"attributes\":{\"source\":{\"id\":\"18849f4d-d74d-43e8-999c-52933f544ef2\",\"type\":\"ColumnDataSource\"}},\"id\":\"3f074522-2dac-4b87-89dd-4643a552edc5\",\"type\":\"CDSView\"},{\"attributes\":{\"background_fill_color\":{\"value\":\"black\"},\"below\":[{\"id\":\"32eb54d9-41ca-461c-81c6-2f03faafbcd4\",\"type\":\"LinearAxis\"}],\"left\":[{\"id\":\"c84d25fc-8cab-421b-bd77-fd5ad11738cc\",\"type\":\"LinearAxis\"}],\"plot_height\":500,\"plot_width\":500,\"renderers\":[{\"id\":\"32eb54d9-41ca-461c-81c6-2f03faafbcd4\",\"type\":\"LinearAxis\"},{\"id\":\"93b0c53d-f73e-4070-be22-d7db0705c73d\",\"type\":\"Grid\"},{\"id\":\"c84d25fc-8cab-421b-bd77-fd5ad11738cc\",\"type\":\"LinearAxis\"},{\"id\":\"91b3f7eb-a291-4dc5-9a10-9956a177b1fe\",\"type\":\"Grid\"},{\"id\":\"e23b405b-e4b6-4685-a962-345e2bf2b27f\",\"type\":\"BoxAnnotation\"},{\"id\":\"5996c0dd-5203-4a48-9117-4fd88dcc2c64\",\"type\":\"Legend\"},{\"id\":\"c2e97706-60ee-4fee-add1-7afff166af42\",\"type\":\"GlyphRenderer\"},{\"id\":\"24fa4684-ba34-4a26-82d0-1e5271b721c5\",\"type\":\"GlyphRenderer\"},{\"id\":\"d6b9a2c9-883e-48f4-8926-956c46e40eaf\",\"type\":\"GlyphRenderer\"},{\"id\":\"52859a0f-9de0-4ed9-a206-22562f75df18\",\"type\":\"GlyphRenderer\"},{\"id\":\"4811647d-a770-4c18-be1a-927890681806\",\"type\":\"GlyphRenderer\"},{\"id\":\"dd5da43c-1e8e-4a55-a216-1fbbdcd01f47\",\"type\":\"GlyphRenderer\"},{\"id\":\"26d6e334-5808-4371-b765-0a97823489ea\",\"type\":\"GlyphRenderer\"},{\"id\":\"1f41883f-0bcf-4e2f-93da-4f5dea493f1d\",\"type\":\"GlyphRenderer\"},{\"id\":\"dc6d270a-bf50-499c-a099-8ea67b12fc94\",\"type\":\"GlyphRenderer\"}],\"title\":{\"id\":\"46d061c4-05bd-47b9-b326-aeac6a64d43b\",\"type\":\"Title\"},\"toolbar\":{\"id\":\"595c8224-0238-452c-94d5-0db9874cdcbc\",\"type\":\"Toolbar\"},\"toolbar_location\":null,\"x_range\":{\"id\":\"63e16886-b758-4b67-a4ff-771307a435a3\",\"type\":\"Range1d\"},\"x_scale\":{\"id\":\"054f11fc-9c58-449d-9e42-1f9a9a5f3c8a\",\"type\":\"LinearScale\"},\"y_range\":{\"id\":\"e9862b2b-5e1f-4a5b-91cb-e60f57ff544d\",\"type\":\"Range1d\"},\"y_scale\":{\"id\":\"2168c25e-098c-4474-b155-f7ef3f62956e\",\"type\":\"LinearScale\"}},\"id\":\"2b590bf1-b21f-405a-979e-cc46458a14b4\",\"subtype\":\"Figure\",\"type\":\"Plot\"},{\"attributes\":{\"text_align\":\"center\",\"text_baseline\":\"middle\",\"text_color\":{\"value\":\"white\"},\"x\":{\"field\":\"x\"},\"y\":{\"field\":\"y\"}},\"id\":\"976c5266-c6ed-4041-905a-fb6ca4ce42e8\",\"type\":\"Text\"},{\"attributes\":{\"callback\":null,\"data\":{\"radius\":[0,12,24,36,48]},\"selected\":{\"id\":\"a84cd5d4-ab5b-4987-bf27-4c1dd5fc79c9\",\"type\":\"Selection\"},\"selection_policy\":{\"id\":\"d5101a27-de95-44f5-80d3-3401ad9bf894\",\"type\":\"UnionRenderers\"}},\"id\":\"c2e7cc4e-ad02-4df2-b80b-b3914ec2c4c9\",\"type\":\"ColumnDataSource\"},{\"attributes\":{\"angle\":{\"field\":\"angle\",\"units\":\"rad\"},\"length\":{\"units\":\"data\",\"value\":49.50000000000001},\"x\":{\"value\":0},\"y\":{\"value\":0}},\"id\":\"d35be32a-17d6-4f0d-80f7-c159ab29d5f4\",\"type\":\"Ray\"},{\"attributes\":{\"active_drag\":\"auto\",\"active_inspect\":\"auto\",\"active_multi\":null,\"active_scroll\":\"auto\",\"active_tap\":\"auto\",\"tools\":[{\"id\":\"02c30308-7983-4360-8dc5-0c5888b65942\",\"type\":\"PanTool\"},{\"id\":\"414ce215-c8c9-494c-b8ac-1628f603fc53\",\"type\":\"WheelZoomTool\"},{\"id\":\"55458bc0-6bdb-4165-886d-87e46a64fa22\",\"type\":\"BoxZoomTool\"},{\"id\":\"2b5c6339-e0a7-4057-bbd6-42588665aeb7\",\"type\":\"SaveTool\"},{\"id\":\"9f330c4a-3d63-4933-a3e6-44a4a6a4f323\",\"type\":\"ResetTool\"},{\"id\":\"100ee13c-63ef-4b6c-8ce0-7613e77c46ad\",\"type\":\"HelpTool\"}]},\"id\":\"595c8224-0238-452c-94d5-0db9874cdcbc\",\"type\":\"Toolbar\"},{\"attributes\":{\"data_source\":{\"id\":\"a2652cea-8974-4c07-9c56-6dfe94b79e76\",\"type\":\"ColumnDataSource\"},\"glyph\":{\"id\":\"9d1e44e5-9b84-4914-b682-05dc46e83bff\",\"type\":\"AnnularWedge\"},\"hover_glyph\":null,\"muted_glyph\":null,\"nonselection_glyph\":{\"id\":\"3a2a80a2-5775-4c42-b1bc-0aaff35e727c\",\"type\":\"AnnularWedge\"},\"selection_glyph\":null,\"view\":{\"id\":\"9c8fd1da-926b-4351-9ccb-d3d80a94eb2a\",\"type\":\"CDSView\"}},\"id\":\"52859a0f-9de0-4ed9-a206-22562f75df18\",\"type\":\"GlyphRenderer\"},{\"attributes\":{\"angle\":{\"field\":\"angle\",\"units\":\"rad\"},\"length\":{\"units\":\"data\",\"value\":49.50000000000001},\"line_alpha\":{\"value\":0.1},\"line_color\":{\"value\":\"#1f77b4\"},\"x\":{\"value\":0},\"y\":{\"value\":0}},\"id\":\"188044b2-6520-438b-bc50-cfed5a7d8c06\",\"type\":\"Ray\"},{\"attributes\":{\"callback\":null,\"end\":67.5,\"start\":-67.5},\"id\":\"63e16886-b758-4b67-a4ff-771307a435a3\",\"type\":\"Range1d\"},{\"attributes\":{\"data_source\":{\"id\":\"66ba83e2-6425-440c-93a0-30dc735fda80\",\"type\":\"ColumnDataSource\"},\"glyph\":{\"id\":\"d35be32a-17d6-4f0d-80f7-c159ab29d5f4\",\"type\":\"Ray\"},\"hover_glyph\":null,\"muted_glyph\":null,\"nonselection_glyph\":{\"id\":\"188044b2-6520-438b-bc50-cfed5a7d8c06\",\"type\":\"Ray\"},\"selection_glyph\":null,\"view\":{\"id\":\"5ba02a11-10cd-4fa0-88ff-f6cbbe8623c2\",\"type\":\"CDSView\"}},\"id\":\"1f41883f-0bcf-4e2f-93da-4f5dea493f1d\",\"type\":\"GlyphRenderer\"},{\"attributes\":{\"grid_line_color\":{\"value\":null},\"plot\":{\"id\":\"2b590bf1-b21f-405a-979e-cc46458a14b4\",\"subtype\":\"Figure\",\"type\":\"Plot\"},\"ticker\":{\"id\":\"e14d338d-7a82-4a01-85b6-80f11bcbb51d\",\"type\":\"BasicTicker\"}},\"id\":\"93b0c53d-f73e-4070-be22-d7db0705c73d\",\"type\":\"Grid\"},{\"attributes\":{\"source\":{\"id\":\"66ba83e2-6425-440c-93a0-30dc735fda80\",\"type\":\"ColumnDataSource\"}},\"id\":\"5ba02a11-10cd-4fa0-88ff-f6cbbe8623c2\",\"type\":\"CDSView\"},{\"attributes\":{},\"id\":\"2bc55050-cc80-4217-8588-cc44200a75aa\",\"type\":\"Selection\"},{\"attributes\":{\"callback\":null,\"end\":67.5,\"start\":-67.5},\"id\":\"e9862b2b-5e1f-4a5b-91cb-e60f57ff544d\",\"type\":\"Range1d\"},{\"attributes\":{},\"id\":\"a84cd5d4-ab5b-4987-bf27-4c1dd5fc79c9\",\"type\":\"Selection\"},{\"attributes\":{},\"id\":\"054f11fc-9c58-449d-9e42-1f9a9a5f3c8a\",\"type\":\"LinearScale\"},{\"attributes\":{},\"id\":\"2168c25e-098c-4474-b155-f7ef3f62956e\",\"type\":\"LinearScale\"},{\"attributes\":{\"callback\":null,\"data\":{\"text\":[\"Vehicle 0\",\"Vehicle 1\",\"Vehicle 2\",\"Vehicle 3\",\"Vehicle 4\"],\"x\":[43.686917696247164,-16.686917696247157,-54.0,-16.686917696247168,43.68691769624716],\"y\":[31.74040362379355,51.3570518799383,6.6130927153957075e-15,-51.35705187993829,-31.74040362379356]},\"selected\":{\"id\":\"1e51ad2c-3c4b-4bbc-9834-f17efddb5b8d\",\"type\":\"Selection\"},\"selection_policy\":{\"id\":\"eed7aa27-5636-4309-a805-30f4cab8e0b0\",\"type\":\"UnionRenderers\"}},\"id\":\"71989a4d-a122-4313-86d3-805761ad8147\",\"type\":\"ColumnDataSource\"},{\"attributes\":{\"formatter\":{\"id\":\"30f8a05b-c3b5-4b23-bf29-be4785891c06\",\"type\":\"BasicTickFormatter\"},\"plot\":{\"id\":\"2b590bf1-b21f-405a-979e-cc46458a14b4\",\"subtype\":\"Figure\",\"type\":\"Plot\"},\"ticker\":{\"id\":\"897714bf-5766-488e-8bcb-f2e612da0432\",\"type\":\"BasicTicker\"},\"visible\":false},\"id\":\"c84d25fc-8cab-421b-bd77-fd5ad11738cc\",\"type\":\"LinearAxis\"},{\"attributes\":{\"data_source\":{\"id\":\"71989a4d-a122-4313-86d3-805761ad8147\",\"type\":\"ColumnDataSource\"},\"glyph\":{\"id\":\"976c5266-c6ed-4041-905a-fb6ca4ce42e8\",\"type\":\"Text\"},\"hover_glyph\":null,\"muted_glyph\":null,\"nonselection_glyph\":{\"id\":\"a1609b91-1a2b-43b0-9dc1-4c8a0cb15dcc\",\"type\":\"Text\"},\"selection_glyph\":null,\"view\":{\"id\":\"8d41f91b-440c-4eb6-aac1-b3efe2dcae8a\",\"type\":\"CDSView\"}},\"id\":\"dc6d270a-bf50-499c-a099-8ea67b12fc94\",\"type\":\"GlyphRenderer\"},{\"attributes\":{\"formatter\":{\"id\":\"d001a300-0cd2-4599-aae2-5f86971e654d\",\"type\":\"BasicTickFormatter\"},\"plot\":{\"id\":\"2b590bf1-b21f-405a-979e-cc46458a14b4\",\"subtype\":\"Figure\",\"type\":\"Plot\"},\"ticker\":{\"id\":\"e14d338d-7a82-4a01-85b6-80f11bcbb51d\",\"type\":\"BasicTicker\"},\"visible\":false},\"id\":\"32eb54d9-41ca-461c-81c6-2f03faafbcd4\",\"type\":\"LinearAxis\"},{\"attributes\":{},\"id\":\"02c30308-7983-4360-8dc5-0c5888b65942\",\"type\":\"PanTool\"},{\"attributes\":{\"source\":{\"id\":\"71989a4d-a122-4313-86d3-805761ad8147\",\"type\":\"ColumnDataSource\"}},\"id\":\"8d41f91b-440c-4eb6-aac1-b3efe2dcae8a\",\"type\":\"CDSView\"},{\"attributes\":{\"end_angle\":{\"field\":\"end_angle\",\"units\":\"rad\"},\"fill_alpha\":{\"value\":0.1},\"fill_color\":{\"value\":\"#1f77b4\"},\"inner_radius\":{\"units\":\"data\",\"value\":0},\"line_alpha\":{\"value\":0.1},\"line_color\":{\"value\":\"#1f77b4\"},\"outer_radius\":{\"field\":\"outer_radius\",\"units\":\"data\"},\"start_angle\":{\"field\":\"start_angle\",\"units\":\"rad\"},\"x\":{\"value\":0},\"y\":{\"value\":0}},\"id\":\"65d0fb74-c2b9-4e90-a5c2-30f40c6f53c8\",\"type\":\"AnnularWedge\"},{\"attributes\":{},\"id\":\"897714bf-5766-488e-8bcb-f2e612da0432\",\"type\":\"BasicTicker\"},{\"attributes\":{},\"id\":\"59a4673c-e7c0-4efb-a43c-019c4986d4d2\",\"type\":\"Selection\"},{\"attributes\":{\"dimension\":1,\"grid_line_color\":{\"value\":null},\"plot\":{\"id\":\"2b590bf1-b21f-405a-979e-cc46458a14b4\",\"subtype\":\"Figure\",\"type\":\"Plot\"},\"ticker\":{\"id\":\"897714bf-5766-488e-8bcb-f2e612da0432\",\"type\":\"BasicTicker\"}},\"id\":\"91b3f7eb-a291-4dc5-9a10-9956a177b1fe\",\"type\":\"Grid\"},{\"attributes\":{},\"id\":\"d5101a27-de95-44f5-80d3-3401ad9bf894\",\"type\":\"UnionRenderers\"},{\"attributes\":{},\"id\":\"35832180-0f67-4455-a1cb-fa6cfab6e518\",\"type\":\"UnionRenderers\"},{\"attributes\":{},\"id\":\"414ce215-c8c9-494c-b8ac-1628f603fc53\",\"type\":\"WheelZoomTool\"},{\"attributes\":{},\"id\":\"0d46b4cf-2410-43a7-8b43-82b2231a2106\",\"type\":\"Selection\"},{\"attributes\":{\"end_angle\":{\"field\":\"end_angle\",\"units\":\"rad\"},\"fill_color\":{\"value\":\"#225ea8\"},\"inner_radius\":{\"units\":\"data\",\"value\":0},\"line_color\":{\"value\":\"white\"},\"outer_radius\":{\"field\":\"outer_radius\",\"units\":\"data\"},\"start_angle\":{\"field\":\"start_angle\",\"units\":\"rad\"},\"x\":{\"value\":0},\"y\":{\"value\":0}},\"id\":\"0d34030e-ad07-4bed-949e-51eceb84b5fa\",\"type\":\"AnnularWedge\"},{\"attributes\":{},\"id\":\"d89b4ef7-5537-429f-85b4-f9b243dc29ea\",\"type\":\"UnionRenderers\"},{\"attributes\":{\"callback\":null,\"data\":{\"end_angle\":[1.2566370614359172,2.5132741228718345,3.7699111843077517,5.026548245743669,6.283185307179586],\"outer_radius\":[10,9,0,12,13],\"start_angle\":[0.0,1.2566370614359172,2.5132741228718345,3.7699111843077517,5.026548245743669]},\"selected\":{\"id\":\"1a55be1b-d752-4507-bd5c-ff32cb6400d3\",\"type\":\"Selection\"},\"selection_policy\":{\"id\":\"3def8788-5aa1-4299-b63c-3ce7a4a38779\",\"type\":\"UnionRenderers\"}},\"id\":\"55685410-6c9a-4efb-99d7-7a2c84f31d91\",\"type\":\"ColumnDataSource\"},{\"attributes\":{},\"id\":\"7bfc8323-6b1c-4aa5-b5d2-0c05cfbb271e\",\"type\":\"Selection\"},{\"attributes\":{},\"id\":\"57b8bd92-8ad3-4ea2-87b3-695a049a3f67\",\"type\":\"UnionRenderers\"}],\"root_ids\":[\"2b590bf1-b21f-405a-979e-cc46458a14b4\"]},\"title\":\"Bokeh Application\",\"version\":\"0.13.0\"}};\n",
       "  var render_items = [{\"docid\":\"b30ef854-27ef-4d20-b406-6414ee7e2f3b\",\"roots\":{\"2b590bf1-b21f-405a-979e-cc46458a14b4\":\"3d150f90-afb4-4e92-936f-67f4968f3d58\"}}];\n",
       "  root.Bokeh.embed.embed_items_notebook(docs_json, render_items);\n",
       "\n",
       "  }\n",
       "  if (root.Bokeh !== undefined) {\n",
       "    embed_document(root);\n",
       "  } else {\n",
       "    var attempts = 0;\n",
       "    var timer = setInterval(function(root) {\n",
       "      if (root.Bokeh !== undefined) {\n",
       "        embed_document(root);\n",
       "        clearInterval(timer);\n",
       "      }\n",
       "      attempts++;\n",
       "      if (attempts > 100) {\n",
       "        console.log(\"Bokeh: ERROR: Unable to run BokehJS code because BokehJS library is missing\")\n",
       "        clearInterval(timer);\n",
       "      }\n",
       "    }, 10, root)\n",
       "  }\n",
       "})(window);"
      ],
      "application/vnd.bokehjs_exec.v0+json": ""
     },
     "metadata": {
      "application/vnd.bokehjs_exec.v0+json": {
       "id": "2b590bf1-b21f-405a-979e-cc46458a14b4"
      }
     },
     "output_type": "display_data"
    }
   ],
   "source": [
    "p=figure(toolbar_location=None,background_fill_color='black',plot_width=500,plot_height=500, x_range=(-max_val*1.5,max_val*1.5),y_range=(-max_val*1.5,max_val*1.5))\n",
    "#colors=['red','blue','green']\n",
    "colors = itertools.cycle(ccycle.brewer['YlGnBu'][len(As)]) \n",
    "\n",
    "factor=2\n",
    "ml=1\n",
    "res=10\n",
    "while res>5:\n",
    "    res=np.ceil(max_val/(factor*ml))\n",
    "    ml=ml+1\n",
    "divisor=ml*factor\n",
    "\n",
    "labels=[plbl*divisor for plbl in range(0,int(np.ceil(max_val/divisor)+1))]\n",
    "lbl=['W1','W2','W3','W4']\n",
    "VH=['Vehicle '+str(i) for i in range(0,len(As)+1)]\n",
    "\n",
    "for i in range(0,len(As)):\n",
    "    if i==0:\n",
    "        p.annular_wedge(x=0, y=0, inner_radius=0, outer_radius=As[i], start_angle=Angle_Small,end_angle=Angle_Big,line_color='white', color=next(colors),legend=lbl[i])\n",
    "    else:\n",
    "        p.annular_wedge(x=0, y=0, inner_radius=As[i-1], outer_radius=As[i], start_angle=Angle_Small,end_angle=Angle_Big,line_color='white', color=next(colors),legend=lbl[i])\n",
    "        #p.annular_wedge(0, 0, 0, max_val, Angle_Small,Angle_Small, color='black')\n",
    "p.xaxis.visible=False\n",
    "p.yaxis.visible=False\n",
    "p.xgrid.grid_line_color = None\n",
    "p.ygrid.grid_line_color = None\n",
    "p.circle(0, 0, radius=labels, fill_color=None, line_color=\"grey\")\n",
    "p.text(labels,np.zeros(len(labels)),text=labels,text_align=\"center\",text_color='white', text_baseline=\"top\", text_font='helvetica')\n",
    "p.text(0,-max_val*1.3,text=['Fleet Rotation'],text_align=\"center\",text_color='white', text_font_size=\"20pt\",text_baseline=\"middle\", text_font='helvetica')\n",
    "#p.axis.visible=False\n",
    "p.ray(0,0,max_val*1.1,Angle_Small,color='black')\n",
    "p.legend.location = \"top_center\"\n",
    "p.legend.background_fill_alpha = 0.1\n",
    "p.legend.label_text_color='white'\n",
    "p.legend.orientation='horizontal'\n",
    "\n",
    "vangle=[(Angle_Small[i]+Angle_Big[i])/2 for i in range(0,len(Angle_Small))]\n",
    "vx=[max_val*1.2*np.cos(v) for v in vangle]\n",
    "vy=[max_val*1.2*np.sin(v) for v in vangle]\n",
    "\n",
    "p.text(vx,vy,VH, text_align='center', text_baseline='middle', text_color='white')\n",
    "\n",
    "show(p)"
   ]
  },
  {
   "cell_type": "code",
   "execution_count": 10,
   "metadata": {},
   "outputs": [
    {
     "data": {
      "text/plain": [
       "'D:\\\\Devcode\\\\Blog\\\\CircStackPlt\\\\circular_plot_fancy.png'"
      ]
     },
     "execution_count": 10,
     "metadata": {},
     "output_type": "execute_result"
    }
   ],
   "source": [
    "export_png(p,'circular_plot_fancy.png')"
   ]
  }
 ],
 "metadata": {
  "kernelspec": {
   "display_name": "Python 3",
   "language": "python",
   "name": "python3"
  },
  "language_info": {
   "codemirror_mode": {
    "name": "ipython",
    "version": 3
   },
   "file_extension": ".py",
   "mimetype": "text/x-python",
   "name": "python",
   "nbconvert_exporter": "python",
   "pygments_lexer": "ipython3",
   "version": "3.7.0"
  }
 },
 "nbformat": 4,
 "nbformat_minor": 2
}
