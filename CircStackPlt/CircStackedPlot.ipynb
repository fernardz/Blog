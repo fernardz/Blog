{
 "cells": [
  {
   "cell_type": "code",
   "execution_count": 1,
   "metadata": {},
   "outputs": [
    {
     "data": {
      "text/html": [
       "\n",
       "    <div class=\"bk-root\">\n",
       "        <a href=\"https://bokeh.pydata.org\" target=\"_blank\" class=\"bk-logo bk-logo-small bk-logo-notebook\"></a>\n",
       "        <span id=\"2d830afd-622d-4ff7-b5d6-0071c9ff27c0\">Loading BokehJS ...</span>\n",
       "    </div>"
      ]
     },
     "metadata": {},
     "output_type": "display_data"
    },
    {
     "data": {
      "application/javascript": [
       "\n",
       "(function(root) {\n",
       "  function now() {\n",
       "    return new Date();\n",
       "  }\n",
       "\n",
       "  var force = true;\n",
       "\n",
       "  if (typeof (root._bokeh_onload_callbacks) === \"undefined\" || force === true) {\n",
       "    root._bokeh_onload_callbacks = [];\n",
       "    root._bokeh_is_loading = undefined;\n",
       "  }\n",
       "\n",
       "  var JS_MIME_TYPE = 'application/javascript';\n",
       "  var HTML_MIME_TYPE = 'text/html';\n",
       "  var EXEC_MIME_TYPE = 'application/vnd.bokehjs_exec.v0+json';\n",
       "  var CLASS_NAME = 'output_bokeh rendered_html';\n",
       "\n",
       "  /**\n",
       "   * Render data to the DOM node\n",
       "   */\n",
       "  function render(props, node) {\n",
       "    var script = document.createElement(\"script\");\n",
       "    node.appendChild(script);\n",
       "  }\n",
       "\n",
       "  /**\n",
       "   * Handle when an output is cleared or removed\n",
       "   */\n",
       "  function handleClearOutput(event, handle) {\n",
       "    var cell = handle.cell;\n",
       "\n",
       "    var id = cell.output_area._bokeh_element_id;\n",
       "    var server_id = cell.output_area._bokeh_server_id;\n",
       "    // Clean up Bokeh references\n",
       "    if (id != null && id in Bokeh.index) {\n",
       "      Bokeh.index[id].model.document.clear();\n",
       "      delete Bokeh.index[id];\n",
       "    }\n",
       "\n",
       "    if (server_id !== undefined) {\n",
       "      // Clean up Bokeh references\n",
       "      var cmd = \"from bokeh.io.state import curstate; print(curstate().uuid_to_server['\" + server_id + \"'].get_sessions()[0].document.roots[0]._id)\";\n",
       "      cell.notebook.kernel.execute(cmd, {\n",
       "        iopub: {\n",
       "          output: function(msg) {\n",
       "            var id = msg.content.text.trim();\n",
       "            if (id in Bokeh.index) {\n",
       "              Bokeh.index[id].model.document.clear();\n",
       "              delete Bokeh.index[id];\n",
       "            }\n",
       "          }\n",
       "        }\n",
       "      });\n",
       "      // Destroy server and session\n",
       "      var cmd = \"import bokeh.io.notebook as ion; ion.destroy_server('\" + server_id + \"')\";\n",
       "      cell.notebook.kernel.execute(cmd);\n",
       "    }\n",
       "  }\n",
       "\n",
       "  /**\n",
       "   * Handle when a new output is added\n",
       "   */\n",
       "  function handleAddOutput(event, handle) {\n",
       "    var output_area = handle.output_area;\n",
       "    var output = handle.output;\n",
       "\n",
       "    // limit handleAddOutput to display_data with EXEC_MIME_TYPE content only\n",
       "    if ((output.output_type != \"display_data\") || (!output.data.hasOwnProperty(EXEC_MIME_TYPE))) {\n",
       "      return\n",
       "    }\n",
       "\n",
       "    var toinsert = output_area.element.find(\".\" + CLASS_NAME.split(' ')[0]);\n",
       "\n",
       "    if (output.metadata[EXEC_MIME_TYPE][\"id\"] !== undefined) {\n",
       "      toinsert[toinsert.length - 1].firstChild.textContent = output.data[JS_MIME_TYPE];\n",
       "      // store reference to embed id on output_area\n",
       "      output_area._bokeh_element_id = output.metadata[EXEC_MIME_TYPE][\"id\"];\n",
       "    }\n",
       "    if (output.metadata[EXEC_MIME_TYPE][\"server_id\"] !== undefined) {\n",
       "      var bk_div = document.createElement(\"div\");\n",
       "      bk_div.innerHTML = output.data[HTML_MIME_TYPE];\n",
       "      var script_attrs = bk_div.children[0].attributes;\n",
       "      for (var i = 0; i < script_attrs.length; i++) {\n",
       "        toinsert[toinsert.length - 1].firstChild.setAttribute(script_attrs[i].name, script_attrs[i].value);\n",
       "      }\n",
       "      // store reference to server id on output_area\n",
       "      output_area._bokeh_server_id = output.metadata[EXEC_MIME_TYPE][\"server_id\"];\n",
       "    }\n",
       "  }\n",
       "\n",
       "  function register_renderer(events, OutputArea) {\n",
       "\n",
       "    function append_mime(data, metadata, element) {\n",
       "      // create a DOM node to render to\n",
       "      var toinsert = this.create_output_subarea(\n",
       "        metadata,\n",
       "        CLASS_NAME,\n",
       "        EXEC_MIME_TYPE\n",
       "      );\n",
       "      this.keyboard_manager.register_events(toinsert);\n",
       "      // Render to node\n",
       "      var props = {data: data, metadata: metadata[EXEC_MIME_TYPE]};\n",
       "      render(props, toinsert[toinsert.length - 1]);\n",
       "      element.append(toinsert);\n",
       "      return toinsert\n",
       "    }\n",
       "\n",
       "    /* Handle when an output is cleared or removed */\n",
       "    events.on('clear_output.CodeCell', handleClearOutput);\n",
       "    events.on('delete.Cell', handleClearOutput);\n",
       "\n",
       "    /* Handle when a new output is added */\n",
       "    events.on('output_added.OutputArea', handleAddOutput);\n",
       "\n",
       "    /**\n",
       "     * Register the mime type and append_mime function with output_area\n",
       "     */\n",
       "    OutputArea.prototype.register_mime_type(EXEC_MIME_TYPE, append_mime, {\n",
       "      /* Is output safe? */\n",
       "      safe: true,\n",
       "      /* Index of renderer in `output_area.display_order` */\n",
       "      index: 0\n",
       "    });\n",
       "  }\n",
       "\n",
       "  // register the mime type if in Jupyter Notebook environment and previously unregistered\n",
       "  if (root.Jupyter !== undefined) {\n",
       "    var events = require('base/js/events');\n",
       "    var OutputArea = require('notebook/js/outputarea').OutputArea;\n",
       "\n",
       "    if (OutputArea.prototype.mime_types().indexOf(EXEC_MIME_TYPE) == -1) {\n",
       "      register_renderer(events, OutputArea);\n",
       "    }\n",
       "  }\n",
       "\n",
       "  \n",
       "  if (typeof (root._bokeh_timeout) === \"undefined\" || force === true) {\n",
       "    root._bokeh_timeout = Date.now() + 5000;\n",
       "    root._bokeh_failed_load = false;\n",
       "  }\n",
       "\n",
       "  var NB_LOAD_WARNING = {'data': {'text/html':\n",
       "     \"<div style='background-color: #fdd'>\\n\"+\n",
       "     \"<p>\\n\"+\n",
       "     \"BokehJS does not appear to have successfully loaded. If loading BokehJS from CDN, this \\n\"+\n",
       "     \"may be due to a slow or bad network connection. Possible fixes:\\n\"+\n",
       "     \"</p>\\n\"+\n",
       "     \"<ul>\\n\"+\n",
       "     \"<li>re-rerun `output_notebook()` to attempt to load from CDN again, or</li>\\n\"+\n",
       "     \"<li>use INLINE resources instead, as so:</li>\\n\"+\n",
       "     \"</ul>\\n\"+\n",
       "     \"<code>\\n\"+\n",
       "     \"from bokeh.resources import INLINE\\n\"+\n",
       "     \"output_notebook(resources=INLINE)\\n\"+\n",
       "     \"</code>\\n\"+\n",
       "     \"</div>\"}};\n",
       "\n",
       "  function display_loaded() {\n",
       "    var el = document.getElementById(\"2d830afd-622d-4ff7-b5d6-0071c9ff27c0\");\n",
       "    if (el != null) {\n",
       "      el.textContent = \"BokehJS is loading...\";\n",
       "    }\n",
       "    if (root.Bokeh !== undefined) {\n",
       "      if (el != null) {\n",
       "        el.textContent = \"BokehJS \" + root.Bokeh.version + \" successfully loaded.\";\n",
       "      }\n",
       "    } else if (Date.now() < root._bokeh_timeout) {\n",
       "      setTimeout(display_loaded, 100)\n",
       "    }\n",
       "  }\n",
       "\n",
       "\n",
       "  function run_callbacks() {\n",
       "    try {\n",
       "      root._bokeh_onload_callbacks.forEach(function(callback) { callback() });\n",
       "    }\n",
       "    finally {\n",
       "      delete root._bokeh_onload_callbacks\n",
       "    }\n",
       "    console.info(\"Bokeh: all callbacks have finished\");\n",
       "  }\n",
       "\n",
       "  function load_libs(js_urls, callback) {\n",
       "    root._bokeh_onload_callbacks.push(callback);\n",
       "    if (root._bokeh_is_loading > 0) {\n",
       "      console.log(\"Bokeh: BokehJS is being loaded, scheduling callback at\", now());\n",
       "      return null;\n",
       "    }\n",
       "    if (js_urls == null || js_urls.length === 0) {\n",
       "      run_callbacks();\n",
       "      return null;\n",
       "    }\n",
       "    console.log(\"Bokeh: BokehJS not loaded, scheduling load and callback at\", now());\n",
       "    root._bokeh_is_loading = js_urls.length;\n",
       "    for (var i = 0; i < js_urls.length; i++) {\n",
       "      var url = js_urls[i];\n",
       "      var s = document.createElement('script');\n",
       "      s.src = url;\n",
       "      s.async = false;\n",
       "      s.onreadystatechange = s.onload = function() {\n",
       "        root._bokeh_is_loading--;\n",
       "        if (root._bokeh_is_loading === 0) {\n",
       "          console.log(\"Bokeh: all BokehJS libraries loaded\");\n",
       "          run_callbacks()\n",
       "        }\n",
       "      };\n",
       "      s.onerror = function() {\n",
       "        console.warn(\"failed to load library \" + url);\n",
       "      };\n",
       "      console.log(\"Bokeh: injecting script tag for BokehJS library: \", url);\n",
       "      document.getElementsByTagName(\"head\")[0].appendChild(s);\n",
       "    }\n",
       "  };var element = document.getElementById(\"2d830afd-622d-4ff7-b5d6-0071c9ff27c0\");\n",
       "  if (element == null) {\n",
       "    console.log(\"Bokeh: ERROR: autoload.js configured with elementid '2d830afd-622d-4ff7-b5d6-0071c9ff27c0' but no matching script tag was found. \")\n",
       "    return false;\n",
       "  }\n",
       "\n",
       "  var js_urls = [\"https://cdn.pydata.org/bokeh/release/bokeh-0.13.0.min.js\", \"https://cdn.pydata.org/bokeh/release/bokeh-widgets-0.13.0.min.js\", \"https://cdn.pydata.org/bokeh/release/bokeh-tables-0.13.0.min.js\", \"https://cdn.pydata.org/bokeh/release/bokeh-gl-0.13.0.min.js\"];\n",
       "\n",
       "  var inline_js = [\n",
       "    function(Bokeh) {\n",
       "      Bokeh.set_log_level(\"info\");\n",
       "    },\n",
       "    \n",
       "    function(Bokeh) {\n",
       "      \n",
       "    },\n",
       "    function(Bokeh) {\n",
       "      console.log(\"Bokeh: injecting CSS: https://cdn.pydata.org/bokeh/release/bokeh-0.13.0.min.css\");\n",
       "      Bokeh.embed.inject_css(\"https://cdn.pydata.org/bokeh/release/bokeh-0.13.0.min.css\");\n",
       "      console.log(\"Bokeh: injecting CSS: https://cdn.pydata.org/bokeh/release/bokeh-widgets-0.13.0.min.css\");\n",
       "      Bokeh.embed.inject_css(\"https://cdn.pydata.org/bokeh/release/bokeh-widgets-0.13.0.min.css\");\n",
       "      console.log(\"Bokeh: injecting CSS: https://cdn.pydata.org/bokeh/release/bokeh-tables-0.13.0.min.css\");\n",
       "      Bokeh.embed.inject_css(\"https://cdn.pydata.org/bokeh/release/bokeh-tables-0.13.0.min.css\");\n",
       "    }\n",
       "  ];\n",
       "\n",
       "  function run_inline_js() {\n",
       "    \n",
       "    if ((root.Bokeh !== undefined) || (force === true)) {\n",
       "      for (var i = 0; i < inline_js.length; i++) {\n",
       "        inline_js[i].call(root, root.Bokeh);\n",
       "      }if (force === true) {\n",
       "        display_loaded();\n",
       "      }} else if (Date.now() < root._bokeh_timeout) {\n",
       "      setTimeout(run_inline_js, 100);\n",
       "    } else if (!root._bokeh_failed_load) {\n",
       "      console.log(\"Bokeh: BokehJS failed to load within specified timeout.\");\n",
       "      root._bokeh_failed_load = true;\n",
       "    } else if (force !== true) {\n",
       "      var cell = $(document.getElementById(\"2d830afd-622d-4ff7-b5d6-0071c9ff27c0\")).parents('.cell').data().cell;\n",
       "      cell.output_area.append_execute_result(NB_LOAD_WARNING)\n",
       "    }\n",
       "\n",
       "  }\n",
       "\n",
       "  if (root._bokeh_is_loading === 0) {\n",
       "    console.log(\"Bokeh: BokehJS loaded, going straight to plotting\");\n",
       "    run_inline_js();\n",
       "  } else {\n",
       "    load_libs(js_urls, function() {\n",
       "      console.log(\"Bokeh: BokehJS plotting callback run at\", now());\n",
       "      run_inline_js();\n",
       "    });\n",
       "  }\n",
       "}(window));"
      ],
      "application/vnd.bokehjs_load.v0+json": "\n(function(root) {\n  function now() {\n    return new Date();\n  }\n\n  var force = true;\n\n  if (typeof (root._bokeh_onload_callbacks) === \"undefined\" || force === true) {\n    root._bokeh_onload_callbacks = [];\n    root._bokeh_is_loading = undefined;\n  }\n\n  \n\n  \n  if (typeof (root._bokeh_timeout) === \"undefined\" || force === true) {\n    root._bokeh_timeout = Date.now() + 5000;\n    root._bokeh_failed_load = false;\n  }\n\n  var NB_LOAD_WARNING = {'data': {'text/html':\n     \"<div style='background-color: #fdd'>\\n\"+\n     \"<p>\\n\"+\n     \"BokehJS does not appear to have successfully loaded. If loading BokehJS from CDN, this \\n\"+\n     \"may be due to a slow or bad network connection. Possible fixes:\\n\"+\n     \"</p>\\n\"+\n     \"<ul>\\n\"+\n     \"<li>re-rerun `output_notebook()` to attempt to load from CDN again, or</li>\\n\"+\n     \"<li>use INLINE resources instead, as so:</li>\\n\"+\n     \"</ul>\\n\"+\n     \"<code>\\n\"+\n     \"from bokeh.resources import INLINE\\n\"+\n     \"output_notebook(resources=INLINE)\\n\"+\n     \"</code>\\n\"+\n     \"</div>\"}};\n\n  function display_loaded() {\n    var el = document.getElementById(\"2d830afd-622d-4ff7-b5d6-0071c9ff27c0\");\n    if (el != null) {\n      el.textContent = \"BokehJS is loading...\";\n    }\n    if (root.Bokeh !== undefined) {\n      if (el != null) {\n        el.textContent = \"BokehJS \" + root.Bokeh.version + \" successfully loaded.\";\n      }\n    } else if (Date.now() < root._bokeh_timeout) {\n      setTimeout(display_loaded, 100)\n    }\n  }\n\n\n  function run_callbacks() {\n    try {\n      root._bokeh_onload_callbacks.forEach(function(callback) { callback() });\n    }\n    finally {\n      delete root._bokeh_onload_callbacks\n    }\n    console.info(\"Bokeh: all callbacks have finished\");\n  }\n\n  function load_libs(js_urls, callback) {\n    root._bokeh_onload_callbacks.push(callback);\n    if (root._bokeh_is_loading > 0) {\n      console.log(\"Bokeh: BokehJS is being loaded, scheduling callback at\", now());\n      return null;\n    }\n    if (js_urls == null || js_urls.length === 0) {\n      run_callbacks();\n      return null;\n    }\n    console.log(\"Bokeh: BokehJS not loaded, scheduling load and callback at\", now());\n    root._bokeh_is_loading = js_urls.length;\n    for (var i = 0; i < js_urls.length; i++) {\n      var url = js_urls[i];\n      var s = document.createElement('script');\n      s.src = url;\n      s.async = false;\n      s.onreadystatechange = s.onload = function() {\n        root._bokeh_is_loading--;\n        if (root._bokeh_is_loading === 0) {\n          console.log(\"Bokeh: all BokehJS libraries loaded\");\n          run_callbacks()\n        }\n      };\n      s.onerror = function() {\n        console.warn(\"failed to load library \" + url);\n      };\n      console.log(\"Bokeh: injecting script tag for BokehJS library: \", url);\n      document.getElementsByTagName(\"head\")[0].appendChild(s);\n    }\n  };var element = document.getElementById(\"2d830afd-622d-4ff7-b5d6-0071c9ff27c0\");\n  if (element == null) {\n    console.log(\"Bokeh: ERROR: autoload.js configured with elementid '2d830afd-622d-4ff7-b5d6-0071c9ff27c0' but no matching script tag was found. \")\n    return false;\n  }\n\n  var js_urls = [\"https://cdn.pydata.org/bokeh/release/bokeh-0.13.0.min.js\", \"https://cdn.pydata.org/bokeh/release/bokeh-widgets-0.13.0.min.js\", \"https://cdn.pydata.org/bokeh/release/bokeh-tables-0.13.0.min.js\", \"https://cdn.pydata.org/bokeh/release/bokeh-gl-0.13.0.min.js\"];\n\n  var inline_js = [\n    function(Bokeh) {\n      Bokeh.set_log_level(\"info\");\n    },\n    \n    function(Bokeh) {\n      \n    },\n    function(Bokeh) {\n      console.log(\"Bokeh: injecting CSS: https://cdn.pydata.org/bokeh/release/bokeh-0.13.0.min.css\");\n      Bokeh.embed.inject_css(\"https://cdn.pydata.org/bokeh/release/bokeh-0.13.0.min.css\");\n      console.log(\"Bokeh: injecting CSS: https://cdn.pydata.org/bokeh/release/bokeh-widgets-0.13.0.min.css\");\n      Bokeh.embed.inject_css(\"https://cdn.pydata.org/bokeh/release/bokeh-widgets-0.13.0.min.css\");\n      console.log(\"Bokeh: injecting CSS: https://cdn.pydata.org/bokeh/release/bokeh-tables-0.13.0.min.css\");\n      Bokeh.embed.inject_css(\"https://cdn.pydata.org/bokeh/release/bokeh-tables-0.13.0.min.css\");\n    }\n  ];\n\n  function run_inline_js() {\n    \n    if ((root.Bokeh !== undefined) || (force === true)) {\n      for (var i = 0; i < inline_js.length; i++) {\n        inline_js[i].call(root, root.Bokeh);\n      }if (force === true) {\n        display_loaded();\n      }} else if (Date.now() < root._bokeh_timeout) {\n      setTimeout(run_inline_js, 100);\n    } else if (!root._bokeh_failed_load) {\n      console.log(\"Bokeh: BokehJS failed to load within specified timeout.\");\n      root._bokeh_failed_load = true;\n    } else if (force !== true) {\n      var cell = $(document.getElementById(\"2d830afd-622d-4ff7-b5d6-0071c9ff27c0\")).parents('.cell').data().cell;\n      cell.output_area.append_execute_result(NB_LOAD_WARNING)\n    }\n\n  }\n\n  if (root._bokeh_is_loading === 0) {\n    console.log(\"Bokeh: BokehJS loaded, going straight to plotting\");\n    run_inline_js();\n  } else {\n    load_libs(js_urls, function() {\n      console.log(\"Bokeh: BokehJS plotting callback run at\", now());\n      run_inline_js();\n    });\n  }\n}(window));"
     },
     "metadata": {},
     "output_type": "display_data"
    }
   ],
   "source": [
    "import bokeh\n",
    "import itertools\n",
    "import numpy as np\n",
    "from bokeh.plotting import figure, show, output_file\n",
    "import bokeh.palettes as ccycle\n",
    "from bokeh.io import output_notebook, export_png\n",
    "output_notebook()"
   ]
  },
  {
   "cell_type": "markdown",
   "metadata": {},
   "source": [
    "Create dummy data for each vehicle being used"
   ]
  },
  {
   "cell_type": "code",
   "execution_count": 2,
   "metadata": {},
   "outputs": [],
   "source": [
    "a1=[10,15,6,7]\n",
    "a2=[9,8,18,10]\n",
    "a3=[0,24,5,7]\n",
    "a4=[12,16,5,3]\n",
    "a5=[13,13,13,2]\n",
    "\n",
    "a=[a1,a2,a3,a4,a5]"
   ]
  },
  {
   "cell_type": "markdown",
   "metadata": {},
   "source": [
    "Determine the max values for each segment"
   ]
  },
  {
   "cell_type": "code",
   "execution_count": 3,
   "metadata": {},
   "outputs": [],
   "source": [
    "max_vals=[sum(seg) for seg in a]\n",
    "max_val=max([sum(seg) for seg in a])"
   ]
  },
  {
   "cell_type": "markdown",
   "metadata": {},
   "source": [
    "Determine the angles of each individual sector"
   ]
  },
  {
   "cell_type": "code",
   "execution_count": 4,
   "metadata": {},
   "outputs": [],
   "source": [
    "Angle_Increment=(np.pi*2.0)/(len(a))\n",
    "\n",
    "Angle_Small=[x*Angle_Increment for x in range(0,len(a))]\n",
    "Angle_Big=[x+Angle_Increment for x in Angle_Small]"
   ]
  },
  {
   "cell_type": "code",
   "execution_count": 5,
   "metadata": {},
   "outputs": [],
   "source": [
    "Angle_Small=[x*Angle_Increment for x in range(0,len(a))]\n",
    "Angle_Big=[x+Angle_Increment for x in Angle_Small]"
   ]
  },
  {
   "cell_type": "markdown",
   "metadata": {},
   "source": [
    "Generate an asset containing the sumation of the values of each vehicle"
   ]
  },
  {
   "cell_type": "code",
   "execution_count": 6,
   "metadata": {},
   "outputs": [
    {
     "name": "stdout",
     "output_type": "stream",
     "text": [
      "[[10, 9, 0, 12, 13], [25, 17, 24, 28, 26], [31, 35, 29, 33, 39], [38, 45, 36, 36, 41]]\n",
      "[0.0, 1.2566370614359172, 2.5132741228718345, 3.7699111843077517, 5.026548245743669] [1.2566370614359172, 2.5132741228718345, 3.7699111843077517, 5.026548245743669, 6.283185307179586]\n"
     ]
    }
   ],
   "source": [
    "As=[[sum(x[0:i+1]) for x in a] for i in range(0,len(a[0]))]\n",
    "print(As)\n",
    "print(Angle_Small, Angle_Big)"
   ]
  },
  {
   "cell_type": "markdown",
   "metadata": {},
   "source": [
    "Generate our plot"
   ]
  },
  {
   "cell_type": "code",
   "execution_count": 7,
   "metadata": {},
   "outputs": [
    {
     "data": {
      "text/html": [
       "\n",
       "\n",
       "\n",
       "\n",
       "\n",
       "\n",
       "  <div class=\"bk-root\" id=\"5cb3a91f-bd28-4bb6-9e3d-9e29e2ba3a8e\"></div>\n"
      ]
     },
     "metadata": {},
     "output_type": "display_data"
    },
    {
     "data": {
      "application/javascript": [
       "(function(root) {\n",
       "  function embed_document(root) {\n",
       "    \n",
       "  var docs_json = {\"4a7a2604-5da7-4133-8295-989db6ccfb45\":{\"roots\":{\"references\":[{\"attributes\":{\"plot\":null,\"text\":\"\"},\"id\":\"2a1244bf-c5e3-4f5d-813b-b5750175596f\",\"type\":\"Title\"},{\"attributes\":{\"end_angle\":{\"field\":\"end_angle\",\"units\":\"rad\"},\"fill_color\":{\"value\":\"green\"},\"inner_radius\":{\"field\":\"inner_radius\",\"units\":\"data\"},\"line_color\":{\"value\":null},\"outer_radius\":{\"field\":\"outer_radius\",\"units\":\"data\"},\"start_angle\":{\"field\":\"start_angle\",\"units\":\"rad\"},\"x\":{\"value\":0},\"y\":{\"value\":0}},\"id\":\"8c44a581-e0f2-4d35-8c5f-7862c3391685\",\"type\":\"AnnularWedge\"},{\"attributes\":{\"end_angle\":{\"field\":\"end_angle\",\"units\":\"rad\"},\"fill_alpha\":{\"value\":0.1},\"fill_color\":{\"value\":\"#1f77b4\"},\"inner_radius\":{\"field\":\"inner_radius\",\"units\":\"data\"},\"line_alpha\":{\"value\":0.1},\"line_color\":{\"value\":\"#1f77b4\"},\"outer_radius\":{\"field\":\"outer_radius\",\"units\":\"data\"},\"start_angle\":{\"field\":\"start_angle\",\"units\":\"rad\"},\"x\":{\"value\":0},\"y\":{\"value\":0}},\"id\":\"e12e97d8-033f-4cf3-8f89-74d00436e7cd\",\"type\":\"AnnularWedge\"},{\"attributes\":{\"data_source\":{\"id\":\"d52ce571-d043-4e3a-b58d-90614aa1059b\",\"type\":\"ColumnDataSource\"},\"glyph\":{\"id\":\"8c44a581-e0f2-4d35-8c5f-7862c3391685\",\"type\":\"AnnularWedge\"},\"hover_glyph\":null,\"muted_glyph\":null,\"nonselection_glyph\":{\"id\":\"e12e97d8-033f-4cf3-8f89-74d00436e7cd\",\"type\":\"AnnularWedge\"},\"selection_glyph\":null,\"view\":{\"id\":\"8aea5073-b645-4e57-ae9c-f974e607d0bd\",\"type\":\"CDSView\"}},\"id\":\"7b456e49-7275-4cb9-bb30-b1c5114dc4fb\",\"type\":\"GlyphRenderer\"},{\"attributes\":{\"below\":[{\"id\":\"fe1cb274-066d-4659-905c-49613038158f\",\"type\":\"LinearAxis\"}],\"left\":[{\"id\":\"21cded28-fa2c-4e32-81be-014c51f53fbd\",\"type\":\"LinearAxis\"}],\"plot_height\":400,\"plot_width\":400,\"renderers\":[{\"id\":\"fe1cb274-066d-4659-905c-49613038158f\",\"type\":\"LinearAxis\"},{\"id\":\"24cc794d-c77e-40e0-874c-373a20da13e7\",\"type\":\"Grid\"},{\"id\":\"21cded28-fa2c-4e32-81be-014c51f53fbd\",\"type\":\"LinearAxis\"},{\"id\":\"a051be7a-84f1-4b2e-a758-25515d24c15b\",\"type\":\"Grid\"},{\"id\":\"fa9d3536-0283-49b5-b69c-6f53129b1813\",\"type\":\"BoxAnnotation\"},{\"id\":\"71bdfa9e-8bc7-42cf-b31c-43e64f3d64a9\",\"type\":\"GlyphRenderer\"},{\"id\":\"38dc6067-b17a-4e45-a2e3-457b4cb7e71c\",\"type\":\"GlyphRenderer\"},{\"id\":\"7b456e49-7275-4cb9-bb30-b1c5114dc4fb\",\"type\":\"GlyphRenderer\"},{\"id\":\"a889b7e0-e26a-4ac0-a5da-5c9085a13445\",\"type\":\"GlyphRenderer\"}],\"title\":{\"id\":\"2a1244bf-c5e3-4f5d-813b-b5750175596f\",\"type\":\"Title\"},\"toolbar\":{\"id\":\"229e898e-b96a-40d0-bbba-dd92b1348571\",\"type\":\"Toolbar\"},\"x_range\":{\"id\":\"3c5e9313-3dc5-4490-90ae-e53f0cacf783\",\"type\":\"Range1d\"},\"x_scale\":{\"id\":\"bf3e2aa3-d8fc-4495-97f0-953d5687b58a\",\"type\":\"LinearScale\"},\"y_range\":{\"id\":\"931f4c14-90e1-4445-8949-a6bfa4d08cda\",\"type\":\"Range1d\"},\"y_scale\":{\"id\":\"46763a01-ef83-4ad8-9cad-b973f5a95c28\",\"type\":\"LinearScale\"}},\"id\":\"bcca1fd3-0343-43df-99e5-a43367cbeb1c\",\"subtype\":\"Figure\",\"type\":\"Plot\"},{\"attributes\":{\"source\":{\"id\":\"d52ce571-d043-4e3a-b58d-90614aa1059b\",\"type\":\"ColumnDataSource\"}},\"id\":\"8aea5073-b645-4e57-ae9c-f974e607d0bd\",\"type\":\"CDSView\"},{\"attributes\":{\"end_angle\":{\"field\":\"end_angle\",\"units\":\"rad\"},\"fill_color\":{\"value\":\"red\"},\"inner_radius\":{\"units\":\"data\",\"value\":0},\"line_color\":{\"value\":null},\"outer_radius\":{\"field\":\"outer_radius\",\"units\":\"data\"},\"start_angle\":{\"field\":\"start_angle\",\"units\":\"rad\"},\"x\":{\"value\":0},\"y\":{\"value\":0}},\"id\":\"c5591295-2eac-4ce8-9ea5-be2ab52d4164\",\"type\":\"AnnularWedge\"},{\"attributes\":{\"callback\":null,\"data\":{\"end_angle\":[1.2566370614359172,2.5132741228718345,3.7699111843077517,5.026548245743669,6.283185307179586],\"inner_radius\":[31,35,29,33,39],\"outer_radius\":[38,45,36,36,41],\"start_angle\":[0.0,1.2566370614359172,2.5132741228718345,3.7699111843077517,5.026548245743669]},\"selected\":{\"id\":\"56af704d-d43d-4e6b-9392-fd88688bd7a7\",\"type\":\"Selection\"},\"selection_policy\":{\"id\":\"24b58ea0-2573-45fa-be5e-538e00bc2663\",\"type\":\"UnionRenderers\"}},\"id\":\"60d1900e-184a-45db-acf1-d28c3cf67fb1\",\"type\":\"ColumnDataSource\"},{\"attributes\":{\"callback\":null,\"end\":58.5,\"start\":-58.5},\"id\":\"3c5e9313-3dc5-4490-90ae-e53f0cacf783\",\"type\":\"Range1d\"},{\"attributes\":{\"end_angle\":{\"field\":\"end_angle\",\"units\":\"rad\"},\"fill_color\":{\"value\":\"yellow\"},\"inner_radius\":{\"field\":\"inner_radius\",\"units\":\"data\"},\"line_color\":{\"value\":null},\"outer_radius\":{\"field\":\"outer_radius\",\"units\":\"data\"},\"start_angle\":{\"field\":\"start_angle\",\"units\":\"rad\"},\"x\":{\"value\":0},\"y\":{\"value\":0}},\"id\":\"0c904fae-0de4-49be-9112-848fc2071247\",\"type\":\"AnnularWedge\"},{\"attributes\":{\"end_angle\":{\"field\":\"end_angle\",\"units\":\"rad\"},\"fill_alpha\":{\"value\":0.1},\"fill_color\":{\"value\":\"#1f77b4\"},\"inner_radius\":{\"field\":\"inner_radius\",\"units\":\"data\"},\"line_alpha\":{\"value\":0.1},\"line_color\":{\"value\":\"#1f77b4\"},\"outer_radius\":{\"field\":\"outer_radius\",\"units\":\"data\"},\"start_angle\":{\"field\":\"start_angle\",\"units\":\"rad\"},\"x\":{\"value\":0},\"y\":{\"value\":0}},\"id\":\"1e2e8e73-0fbc-4689-b125-b79db4d84b1a\",\"type\":\"AnnularWedge\"},{\"attributes\":{\"callback\":null,\"end\":58.5,\"start\":-58.5},\"id\":\"931f4c14-90e1-4445-8949-a6bfa4d08cda\",\"type\":\"Range1d\"},{\"attributes\":{\"data_source\":{\"id\":\"60d1900e-184a-45db-acf1-d28c3cf67fb1\",\"type\":\"ColumnDataSource\"},\"glyph\":{\"id\":\"0c904fae-0de4-49be-9112-848fc2071247\",\"type\":\"AnnularWedge\"},\"hover_glyph\":null,\"muted_glyph\":null,\"nonselection_glyph\":{\"id\":\"1e2e8e73-0fbc-4689-b125-b79db4d84b1a\",\"type\":\"AnnularWedge\"},\"selection_glyph\":null,\"view\":{\"id\":\"5bdb4d2e-e460-4609-80b9-939c6ea82969\",\"type\":\"CDSView\"}},\"id\":\"a889b7e0-e26a-4ac0-a5da-5c9085a13445\",\"type\":\"GlyphRenderer\"},{\"attributes\":{},\"id\":\"bf3e2aa3-d8fc-4495-97f0-953d5687b58a\",\"type\":\"LinearScale\"},{\"attributes\":{\"source\":{\"id\":\"60d1900e-184a-45db-acf1-d28c3cf67fb1\",\"type\":\"ColumnDataSource\"}},\"id\":\"5bdb4d2e-e460-4609-80b9-939c6ea82969\",\"type\":\"CDSView\"},{\"attributes\":{},\"id\":\"46763a01-ef83-4ad8-9cad-b973f5a95c28\",\"type\":\"LinearScale\"},{\"attributes\":{},\"id\":\"fea11d25-621a-411e-8485-3d08919e3907\",\"type\":\"Selection\"},{\"attributes\":{\"formatter\":{\"id\":\"6da07fbf-5ae1-4ec8-a900-7f427d4d2050\",\"type\":\"BasicTickFormatter\"},\"plot\":{\"id\":\"bcca1fd3-0343-43df-99e5-a43367cbeb1c\",\"subtype\":\"Figure\",\"type\":\"Plot\"},\"ticker\":{\"id\":\"835d7a10-11f7-4680-a1b2-a01a8ae8fd5a\",\"type\":\"BasicTicker\"}},\"id\":\"fe1cb274-066d-4659-905c-49613038158f\",\"type\":\"LinearAxis\"},{\"attributes\":{},\"id\":\"64c89e37-faec-4e71-a643-45d0547374ae\",\"type\":\"BasicTickFormatter\"},{\"attributes\":{},\"id\":\"835d7a10-11f7-4680-a1b2-a01a8ae8fd5a\",\"type\":\"BasicTicker\"},{\"attributes\":{},\"id\":\"6da07fbf-5ae1-4ec8-a900-7f427d4d2050\",\"type\":\"BasicTickFormatter\"},{\"attributes\":{\"plot\":{\"id\":\"bcca1fd3-0343-43df-99e5-a43367cbeb1c\",\"subtype\":\"Figure\",\"type\":\"Plot\"},\"ticker\":{\"id\":\"835d7a10-11f7-4680-a1b2-a01a8ae8fd5a\",\"type\":\"BasicTicker\"}},\"id\":\"24cc794d-c77e-40e0-874c-373a20da13e7\",\"type\":\"Grid\"},{\"attributes\":{\"formatter\":{\"id\":\"64c89e37-faec-4e71-a643-45d0547374ae\",\"type\":\"BasicTickFormatter\"},\"plot\":{\"id\":\"bcca1fd3-0343-43df-99e5-a43367cbeb1c\",\"subtype\":\"Figure\",\"type\":\"Plot\"},\"ticker\":{\"id\":\"4c016dfc-fe0b-4ed0-bd7f-1a50c52490e3\",\"type\":\"BasicTicker\"}},\"id\":\"21cded28-fa2c-4e32-81be-014c51f53fbd\",\"type\":\"LinearAxis\"},{\"attributes\":{},\"id\":\"3e95e4f6-37c2-445c-ad3d-2f608c335c9d\",\"type\":\"UnionRenderers\"},{\"attributes\":{},\"id\":\"4c016dfc-fe0b-4ed0-bd7f-1a50c52490e3\",\"type\":\"BasicTicker\"},{\"attributes\":{\"active_drag\":\"auto\",\"active_inspect\":\"auto\",\"active_multi\":null,\"active_scroll\":\"auto\",\"active_tap\":\"auto\",\"tools\":[{\"id\":\"2af14e93-5073-409c-ba8b-f7bf9a7dab72\",\"type\":\"PanTool\"},{\"id\":\"3678c45e-ff1a-4b49-ab6d-826c5c2b3919\",\"type\":\"WheelZoomTool\"},{\"id\":\"b41db2f5-b727-4cc5-a98b-297d876c1f2a\",\"type\":\"BoxZoomTool\"},{\"id\":\"b66f624d-9aad-4512-a50a-7b67b3aea948\",\"type\":\"SaveTool\"},{\"id\":\"18156f71-022b-4d78-94c0-13a802b81cb8\",\"type\":\"ResetTool\"},{\"id\":\"7d4fdecb-d909-4b11-8530-9a27cbd70564\",\"type\":\"HelpTool\"}]},\"id\":\"229e898e-b96a-40d0-bbba-dd92b1348571\",\"type\":\"Toolbar\"},{\"attributes\":{},\"id\":\"1ff3cfd9-1b95-44b5-adae-a4f26071bbb5\",\"type\":\"Selection\"},{\"attributes\":{\"dimension\":1,\"plot\":{\"id\":\"bcca1fd3-0343-43df-99e5-a43367cbeb1c\",\"subtype\":\"Figure\",\"type\":\"Plot\"},\"ticker\":{\"id\":\"4c016dfc-fe0b-4ed0-bd7f-1a50c52490e3\",\"type\":\"BasicTicker\"}},\"id\":\"a051be7a-84f1-4b2e-a758-25515d24c15b\",\"type\":\"Grid\"},{\"attributes\":{},\"id\":\"40803f61-a59f-4671-b583-9b4bfd6c9fc3\",\"type\":\"UnionRenderers\"},{\"attributes\":{\"end_angle\":{\"field\":\"end_angle\",\"units\":\"rad\"},\"fill_alpha\":{\"value\":0.1},\"fill_color\":{\"value\":\"#1f77b4\"},\"inner_radius\":{\"units\":\"data\",\"value\":0},\"line_alpha\":{\"value\":0.1},\"line_color\":{\"value\":\"#1f77b4\"},\"outer_radius\":{\"field\":\"outer_radius\",\"units\":\"data\"},\"start_angle\":{\"field\":\"start_angle\",\"units\":\"rad\"},\"x\":{\"value\":0},\"y\":{\"value\":0}},\"id\":\"57aa8a12-c982-4d89-af80-bf67eedab03a\",\"type\":\"AnnularWedge\"},{\"attributes\":{},\"id\":\"30460e86-1cde-47ad-88fe-bb03bee3b210\",\"type\":\"Selection\"},{\"attributes\":{\"callback\":null,\"data\":{\"end_angle\":[1.2566370614359172,2.5132741228718345,3.7699111843077517,5.026548245743669,6.283185307179586],\"outer_radius\":[10,9,0,12,13],\"start_angle\":[0.0,1.2566370614359172,2.5132741228718345,3.7699111843077517,5.026548245743669]},\"selected\":{\"id\":\"fea11d25-621a-411e-8485-3d08919e3907\",\"type\":\"Selection\"},\"selection_policy\":{\"id\":\"3e95e4f6-37c2-445c-ad3d-2f608c335c9d\",\"type\":\"UnionRenderers\"}},\"id\":\"01a25222-9012-44f9-84ba-650963ad37a8\",\"type\":\"ColumnDataSource\"},{\"attributes\":{},\"id\":\"4ea07403-f235-4bb1-a97b-2d43932fe372\",\"type\":\"UnionRenderers\"},{\"attributes\":{},\"id\":\"56af704d-d43d-4e6b-9392-fd88688bd7a7\",\"type\":\"Selection\"},{\"attributes\":{},\"id\":\"24b58ea0-2573-45fa-be5e-538e00bc2663\",\"type\":\"UnionRenderers\"},{\"attributes\":{},\"id\":\"2af14e93-5073-409c-ba8b-f7bf9a7dab72\",\"type\":\"PanTool\"},{\"attributes\":{},\"id\":\"b66f624d-9aad-4512-a50a-7b67b3aea948\",\"type\":\"SaveTool\"},{\"attributes\":{},\"id\":\"3678c45e-ff1a-4b49-ab6d-826c5c2b3919\",\"type\":\"WheelZoomTool\"},{\"attributes\":{\"callback\":null,\"data\":{\"end_angle\":[1.2566370614359172,2.5132741228718345,3.7699111843077517,5.026548245743669,6.283185307179586],\"inner_radius\":[25,17,24,28,26],\"outer_radius\":[31,35,29,33,39],\"start_angle\":[0.0,1.2566370614359172,2.5132741228718345,3.7699111843077517,5.026548245743669]},\"selected\":{\"id\":\"30460e86-1cde-47ad-88fe-bb03bee3b210\",\"type\":\"Selection\"},\"selection_policy\":{\"id\":\"4ea07403-f235-4bb1-a97b-2d43932fe372\",\"type\":\"UnionRenderers\"}},\"id\":\"d52ce571-d043-4e3a-b58d-90614aa1059b\",\"type\":\"ColumnDataSource\"},{\"attributes\":{},\"id\":\"18156f71-022b-4d78-94c0-13a802b81cb8\",\"type\":\"ResetTool\"},{\"attributes\":{},\"id\":\"7d4fdecb-d909-4b11-8530-9a27cbd70564\",\"type\":\"HelpTool\"},{\"attributes\":{\"bottom_units\":\"screen\",\"fill_alpha\":{\"value\":0.5},\"fill_color\":{\"value\":\"lightgrey\"},\"left_units\":\"screen\",\"level\":\"overlay\",\"line_alpha\":{\"value\":1.0},\"line_color\":{\"value\":\"black\"},\"line_dash\":[4,4],\"line_width\":{\"value\":2},\"plot\":null,\"render_mode\":\"css\",\"right_units\":\"screen\",\"top_units\":\"screen\"},\"id\":\"fa9d3536-0283-49b5-b69c-6f53129b1813\",\"type\":\"BoxAnnotation\"},{\"attributes\":{\"overlay\":{\"id\":\"fa9d3536-0283-49b5-b69c-6f53129b1813\",\"type\":\"BoxAnnotation\"}},\"id\":\"b41db2f5-b727-4cc5-a98b-297d876c1f2a\",\"type\":\"BoxZoomTool\"},{\"attributes\":{\"callback\":null,\"data\":{\"end_angle\":[1.2566370614359172,2.5132741228718345,3.7699111843077517,5.026548245743669,6.283185307179586],\"inner_radius\":[10,9,0,12,13],\"outer_radius\":[25,17,24,28,26],\"start_angle\":[0.0,1.2566370614359172,2.5132741228718345,3.7699111843077517,5.026548245743669]},\"selected\":{\"id\":\"1ff3cfd9-1b95-44b5-adae-a4f26071bbb5\",\"type\":\"Selection\"},\"selection_policy\":{\"id\":\"40803f61-a59f-4671-b583-9b4bfd6c9fc3\",\"type\":\"UnionRenderers\"}},\"id\":\"512eae07-6166-4476-9a01-2c22fa275871\",\"type\":\"ColumnDataSource\"},{\"attributes\":{\"data_source\":{\"id\":\"01a25222-9012-44f9-84ba-650963ad37a8\",\"type\":\"ColumnDataSource\"},\"glyph\":{\"id\":\"c5591295-2eac-4ce8-9ea5-be2ab52d4164\",\"type\":\"AnnularWedge\"},\"hover_glyph\":null,\"muted_glyph\":null,\"nonselection_glyph\":{\"id\":\"57aa8a12-c982-4d89-af80-bf67eedab03a\",\"type\":\"AnnularWedge\"},\"selection_glyph\":null,\"view\":{\"id\":\"7aebecd7-daa8-4f0c-8dc1-c4a29ca1c838\",\"type\":\"CDSView\"}},\"id\":\"71bdfa9e-8bc7-42cf-b31c-43e64f3d64a9\",\"type\":\"GlyphRenderer\"},{\"attributes\":{\"source\":{\"id\":\"01a25222-9012-44f9-84ba-650963ad37a8\",\"type\":\"ColumnDataSource\"}},\"id\":\"7aebecd7-daa8-4f0c-8dc1-c4a29ca1c838\",\"type\":\"CDSView\"},{\"attributes\":{\"end_angle\":{\"field\":\"end_angle\",\"units\":\"rad\"},\"fill_color\":{\"value\":\"blue\"},\"inner_radius\":{\"field\":\"inner_radius\",\"units\":\"data\"},\"line_color\":{\"value\":null},\"outer_radius\":{\"field\":\"outer_radius\",\"units\":\"data\"},\"start_angle\":{\"field\":\"start_angle\",\"units\":\"rad\"},\"x\":{\"value\":0},\"y\":{\"value\":0}},\"id\":\"f2593b18-7f15-41ec-a5e6-31e1439f6a08\",\"type\":\"AnnularWedge\"},{\"attributes\":{\"end_angle\":{\"field\":\"end_angle\",\"units\":\"rad\"},\"fill_alpha\":{\"value\":0.1},\"fill_color\":{\"value\":\"#1f77b4\"},\"inner_radius\":{\"field\":\"inner_radius\",\"units\":\"data\"},\"line_alpha\":{\"value\":0.1},\"line_color\":{\"value\":\"#1f77b4\"},\"outer_radius\":{\"field\":\"outer_radius\",\"units\":\"data\"},\"start_angle\":{\"field\":\"start_angle\",\"units\":\"rad\"},\"x\":{\"value\":0},\"y\":{\"value\":0}},\"id\":\"f7a14990-37a5-40a9-a2de-dfc662892f3c\",\"type\":\"AnnularWedge\"},{\"attributes\":{\"data_source\":{\"id\":\"512eae07-6166-4476-9a01-2c22fa275871\",\"type\":\"ColumnDataSource\"},\"glyph\":{\"id\":\"f2593b18-7f15-41ec-a5e6-31e1439f6a08\",\"type\":\"AnnularWedge\"},\"hover_glyph\":null,\"muted_glyph\":null,\"nonselection_glyph\":{\"id\":\"f7a14990-37a5-40a9-a2de-dfc662892f3c\",\"type\":\"AnnularWedge\"},\"selection_glyph\":null,\"view\":{\"id\":\"26b5fdc1-99e7-4b36-8ed2-f43c53240222\",\"type\":\"CDSView\"}},\"id\":\"38dc6067-b17a-4e45-a2e3-457b4cb7e71c\",\"type\":\"GlyphRenderer\"},{\"attributes\":{\"source\":{\"id\":\"512eae07-6166-4476-9a01-2c22fa275871\",\"type\":\"ColumnDataSource\"}},\"id\":\"26b5fdc1-99e7-4b36-8ed2-f43c53240222\",\"type\":\"CDSView\"}],\"root_ids\":[\"bcca1fd3-0343-43df-99e5-a43367cbeb1c\"]},\"title\":\"Bokeh Application\",\"version\":\"0.13.0\"}};\n",
       "  var render_items = [{\"docid\":\"4a7a2604-5da7-4133-8295-989db6ccfb45\",\"roots\":{\"bcca1fd3-0343-43df-99e5-a43367cbeb1c\":\"5cb3a91f-bd28-4bb6-9e3d-9e29e2ba3a8e\"}}];\n",
       "  root.Bokeh.embed.embed_items_notebook(docs_json, render_items);\n",
       "\n",
       "  }\n",
       "  if (root.Bokeh !== undefined) {\n",
       "    embed_document(root);\n",
       "  } else {\n",
       "    var attempts = 0;\n",
       "    var timer = setInterval(function(root) {\n",
       "      if (root.Bokeh !== undefined) {\n",
       "        embed_document(root);\n",
       "        clearInterval(timer);\n",
       "      }\n",
       "      attempts++;\n",
       "      if (attempts > 100) {\n",
       "        console.log(\"Bokeh: ERROR: Unable to run BokehJS code because BokehJS library is missing\")\n",
       "        clearInterval(timer);\n",
       "      }\n",
       "    }, 10, root)\n",
       "  }\n",
       "})(window);"
      ],
      "application/vnd.bokehjs_exec.v0+json": ""
     },
     "metadata": {
      "application/vnd.bokehjs_exec.v0+json": {
       "id": "bcca1fd3-0343-43df-99e5-a43367cbeb1c"
      }
     },
     "output_type": "display_data"
    },
    {
     "data": {
      "text/plain": [
       "'D:\\\\Devcode\\\\Blog\\\\CircStackPlt\\\\circular_plot.png'"
      ]
     },
     "execution_count": 7,
     "metadata": {},
     "output_type": "execute_result"
    }
   ],
   "source": [
    "p=figure(plot_width=400,plot_height=400, x_range=(-max_val*1.3,max_val*1.3),y_range=(-max_val*1.3,max_val*1.3))\n",
    "colors=['red','blue','green','yellow']\n",
    "\n",
    "for i in range(0,len(As)):\n",
    "    if i==0:\n",
    "        p.annular_wedge(x=0, y=0, inner_radius=0, outer_radius=As[i], start_angle=Angle_Small,end_angle=Angle_Big,line_color=None, color=colors[i])\n",
    "    else:\n",
    "        p.annular_wedge(x=0, y=0, inner_radius=As[i-1], outer_radius=As[i], start_angle=Angle_Small,end_angle=Angle_Big,line_color=None, color=colors[i])\n",
    "show(p)\n",
    "export_png(p,'circular_plot.png')"
   ]
  },
  {
   "cell_type": "markdown",
   "metadata": {},
   "source": [
    "Make our plot look better using bokeh"
   ]
  },
  {
   "cell_type": "code",
   "execution_count": 8,
   "metadata": {},
   "outputs": [
    {
     "data": {
      "text/html": [
       "\n",
       "\n",
       "\n",
       "\n",
       "\n",
       "\n",
       "  <div class=\"bk-root\" id=\"0758982e-661b-426c-9152-e1ddfe9d399a\"></div>\n"
      ]
     },
     "metadata": {},
     "output_type": "display_data"
    },
    {
     "data": {
      "application/javascript": [
       "(function(root) {\n",
       "  function embed_document(root) {\n",
       "    \n",
       "  var docs_json = {\"1ff928f4-f0e3-43d0-955f-69fb359e4445\":{\"roots\":{\"references\":[{\"attributes\":{\"data_source\":{\"id\":\"4194888b-bcc9-4731-b70b-5f2ed42a182c\",\"type\":\"ColumnDataSource\"},\"glyph\":{\"id\":\"a09ea218-73a1-4731-9265-ba1f1254755f\",\"type\":\"AnnularWedge\"},\"hover_glyph\":null,\"muted_glyph\":null,\"nonselection_glyph\":{\"id\":\"a07f9ac9-db08-4808-83f1-8cfdf2197adf\",\"type\":\"AnnularWedge\"},\"selection_glyph\":null,\"view\":{\"id\":\"9dfc9a09-2124-488b-8b19-30919930b2d4\",\"type\":\"CDSView\"}},\"id\":\"7932d8c7-4593-4765-842e-9a35407e440b\",\"type\":\"GlyphRenderer\"},{\"attributes\":{},\"id\":\"677ea405-f36b-4993-a288-340c19a05c33\",\"type\":\"HelpTool\"},{\"attributes\":{\"bottom_units\":\"screen\",\"fill_alpha\":{\"value\":0.5},\"fill_color\":{\"value\":\"lightgrey\"},\"left_units\":\"screen\",\"level\":\"overlay\",\"line_alpha\":{\"value\":1.0},\"line_color\":{\"value\":\"black\"},\"line_dash\":[4,4],\"line_width\":{\"value\":2},\"plot\":null,\"render_mode\":\"css\",\"right_units\":\"screen\",\"top_units\":\"screen\"},\"id\":\"56da9aea-a5b1-4c9a-b82e-f23186e1bfa3\",\"type\":\"BoxAnnotation\"},{\"attributes\":{\"callback\":null,\"data\":{\"end_angle\":[1.2566370614359172,2.5132741228718345,3.7699111843077517,5.026548245743669,6.283185307179586],\"inner_radius\":[31,35,29,33,39],\"outer_radius\":[38,45,36,36,41],\"start_angle\":[0.0,1.2566370614359172,2.5132741228718345,3.7699111843077517,5.026548245743669]},\"selected\":{\"id\":\"709ee5e2-1cdf-4615-8cd4-e667f2fbd73b\",\"type\":\"Selection\"},\"selection_policy\":{\"id\":\"4b6b70c3-4f0a-48a7-b4b4-f44e5a214bba\",\"type\":\"UnionRenderers\"}},\"id\":\"4194888b-bcc9-4731-b70b-5f2ed42a182c\",\"type\":\"ColumnDataSource\"},{\"attributes\":{\"end_angle\":{\"field\":\"end_angle\",\"units\":\"rad\"},\"fill_alpha\":{\"value\":0.1},\"fill_color\":{\"value\":\"#1f77b4\"},\"inner_radius\":{\"field\":\"inner_radius\",\"units\":\"data\"},\"line_alpha\":{\"value\":0.1},\"line_color\":{\"value\":\"#1f77b4\"},\"outer_radius\":{\"field\":\"outer_radius\",\"units\":\"data\"},\"start_angle\":{\"field\":\"start_angle\",\"units\":\"rad\"},\"x\":{\"value\":0},\"y\":{\"value\":0}},\"id\":\"a07f9ac9-db08-4808-83f1-8cfdf2197adf\",\"type\":\"AnnularWedge\"},{\"attributes\":{\"end_angle\":{\"field\":\"end_angle\",\"units\":\"rad\"},\"fill_color\":{\"value\":\"#ffffcc\"},\"inner_radius\":{\"field\":\"inner_radius\",\"units\":\"data\"},\"line_color\":{\"value\":\"white\"},\"outer_radius\":{\"field\":\"outer_radius\",\"units\":\"data\"},\"start_angle\":{\"field\":\"start_angle\",\"units\":\"rad\"},\"x\":{\"value\":0},\"y\":{\"value\":0}},\"id\":\"a09ea218-73a1-4731-9265-ba1f1254755f\",\"type\":\"AnnularWedge\"},{\"attributes\":{\"label\":{\"value\":\"W3\"},\"renderers\":[{\"id\":\"835ad39f-5881-4776-9ab1-81812e3fe362\",\"type\":\"GlyphRenderer\"}]},\"id\":\"a9591fcb-64b1-46fe-9008-bd843f3e8614\",\"type\":\"LegendItem\"},{\"attributes\":{},\"id\":\"21ea46bf-f1a2-4467-b406-9f5e9d0f8e5c\",\"type\":\"UnionRenderers\"},{\"attributes\":{},\"id\":\"d45490de-a0a4-4398-a2d8-8db59e1039cc\",\"type\":\"Selection\"},{\"attributes\":{\"source\":{\"id\":\"2bdf37f7-d2f0-4846-a98f-930e3d6564d9\",\"type\":\"ColumnDataSource\"}},\"id\":\"d6ff3e67-afb2-4785-8513-dd0723f5ad1a\",\"type\":\"CDSView\"},{\"attributes\":{\"data_source\":{\"id\":\"2bdf37f7-d2f0-4846-a98f-930e3d6564d9\",\"type\":\"ColumnDataSource\"},\"glyph\":{\"id\":\"4018b37d-c6b8-4390-9cef-1a4a0e0fed7a\",\"type\":\"AnnularWedge\"},\"hover_glyph\":null,\"muted_glyph\":null,\"nonselection_glyph\":{\"id\":\"ad6a4a96-cfb8-4e23-a700-356f7d600bbf\",\"type\":\"AnnularWedge\"},\"selection_glyph\":null,\"view\":{\"id\":\"d6ff3e67-afb2-4785-8513-dd0723f5ad1a\",\"type\":\"CDSView\"}},\"id\":\"835ad39f-5881-4776-9ab1-81812e3fe362\",\"type\":\"GlyphRenderer\"},{\"attributes\":{\"end_angle\":{\"field\":\"end_angle\",\"units\":\"rad\"},\"fill_alpha\":{\"value\":0.1},\"fill_color\":{\"value\":\"#1f77b4\"},\"inner_radius\":{\"field\":\"inner_radius\",\"units\":\"data\"},\"line_alpha\":{\"value\":0.1},\"line_color\":{\"value\":\"#1f77b4\"},\"outer_radius\":{\"field\":\"outer_radius\",\"units\":\"data\"},\"start_angle\":{\"field\":\"start_angle\",\"units\":\"rad\"},\"x\":{\"value\":0},\"y\":{\"value\":0}},\"id\":\"ad6a4a96-cfb8-4e23-a700-356f7d600bbf\",\"type\":\"AnnularWedge\"},{\"attributes\":{\"end_angle\":{\"field\":\"end_angle\",\"units\":\"rad\"},\"fill_color\":{\"value\":\"#a1dab4\"},\"inner_radius\":{\"field\":\"inner_radius\",\"units\":\"data\"},\"line_color\":{\"value\":\"white\"},\"outer_radius\":{\"field\":\"outer_radius\",\"units\":\"data\"},\"start_angle\":{\"field\":\"start_angle\",\"units\":\"rad\"},\"x\":{\"value\":0},\"y\":{\"value\":0}},\"id\":\"4018b37d-c6b8-4390-9cef-1a4a0e0fed7a\",\"type\":\"AnnularWedge\"},{\"attributes\":{\"callback\":null,\"data\":{\"end_angle\":[1.2566370614359172,2.5132741228718345,3.7699111843077517,5.026548245743669,6.283185307179586],\"inner_radius\":[25,17,24,28,26],\"outer_radius\":[31,35,29,33,39],\"start_angle\":[0.0,1.2566370614359172,2.5132741228718345,3.7699111843077517,5.026548245743669]},\"selected\":{\"id\":\"6096f411-6430-49cb-a50b-ea367a08d834\",\"type\":\"Selection\"},\"selection_policy\":{\"id\":\"f7c0bb6b-aed0-4873-8bdd-54b57a2d18e3\",\"type\":\"UnionRenderers\"}},\"id\":\"2bdf37f7-d2f0-4846-a98f-930e3d6564d9\",\"type\":\"ColumnDataSource\"},{\"attributes\":{\"text_align\":\"center\",\"text_alpha\":{\"value\":0.1},\"text_baseline\":\"middle\",\"text_color\":{\"value\":\"black\"},\"x\":{\"field\":\"x\"},\"y\":{\"field\":\"y\"}},\"id\":\"71142844-cbff-4721-bfcd-de901dc7560e\",\"type\":\"Text\"},{\"attributes\":{\"label\":{\"value\":\"W2\"},\"renderers\":[{\"id\":\"24cb1042-f589-4099-bdab-f806023b16fd\",\"type\":\"GlyphRenderer\"}]},\"id\":\"5c967f57-bf0a-4a80-943c-9eefda95e642\",\"type\":\"LegendItem\"},{\"attributes\":{},\"id\":\"ff29021e-41dc-4868-805f-a0bcfb942f49\",\"type\":\"UnionRenderers\"},{\"attributes\":{},\"id\":\"2deec048-ca71-4855-a141-863afcf83bf3\",\"type\":\"Selection\"},{\"attributes\":{\"source\":{\"id\":\"de9cb7e6-3bc5-4861-a5e9-e6fb02138d4e\",\"type\":\"ColumnDataSource\"}},\"id\":\"9e96f42b-2d8c-41c4-bf06-335b6757c2e9\",\"type\":\"CDSView\"},{\"attributes\":{\"data_source\":{\"id\":\"de9cb7e6-3bc5-4861-a5e9-e6fb02138d4e\",\"type\":\"ColumnDataSource\"},\"glyph\":{\"id\":\"866ac1ec-42e9-4a1c-914a-e692ef6b04b9\",\"type\":\"AnnularWedge\"},\"hover_glyph\":null,\"muted_glyph\":null,\"nonselection_glyph\":{\"id\":\"d93e9bee-455a-4718-807c-d0e17932bd95\",\"type\":\"AnnularWedge\"},\"selection_glyph\":null,\"view\":{\"id\":\"9e96f42b-2d8c-41c4-bf06-335b6757c2e9\",\"type\":\"CDSView\"}},\"id\":\"24cb1042-f589-4099-bdab-f806023b16fd\",\"type\":\"GlyphRenderer\"},{\"attributes\":{\"end_angle\":{\"field\":\"end_angle\",\"units\":\"rad\"},\"fill_alpha\":{\"value\":0.1},\"fill_color\":{\"value\":\"#1f77b4\"},\"inner_radius\":{\"field\":\"inner_radius\",\"units\":\"data\"},\"line_alpha\":{\"value\":0.1},\"line_color\":{\"value\":\"#1f77b4\"},\"outer_radius\":{\"field\":\"outer_radius\",\"units\":\"data\"},\"start_angle\":{\"field\":\"start_angle\",\"units\":\"rad\"},\"x\":{\"value\":0},\"y\":{\"value\":0}},\"id\":\"d93e9bee-455a-4718-807c-d0e17932bd95\",\"type\":\"AnnularWedge\"},{\"attributes\":{\"end_angle\":{\"field\":\"end_angle\",\"units\":\"rad\"},\"fill_color\":{\"value\":\"#41b6c4\"},\"inner_radius\":{\"field\":\"inner_radius\",\"units\":\"data\"},\"line_color\":{\"value\":\"white\"},\"outer_radius\":{\"field\":\"outer_radius\",\"units\":\"data\"},\"start_angle\":{\"field\":\"start_angle\",\"units\":\"rad\"},\"x\":{\"value\":0},\"y\":{\"value\":0}},\"id\":\"866ac1ec-42e9-4a1c-914a-e692ef6b04b9\",\"type\":\"AnnularWedge\"},{\"attributes\":{\"callback\":null,\"data\":{\"end_angle\":[1.2566370614359172,2.5132741228718345,3.7699111843077517,5.026548245743669,6.283185307179586],\"inner_radius\":[10,9,0,12,13],\"outer_radius\":[25,17,24,28,26],\"start_angle\":[0.0,1.2566370614359172,2.5132741228718345,3.7699111843077517,5.026548245743669]},\"selected\":{\"id\":\"d45490de-a0a4-4398-a2d8-8db59e1039cc\",\"type\":\"Selection\"},\"selection_policy\":{\"id\":\"21ea46bf-f1a2-4467-b406-9f5e9d0f8e5c\",\"type\":\"UnionRenderers\"}},\"id\":\"de9cb7e6-3bc5-4861-a5e9-e6fb02138d4e\",\"type\":\"ColumnDataSource\"},{\"attributes\":{\"label\":{\"value\":\"W1\"},\"renderers\":[{\"id\":\"172edcda-8a49-4654-8f4d-b369ea43bfc1\",\"type\":\"GlyphRenderer\"}]},\"id\":\"e0e5d339-1cbc-4e67-8483-f3c54a4ac8a8\",\"type\":\"LegendItem\"},{\"attributes\":{},\"id\":\"4d0f4fb3-318a-4e70-8e3c-466f2b7df603\",\"type\":\"BasicTickFormatter\"},{\"attributes\":{},\"id\":\"acd08840-a1d0-4fc3-ab77-edd714f54487\",\"type\":\"BasicTickFormatter\"},{\"attributes\":{\"plot\":null,\"text\":\"\"},\"id\":\"b67ef175-9374-40d5-9e11-77c5d63fd82d\",\"type\":\"Title\"},{\"attributes\":{\"background_fill_alpha\":{\"value\":0.1},\"items\":[{\"id\":\"e0e5d339-1cbc-4e67-8483-f3c54a4ac8a8\",\"type\":\"LegendItem\"},{\"id\":\"5c967f57-bf0a-4a80-943c-9eefda95e642\",\"type\":\"LegendItem\"},{\"id\":\"a9591fcb-64b1-46fe-9008-bd843f3e8614\",\"type\":\"LegendItem\"},{\"id\":\"ff4ed015-a311-440f-918f-9832953c144b\",\"type\":\"LegendItem\"}],\"label_text_color\":{\"value\":\"white\"},\"location\":\"top_center\",\"orientation\":\"horizontal\",\"plot\":{\"id\":\"1a9ea005-c25c-4332-bfe0-19abc01d9bd9\",\"subtype\":\"Figure\",\"type\":\"Plot\"}},\"id\":\"b0d36276-40ab-428e-acf6-0bae9ca77d06\",\"type\":\"Legend\"},{\"attributes\":{\"source\":{\"id\":\"4194888b-bcc9-4731-b70b-5f2ed42a182c\",\"type\":\"ColumnDataSource\"}},\"id\":\"9dfc9a09-2124-488b-8b19-30919930b2d4\",\"type\":\"CDSView\"},{\"attributes\":{},\"id\":\"6096f411-6430-49cb-a50b-ea367a08d834\",\"type\":\"Selection\"},{\"attributes\":{},\"id\":\"f7c0bb6b-aed0-4873-8bdd-54b57a2d18e3\",\"type\":\"UnionRenderers\"},{\"attributes\":{\"label\":{\"value\":\"W4\"},\"renderers\":[{\"id\":\"7932d8c7-4593-4765-842e-9a35407e440b\",\"type\":\"GlyphRenderer\"}]},\"id\":\"ff4ed015-a311-440f-918f-9832953c144b\",\"type\":\"LegendItem\"},{\"attributes\":{},\"id\":\"7ea05dba-d4d3-405d-86a4-343f3f614c1b\",\"type\":\"Selection\"},{\"attributes\":{\"callback\":null,\"data\":{\"text\":[0,12,24,36,48],\"x\":[0,12,24,36,48],\"y\":{\"__ndarray__\":\"AAAAAAAAAAAAAAAAAAAAAAAAAAAAAAAAAAAAAAAAAAAAAAAAAAAAAA==\",\"dtype\":\"float64\",\"shape\":[5]}},\"selected\":{\"id\":\"0f2d2d07-bcbe-4577-9c1a-6f2c9790c140\",\"type\":\"Selection\"},\"selection_policy\":{\"id\":\"f9c199d1-5611-4b77-aa10-16c0c21481c8\",\"type\":\"UnionRenderers\"}},\"id\":\"2248bfac-9a68-4c28-8128-e665dc9f9a57\",\"type\":\"ColumnDataSource\"},{\"attributes\":{\"fill_color\":{\"value\":null},\"line_color\":{\"value\":\"grey\"},\"radius\":{\"field\":\"radius\",\"units\":\"data\"},\"x\":{\"value\":0},\"y\":{\"value\":0}},\"id\":\"da9b3516-dc06-475c-85af-9c434a257a0f\",\"type\":\"Circle\"},{\"attributes\":{\"fill_alpha\":{\"value\":0.1},\"fill_color\":{\"value\":\"#1f77b4\"},\"line_alpha\":{\"value\":0.1},\"line_color\":{\"value\":\"#1f77b4\"},\"radius\":{\"field\":\"radius\",\"units\":\"data\"},\"x\":{\"value\":0},\"y\":{\"value\":0}},\"id\":\"3eeeece1-fd6e-4c07-82ec-d8dfef2c7ca3\",\"type\":\"Circle\"},{\"attributes\":{},\"id\":\"0f2d2d07-bcbe-4577-9c1a-6f2c9790c140\",\"type\":\"Selection\"},{\"attributes\":{\"data_source\":{\"id\":\"b3c121bc-e77f-41b8-90fb-a3696ba0e626\",\"type\":\"ColumnDataSource\"},\"glyph\":{\"id\":\"da9b3516-dc06-475c-85af-9c434a257a0f\",\"type\":\"Circle\"},\"hover_glyph\":null,\"muted_glyph\":null,\"nonselection_glyph\":{\"id\":\"3eeeece1-fd6e-4c07-82ec-d8dfef2c7ca3\",\"type\":\"Circle\"},\"selection_glyph\":null,\"view\":{\"id\":\"da4ca5cb-aea6-4179-844a-f6bee5116d08\",\"type\":\"CDSView\"}},\"id\":\"cfd13cf9-9be5-4cdd-8932-afa3cf97a862\",\"type\":\"GlyphRenderer\"},{\"attributes\":{\"source\":{\"id\":\"b3c121bc-e77f-41b8-90fb-a3696ba0e626\",\"type\":\"ColumnDataSource\"}},\"id\":\"da4ca5cb-aea6-4179-844a-f6bee5116d08\",\"type\":\"CDSView\"},{\"attributes\":{\"callback\":null,\"data\":{\"text\":[\"Fleet Rotation\"]},\"selected\":{\"id\":\"5efea39e-31dc-4885-8e8d-f8ba573eb52d\",\"type\":\"Selection\"},\"selection_policy\":{\"id\":\"3f6eec96-1617-4bfb-beac-f9e705d3973a\",\"type\":\"UnionRenderers\"}},\"id\":\"81bed742-c8c5-4a71-9f51-eb69bd2b73bb\",\"type\":\"ColumnDataSource\"},{\"attributes\":{},\"id\":\"c261924d-4095-434b-9ccc-3886355a38e3\",\"type\":\"UnionRenderers\"},{\"attributes\":{\"text_align\":\"center\",\"text_baseline\":\"top\",\"text_color\":{\"value\":\"white\"},\"x\":{\"field\":\"x\"},\"y\":{\"field\":\"y\"}},\"id\":\"c5d7bf5d-b3cf-4158-9a4a-cdcb0d61b1ae\",\"type\":\"Text\"},{\"attributes\":{\"text_align\":\"center\",\"text_alpha\":{\"value\":0.1},\"text_baseline\":\"top\",\"text_color\":{\"value\":\"black\"},\"x\":{\"field\":\"x\"},\"y\":{\"field\":\"y\"}},\"id\":\"37d23df4-c6fe-4ece-9436-fc83b7ad4cfc\",\"type\":\"Text\"},{\"attributes\":{\"data_source\":{\"id\":\"2248bfac-9a68-4c28-8128-e665dc9f9a57\",\"type\":\"ColumnDataSource\"},\"glyph\":{\"id\":\"c5d7bf5d-b3cf-4158-9a4a-cdcb0d61b1ae\",\"type\":\"Text\"},\"hover_glyph\":null,\"muted_glyph\":null,\"nonselection_glyph\":{\"id\":\"37d23df4-c6fe-4ece-9436-fc83b7ad4cfc\",\"type\":\"Text\"},\"selection_glyph\":null,\"view\":{\"id\":\"a99f6278-735c-4cc7-913e-21407ff16e8d\",\"type\":\"CDSView\"}},\"id\":\"acdea7c7-3608-4564-aa4f-a2359681c184\",\"type\":\"GlyphRenderer\"},{\"attributes\":{\"source\":{\"id\":\"2248bfac-9a68-4c28-8128-e665dc9f9a57\",\"type\":\"ColumnDataSource\"}},\"id\":\"a99f6278-735c-4cc7-913e-21407ff16e8d\",\"type\":\"CDSView\"},{\"attributes\":{\"callback\":null,\"data\":{\"angle\":[0.0,1.2566370614359172,2.5132741228718345,3.7699111843077517,5.026548245743669]},\"selected\":{\"id\":\"10c1d227-2c3b-43eb-88d3-a8c84311d92f\",\"type\":\"Selection\"},\"selection_policy\":{\"id\":\"6ff04f18-7aa4-4a19-8f48-980cf99e7e05\",\"type\":\"UnionRenderers\"}},\"id\":\"77d8e2d1-4758-4202-93d9-1f94830b13e3\",\"type\":\"ColumnDataSource\"},{\"attributes\":{\"text_align\":\"center\",\"text_baseline\":\"middle\",\"text_color\":{\"value\":\"white\"},\"text_font_size\":{\"value\":\"20pt\"},\"x\":{\"value\":0},\"y\":{\"value\":-58.5}},\"id\":\"cf4cee8f-eff8-413f-ba71-41babcb202b8\",\"type\":\"Text\"},{\"attributes\":{\"text_align\":\"center\",\"text_alpha\":{\"value\":0.1},\"text_baseline\":\"middle\",\"text_color\":{\"value\":\"black\"},\"text_font_size\":{\"value\":\"20pt\"},\"x\":{\"value\":0},\"y\":{\"value\":-58.5}},\"id\":\"022e65f2-6482-4ce1-88d1-108e627b2207\",\"type\":\"Text\"},{\"attributes\":{\"data_source\":{\"id\":\"22fa61f6-9648-4bcf-9919-41ad70e8211f\",\"type\":\"ColumnDataSource\"},\"glyph\":{\"id\":\"4fe5cecc-d433-43c3-83bc-c183181ee9ab\",\"type\":\"AnnularWedge\"},\"hover_glyph\":null,\"muted_glyph\":null,\"nonselection_glyph\":{\"id\":\"66bb4a97-ff6b-4966-bff2-dc69cd5df01a\",\"type\":\"AnnularWedge\"},\"selection_glyph\":null,\"view\":{\"id\":\"82022882-f7da-444e-aa5f-f29ddc33720b\",\"type\":\"CDSView\"}},\"id\":\"172edcda-8a49-4654-8f4d-b369ea43bfc1\",\"type\":\"GlyphRenderer\"},{\"attributes\":{\"data_source\":{\"id\":\"81bed742-c8c5-4a71-9f51-eb69bd2b73bb\",\"type\":\"ColumnDataSource\"},\"glyph\":{\"id\":\"cf4cee8f-eff8-413f-ba71-41babcb202b8\",\"type\":\"Text\"},\"hover_glyph\":null,\"muted_glyph\":null,\"nonselection_glyph\":{\"id\":\"022e65f2-6482-4ce1-88d1-108e627b2207\",\"type\":\"Text\"},\"selection_glyph\":null,\"view\":{\"id\":\"9b568e6f-776b-4186-8a36-e7babe0da1a3\",\"type\":\"CDSView\"}},\"id\":\"eef467e8-a713-4e04-9b69-350918ce3623\",\"type\":\"GlyphRenderer\"},{\"attributes\":{\"background_fill_color\":{\"value\":\"black\"},\"below\":[{\"id\":\"d32c11e1-19c1-406e-8834-d70b0c7328bc\",\"type\":\"LinearAxis\"}],\"left\":[{\"id\":\"f731938f-5665-4493-9ae2-733dd324bff1\",\"type\":\"LinearAxis\"}],\"plot_height\":500,\"plot_width\":500,\"renderers\":[{\"id\":\"d32c11e1-19c1-406e-8834-d70b0c7328bc\",\"type\":\"LinearAxis\"},{\"id\":\"410729e8-f4b6-4a2f-96ff-27aee3537a20\",\"type\":\"Grid\"},{\"id\":\"f731938f-5665-4493-9ae2-733dd324bff1\",\"type\":\"LinearAxis\"},{\"id\":\"905d3717-56d4-45e5-86a7-1e9fc0a8966b\",\"type\":\"Grid\"},{\"id\":\"56da9aea-a5b1-4c9a-b82e-f23186e1bfa3\",\"type\":\"BoxAnnotation\"},{\"id\":\"b0d36276-40ab-428e-acf6-0bae9ca77d06\",\"type\":\"Legend\"},{\"id\":\"172edcda-8a49-4654-8f4d-b369ea43bfc1\",\"type\":\"GlyphRenderer\"},{\"id\":\"24cb1042-f589-4099-bdab-f806023b16fd\",\"type\":\"GlyphRenderer\"},{\"id\":\"835ad39f-5881-4776-9ab1-81812e3fe362\",\"type\":\"GlyphRenderer\"},{\"id\":\"7932d8c7-4593-4765-842e-9a35407e440b\",\"type\":\"GlyphRenderer\"},{\"id\":\"cfd13cf9-9be5-4cdd-8932-afa3cf97a862\",\"type\":\"GlyphRenderer\"},{\"id\":\"acdea7c7-3608-4564-aa4f-a2359681c184\",\"type\":\"GlyphRenderer\"},{\"id\":\"eef467e8-a713-4e04-9b69-350918ce3623\",\"type\":\"GlyphRenderer\"},{\"id\":\"73a642c9-3af0-4383-ac51-8d26e3402b9f\",\"type\":\"GlyphRenderer\"},{\"id\":\"29915531-d61d-4344-b884-c95c3eb02930\",\"type\":\"GlyphRenderer\"}],\"title\":{\"id\":\"b67ef175-9374-40d5-9e11-77c5d63fd82d\",\"type\":\"Title\"},\"toolbar\":{\"id\":\"7a393df7-ddc3-499f-9844-e67963785acc\",\"type\":\"Toolbar\"},\"toolbar_location\":null,\"x_range\":{\"id\":\"815fdca2-009e-41cc-958a-800dafd828a1\",\"type\":\"Range1d\"},\"x_scale\":{\"id\":\"f8313522-f8e9-49b2-828a-b26c485ef452\",\"type\":\"LinearScale\"},\"y_range\":{\"id\":\"1d5c9582-0b6d-4e40-933c-e8f89ea1310c\",\"type\":\"Range1d\"},\"y_scale\":{\"id\":\"c26d0526-4412-40e1-926c-a28243467ae0\",\"type\":\"LinearScale\"}},\"id\":\"1a9ea005-c25c-4332-bfe0-19abc01d9bd9\",\"subtype\":\"Figure\",\"type\":\"Plot\"},{\"attributes\":{\"source\":{\"id\":\"81bed742-c8c5-4a71-9f51-eb69bd2b73bb\",\"type\":\"ColumnDataSource\"}},\"id\":\"9b568e6f-776b-4186-8a36-e7babe0da1a3\",\"type\":\"CDSView\"},{\"attributes\":{\"callback\":null,\"data\":{\"radius\":[0,12,24,36,48]},\"selected\":{\"id\":\"e8e14bf7-b64f-49dc-94ca-669905b0efc0\",\"type\":\"Selection\"},\"selection_policy\":{\"id\":\"cbc3a3b4-d872-414b-8e42-5fe670444c15\",\"type\":\"UnionRenderers\"}},\"id\":\"b3c121bc-e77f-41b8-90fb-a3696ba0e626\",\"type\":\"ColumnDataSource\"},{\"attributes\":{\"text_align\":\"center\",\"text_baseline\":\"middle\",\"text_color\":{\"value\":\"white\"},\"x\":{\"field\":\"x\"},\"y\":{\"field\":\"y\"}},\"id\":\"2f5a0010-2c9e-4e93-90e4-b1860f0a299d\",\"type\":\"Text\"},{\"attributes\":{\"active_drag\":\"auto\",\"active_inspect\":\"auto\",\"active_multi\":null,\"active_scroll\":\"auto\",\"active_tap\":\"auto\",\"tools\":[{\"id\":\"3afcea0b-de57-439e-990b-f9d7b41a1e40\",\"type\":\"PanTool\"},{\"id\":\"ff78dbd3-6c12-463f-a7a7-d408318c2ffa\",\"type\":\"WheelZoomTool\"},{\"id\":\"2be52226-4759-4353-b99c-e3830b2a5c73\",\"type\":\"BoxZoomTool\"},{\"id\":\"13c25039-d790-4434-8bb6-a31342621dc5\",\"type\":\"SaveTool\"},{\"id\":\"70a94ef4-6fef-42e9-acb3-3084de719a36\",\"type\":\"ResetTool\"},{\"id\":\"677ea405-f36b-4993-a288-340c19a05c33\",\"type\":\"HelpTool\"}]},\"id\":\"7a393df7-ddc3-499f-9844-e67963785acc\",\"type\":\"Toolbar\"},{\"attributes\":{\"angle\":{\"field\":\"angle\",\"units\":\"rad\"},\"length\":{\"units\":\"data\",\"value\":49.50000000000001},\"x\":{\"value\":0},\"y\":{\"value\":0}},\"id\":\"070ea7b9-15b1-4d81-bb57-11db28057e9c\",\"type\":\"Ray\"},{\"attributes\":{\"callback\":null,\"end\":67.5,\"start\":-67.5},\"id\":\"815fdca2-009e-41cc-958a-800dafd828a1\",\"type\":\"Range1d\"},{\"attributes\":{\"angle\":{\"field\":\"angle\",\"units\":\"rad\"},\"length\":{\"units\":\"data\",\"value\":49.50000000000001},\"line_alpha\":{\"value\":0.1},\"line_color\":{\"value\":\"#1f77b4\"},\"x\":{\"value\":0},\"y\":{\"value\":0}},\"id\":\"3d37f033-13af-448f-8cef-12d6801f0338\",\"type\":\"Ray\"},{\"attributes\":{\"end_angle\":{\"field\":\"end_angle\",\"units\":\"rad\"},\"fill_alpha\":{\"value\":0.1},\"fill_color\":{\"value\":\"#1f77b4\"},\"inner_radius\":{\"units\":\"data\",\"value\":0},\"line_alpha\":{\"value\":0.1},\"line_color\":{\"value\":\"#1f77b4\"},\"outer_radius\":{\"field\":\"outer_radius\",\"units\":\"data\"},\"start_angle\":{\"field\":\"start_angle\",\"units\":\"rad\"},\"x\":{\"value\":0},\"y\":{\"value\":0}},\"id\":\"66bb4a97-ff6b-4966-bff2-dc69cd5df01a\",\"type\":\"AnnularWedge\"},{\"attributes\":{\"data_source\":{\"id\":\"77d8e2d1-4758-4202-93d9-1f94830b13e3\",\"type\":\"ColumnDataSource\"},\"glyph\":{\"id\":\"070ea7b9-15b1-4d81-bb57-11db28057e9c\",\"type\":\"Ray\"},\"hover_glyph\":null,\"muted_glyph\":null,\"nonselection_glyph\":{\"id\":\"3d37f033-13af-448f-8cef-12d6801f0338\",\"type\":\"Ray\"},\"selection_glyph\":null,\"view\":{\"id\":\"31a7e4ae-a256-44bc-9c1b-dc038fb686c2\",\"type\":\"CDSView\"}},\"id\":\"73a642c9-3af0-4383-ac51-8d26e3402b9f\",\"type\":\"GlyphRenderer\"},{\"attributes\":{\"callback\":null,\"end\":67.5,\"start\":-67.5},\"id\":\"1d5c9582-0b6d-4e40-933c-e8f89ea1310c\",\"type\":\"Range1d\"},{\"attributes\":{\"source\":{\"id\":\"77d8e2d1-4758-4202-93d9-1f94830b13e3\",\"type\":\"ColumnDataSource\"}},\"id\":\"31a7e4ae-a256-44bc-9c1b-dc038fb686c2\",\"type\":\"CDSView\"},{\"attributes\":{},\"id\":\"f8313522-f8e9-49b2-828a-b26c485ef452\",\"type\":\"LinearScale\"},{\"attributes\":{},\"id\":\"709ee5e2-1cdf-4615-8cd4-e667f2fbd73b\",\"type\":\"Selection\"},{\"attributes\":{},\"id\":\"c26d0526-4412-40e1-926c-a28243467ae0\",\"type\":\"LinearScale\"},{\"attributes\":{\"grid_line_color\":{\"value\":null},\"plot\":{\"id\":\"1a9ea005-c25c-4332-bfe0-19abc01d9bd9\",\"subtype\":\"Figure\",\"type\":\"Plot\"},\"ticker\":{\"id\":\"968fc85e-1660-425f-a4cc-7b8c39bb6ef7\",\"type\":\"BasicTicker\"}},\"id\":\"410729e8-f4b6-4a2f-96ff-27aee3537a20\",\"type\":\"Grid\"},{\"attributes\":{\"callback\":null,\"data\":{\"text\":[\"Vehicle 0\",\"Vehicle 1\",\"Vehicle 2\",\"Vehicle 3\",\"Vehicle 4\"],\"x\":[43.686917696247164,-16.686917696247157,-54.0,-16.686917696247168,43.68691769624716],\"y\":[31.74040362379355,51.3570518799383,6.6130927153957075e-15,-51.35705187993829,-31.74040362379356]},\"selected\":{\"id\":\"7ea05dba-d4d3-405d-86a4-343f3f614c1b\",\"type\":\"Selection\"},\"selection_policy\":{\"id\":\"c261924d-4095-434b-9ccc-3886355a38e3\",\"type\":\"UnionRenderers\"}},\"id\":\"a9682c35-8fbf-4093-9bbb-806a55d28359\",\"type\":\"ColumnDataSource\"},{\"attributes\":{\"formatter\":{\"id\":\"4d0f4fb3-318a-4e70-8e3c-466f2b7df603\",\"type\":\"BasicTickFormatter\"},\"plot\":{\"id\":\"1a9ea005-c25c-4332-bfe0-19abc01d9bd9\",\"subtype\":\"Figure\",\"type\":\"Plot\"},\"ticker\":{\"id\":\"968fc85e-1660-425f-a4cc-7b8c39bb6ef7\",\"type\":\"BasicTicker\"},\"visible\":false},\"id\":\"d32c11e1-19c1-406e-8834-d70b0c7328bc\",\"type\":\"LinearAxis\"},{\"attributes\":{\"data_source\":{\"id\":\"a9682c35-8fbf-4093-9bbb-806a55d28359\",\"type\":\"ColumnDataSource\"},\"glyph\":{\"id\":\"2f5a0010-2c9e-4e93-90e4-b1860f0a299d\",\"type\":\"Text\"},\"hover_glyph\":null,\"muted_glyph\":null,\"nonselection_glyph\":{\"id\":\"71142844-cbff-4721-bfcd-de901dc7560e\",\"type\":\"Text\"},\"selection_glyph\":null,\"view\":{\"id\":\"d261e817-8b95-452e-897e-85a9f189ff5d\",\"type\":\"CDSView\"}},\"id\":\"29915531-d61d-4344-b884-c95c3eb02930\",\"type\":\"GlyphRenderer\"},{\"attributes\":{},\"id\":\"968fc85e-1660-425f-a4cc-7b8c39bb6ef7\",\"type\":\"BasicTicker\"},{\"attributes\":{\"source\":{\"id\":\"a9682c35-8fbf-4093-9bbb-806a55d28359\",\"type\":\"ColumnDataSource\"}},\"id\":\"d261e817-8b95-452e-897e-85a9f189ff5d\",\"type\":\"CDSView\"},{\"attributes\":{\"formatter\":{\"id\":\"acd08840-a1d0-4fc3-ab77-edd714f54487\",\"type\":\"BasicTickFormatter\"},\"plot\":{\"id\":\"1a9ea005-c25c-4332-bfe0-19abc01d9bd9\",\"subtype\":\"Figure\",\"type\":\"Plot\"},\"ticker\":{\"id\":\"f240acd1-e8c5-47c4-a2b9-97510aac26fb\",\"type\":\"BasicTicker\"},\"visible\":false},\"id\":\"f731938f-5665-4493-9ae2-733dd324bff1\",\"type\":\"LinearAxis\"},{\"attributes\":{},\"id\":\"f240acd1-e8c5-47c4-a2b9-97510aac26fb\",\"type\":\"BasicTicker\"},{\"attributes\":{},\"id\":\"f9c199d1-5611-4b77-aa10-16c0c21481c8\",\"type\":\"UnionRenderers\"},{\"attributes\":{\"dimension\":1,\"grid_line_color\":{\"value\":null},\"plot\":{\"id\":\"1a9ea005-c25c-4332-bfe0-19abc01d9bd9\",\"subtype\":\"Figure\",\"type\":\"Plot\"},\"ticker\":{\"id\":\"f240acd1-e8c5-47c4-a2b9-97510aac26fb\",\"type\":\"BasicTicker\"}},\"id\":\"905d3717-56d4-45e5-86a7-1e9fc0a8966b\",\"type\":\"Grid\"},{\"attributes\":{},\"id\":\"4b6b70c3-4f0a-48a7-b4b4-f44e5a214bba\",\"type\":\"UnionRenderers\"},{\"attributes\":{\"source\":{\"id\":\"22fa61f6-9648-4bcf-9919-41ad70e8211f\",\"type\":\"ColumnDataSource\"}},\"id\":\"82022882-f7da-444e-aa5f-f29ddc33720b\",\"type\":\"CDSView\"},{\"attributes\":{},\"id\":\"e8e14bf7-b64f-49dc-94ca-669905b0efc0\",\"type\":\"Selection\"},{\"attributes\":{},\"id\":\"cbc3a3b4-d872-414b-8e42-5fe670444c15\",\"type\":\"UnionRenderers\"},{\"attributes\":{\"end_angle\":{\"field\":\"end_angle\",\"units\":\"rad\"},\"fill_color\":{\"value\":\"#225ea8\"},\"inner_radius\":{\"units\":\"data\",\"value\":0},\"line_color\":{\"value\":\"white\"},\"outer_radius\":{\"field\":\"outer_radius\",\"units\":\"data\"},\"start_angle\":{\"field\":\"start_angle\",\"units\":\"rad\"},\"x\":{\"value\":0},\"y\":{\"value\":0}},\"id\":\"4fe5cecc-d433-43c3-83bc-c183181ee9ab\",\"type\":\"AnnularWedge\"},{\"attributes\":{\"callback\":null,\"data\":{\"end_angle\":[1.2566370614359172,2.5132741228718345,3.7699111843077517,5.026548245743669,6.283185307179586],\"outer_radius\":[10,9,0,12,13],\"start_angle\":[0.0,1.2566370614359172,2.5132741228718345,3.7699111843077517,5.026548245743669]},\"selected\":{\"id\":\"2deec048-ca71-4855-a141-863afcf83bf3\",\"type\":\"Selection\"},\"selection_policy\":{\"id\":\"ff29021e-41dc-4868-805f-a0bcfb942f49\",\"type\":\"UnionRenderers\"}},\"id\":\"22fa61f6-9648-4bcf-9919-41ad70e8211f\",\"type\":\"ColumnDataSource\"},{\"attributes\":{},\"id\":\"5efea39e-31dc-4885-8e8d-f8ba573eb52d\",\"type\":\"Selection\"},{\"attributes\":{},\"id\":\"3afcea0b-de57-439e-990b-f9d7b41a1e40\",\"type\":\"PanTool\"},{\"attributes\":{},\"id\":\"3f6eec96-1617-4bfb-beac-f9e705d3973a\",\"type\":\"UnionRenderers\"},{\"attributes\":{},\"id\":\"70a94ef4-6fef-42e9-acb3-3084de719a36\",\"type\":\"ResetTool\"},{\"attributes\":{},\"id\":\"10c1d227-2c3b-43eb-88d3-a8c84311d92f\",\"type\":\"Selection\"},{\"attributes\":{},\"id\":\"ff78dbd3-6c12-463f-a7a7-d408318c2ffa\",\"type\":\"WheelZoomTool\"},{\"attributes\":{},\"id\":\"6ff04f18-7aa4-4a19-8f48-980cf99e7e05\",\"type\":\"UnionRenderers\"},{\"attributes\":{\"overlay\":{\"id\":\"56da9aea-a5b1-4c9a-b82e-f23186e1bfa3\",\"type\":\"BoxAnnotation\"}},\"id\":\"2be52226-4759-4353-b99c-e3830b2a5c73\",\"type\":\"BoxZoomTool\"},{\"attributes\":{},\"id\":\"13c25039-d790-4434-8bb6-a31342621dc5\",\"type\":\"SaveTool\"}],\"root_ids\":[\"1a9ea005-c25c-4332-bfe0-19abc01d9bd9\"]},\"title\":\"Bokeh Application\",\"version\":\"0.13.0\"}};\n",
       "  var render_items = [{\"docid\":\"1ff928f4-f0e3-43d0-955f-69fb359e4445\",\"roots\":{\"1a9ea005-c25c-4332-bfe0-19abc01d9bd9\":\"0758982e-661b-426c-9152-e1ddfe9d399a\"}}];\n",
       "  root.Bokeh.embed.embed_items_notebook(docs_json, render_items);\n",
       "\n",
       "  }\n",
       "  if (root.Bokeh !== undefined) {\n",
       "    embed_document(root);\n",
       "  } else {\n",
       "    var attempts = 0;\n",
       "    var timer = setInterval(function(root) {\n",
       "      if (root.Bokeh !== undefined) {\n",
       "        embed_document(root);\n",
       "        clearInterval(timer);\n",
       "      }\n",
       "      attempts++;\n",
       "      if (attempts > 100) {\n",
       "        console.log(\"Bokeh: ERROR: Unable to run BokehJS code because BokehJS library is missing\")\n",
       "        clearInterval(timer);\n",
       "      }\n",
       "    }, 10, root)\n",
       "  }\n",
       "})(window);"
      ],
      "application/vnd.bokehjs_exec.v0+json": ""
     },
     "metadata": {
      "application/vnd.bokehjs_exec.v0+json": {
       "id": "1a9ea005-c25c-4332-bfe0-19abc01d9bd9"
      }
     },
     "output_type": "display_data"
    }
   ],
   "source": [
    "p=figure(toolbar_location=None,background_fill_color='black',plot_width=500,plot_height=500, x_range=(-max_val*1.5,max_val*1.5),y_range=(-max_val*1.5,max_val*1.5))\n",
    "colors = itertools.cycle(ccycle.brewer['YlGnBu'][len(As)]) \n",
    "\n",
    "factor=2\n",
    "ml=1\n",
    "res=10\n",
    "while res>5:\n",
    "    res=np.ceil(max_val/(factor*ml))\n",
    "    ml=ml+1\n",
    "divisor=ml*factor\n",
    "\n",
    "labels=[plbl*divisor for plbl in range(0,int(np.ceil(max_val/divisor)+1))]\n",
    "lbl=['W1','W2','W3','W4']\n",
    "VH=['Vehicle '+str(i) for i in range(0,len(As)+1)]\n",
    "\n",
    "for i in range(0,len(As)):\n",
    "    if i==0:\n",
    "        p.annular_wedge(x=0, y=0, inner_radius=0, outer_radius=As[i], start_angle=Angle_Small,end_angle=Angle_Big,line_color='white', color=next(colors),legend=lbl[i])\n",
    "    else:\n",
    "        p.annular_wedge(x=0, y=0, inner_radius=As[i-1], outer_radius=As[i], start_angle=Angle_Small,end_angle=Angle_Big,line_color='white', color=next(colors),legend=lbl[i])\n",
    "\n",
    "p.xaxis.visible=False\n",
    "p.yaxis.visible=False\n",
    "p.xgrid.grid_line_color = None\n",
    "p.ygrid.grid_line_color = None\n",
    "p.circle(0, 0, radius=labels, fill_color=None, line_color=\"grey\")\n",
    "p.text(labels,np.zeros(len(labels)),text=labels,text_align=\"center\",text_color='white', text_baseline=\"top\", text_font='helvetica')\n",
    "p.text(0,-max_val*1.3,text=['Fleet Rotation'],text_align=\"center\",text_color='white', text_font_size=\"20pt\",text_baseline=\"middle\", text_font='helvetica')\n",
    "\n",
    "p.ray(0,0,max_val*1.1,Angle_Small,color='black')\n",
    "p.legend.location = \"top_center\"\n",
    "p.legend.background_fill_alpha = 0.1\n",
    "p.legend.label_text_color='white'\n",
    "p.legend.orientation='horizontal'\n",
    "\n",
    "vangle=[(Angle_Small[i]+Angle_Big[i])/2 for i in range(0,len(Angle_Small))]\n",
    "vx=[max_val*1.2*np.cos(v) for v in vangle]\n",
    "vy=[max_val*1.2*np.sin(v) for v in vangle]\n",
    "\n",
    "p.text(vx,vy,VH, text_align='center', text_baseline='middle', text_color='white')\n",
    "\n",
    "show(p)"
   ]
  },
  {
   "cell_type": "code",
   "execution_count": 9,
   "metadata": {},
   "outputs": [
    {
     "data": {
      "text/plain": [
       "'D:\\\\Devcode\\\\Blog\\\\CircStackPlt\\\\circular_plot_fancy.png'"
      ]
     },
     "execution_count": 9,
     "metadata": {},
     "output_type": "execute_result"
    }
   ],
   "source": [
    "export_png(p,'circular_plot_fancy.png')"
   ]
  }
 ],
 "metadata": {
  "kernelspec": {
   "display_name": "Python 3",
   "language": "python",
   "name": "python3"
  },
  "language_info": {
   "codemirror_mode": {
    "name": "ipython",
    "version": 3
   },
   "file_extension": ".py",
   "mimetype": "text/x-python",
   "name": "python",
   "nbconvert_exporter": "python",
   "pygments_lexer": "ipython3",
   "version": "3.7.0"
  }
 },
 "nbformat": 4,
 "nbformat_minor": 2
}
