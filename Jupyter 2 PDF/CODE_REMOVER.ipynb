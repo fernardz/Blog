{
 "cells": [
  {
   "cell_type": "code",
   "execution_count": 58,
   "metadata": {},
   "outputs": [],
   "source": [
    "# 1. Import the exporter\n",
    "from traitlets.config import Config\n",
    "import nbformat\n",
    "from nbconvert import HTMLExporter\n",
    "from nbconvert.preprocessors import ExecutePreprocessor\n",
    "from nbconvert.exporters import HTMLExporter\n",
    "\n",
    "with open('Jinja Reporting.ipynb') as f:\n",
    "    nb=nbformat.read(f, as_version=4)\n",
    "\n",
    "c =Config()\n",
    "\n",
    "ep=ExecutePreprocessor()\n",
    "\n",
    "c.TagRemovePreprocessor.remove_input_tags=(['ns'])\n",
    "c.preprocessors=[\"TagRemovePreprocessor\"]\n",
    "# 2. Instantiate the exporter. We use the `basic` template for now; we'll get into more details\n",
    "# later about how to customize the exporter further.\n",
    "html_exporter = HTMLExporter(config=c)\n",
    "\n",
    "\n",
    "\n",
    "\n",
    "nbe,resources=ep.preprocess(nb,{})\n",
    "# 3. Process the notebook we loaded earlier\n",
    "(body, resources) = html_exporter.from_notebook_node(nbe)"
   ]
  },
  {
   "cell_type": "code",
   "execution_count": 59,
   "metadata": {},
   "outputs": [],
   "source": [
    "with open('test2.html', 'w') as fh:\n",
    "    fh.write(body)"
   ]
  },
  {
   "cell_type": "code",
   "execution_count": 57,
   "metadata": {},
   "outputs": [
    {
     "data": {
      "text/plain": [
       "{'cell_type': 'code',\n",
       " 'execution_count': 3,\n",
       " 'metadata': {'tags': ['ns']},\n",
       " 'outputs': [{'output_type': 'stream',\n",
       "   'name': 'stdout',\n",
       "   'text': \"['Angela Murphy', 'Rodney Jacobson', 'Michael Collins', 'Eric Welch', 'Troy Turner', 'Molly Butler', 'Melissa Ramirez', 'Miguel Mccoy', 'Steven Wong', 'Leah Macdonald']\\n\"}],\n",
       " 'source': 'print([fake.name() for x in range(0,10)])'}"
      ]
     },
     "execution_count": 57,
     "metadata": {},
     "output_type": "execute_result"
    }
   ],
   "source": [
    "nbe.cells[2]"
   ]
  },
  {
   "cell_type": "code",
   "execution_count": null,
   "metadata": {},
   "outputs": [],
   "source": []
  }
 ],
 "metadata": {
  "celltoolbar": "Edit Metadata",
  "kernelspec": {
   "display_name": "Python 3",
   "language": "python",
   "name": "python3"
  },
  "language_info": {
   "codemirror_mode": {
    "name": "ipython",
    "version": 3
   },
   "file_extension": ".py",
   "mimetype": "text/x-python",
   "name": "python",
   "nbconvert_exporter": "python",
   "pygments_lexer": "ipython3",
   "version": "3.7.0"
  }
 },
 "nbformat": 4,
 "nbformat_minor": 2
}
