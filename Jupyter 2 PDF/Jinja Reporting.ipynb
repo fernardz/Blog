{
 "cells": [
  {
   "cell_type": "code",
   "execution_count": 3,
   "metadata": {
    "tags": [
     "ns"
    ]
   },
   "outputs": [],
   "source": [
    "import pandas as pd\n",
    "import numpy as np\n",
    "from jinja2 import Environment, FileSystemLoader\n",
    "import re\n",
    "from faker import Faker\n",
    "from weasyprint import HTML"
   ]
  },
  {
   "cell_type": "code",
   "execution_count": 4,
   "metadata": {
    "tags": [
     "ns"
    ]
   },
   "outputs": [],
   "source": [
    "fake=Faker()"
   ]
  },
  {
   "cell_type": "code",
   "execution_count": 5,
   "metadata": {
    "tags": [
     "ns"
    ]
   },
   "outputs": [
    {
     "name": "stdout",
     "output_type": "stream",
     "text": [
      "['Daniel West II', 'Andrea Blackwell', 'Larry Martin', 'Frederick Sanchez Jr.', 'Dustin Lopez', 'Michael Sherman', 'Abigail Thomas', 'Destiny Gonzalez', 'Chelsea Sanchez', 'Richard Martin']\n"
     ]
    }
   ],
   "source": [
    "print([fake.name() for x in range(0,10)])"
   ]
  },
  {
   "cell_type": "code",
   "execution_count": 6,
   "metadata": {
    "tags": [
     "ns"
    ]
   },
   "outputs": [],
   "source": [
    "#Load the csv with diabetes information into a pandas df\n",
    "diab_org=pd.read_csv('https://www4.stat.ncsu.edu/~boos/var.select/diabetes.tab.txt',sep='\\t')"
   ]
  },
  {
   "cell_type": "code",
   "execution_count": 7,
   "metadata": {
    "tags": [
     "ns"
    ]
   },
   "outputs": [],
   "source": [
    "#Select only the columns we are interested in\n",
    "diab=diab_org[['AGE','SEX','BMI','BP']].copy()"
   ]
  },
  {
   "cell_type": "code",
   "execution_count": 8,
   "metadata": {
    "scrolled": true,
    "tags": [
     "ns"
    ]
   },
   "outputs": [],
   "source": [
    "#Just for fun assign some fake names to the dataset\n",
    "diab['Name']=diab.AGE.apply(lambda x: fake.name())"
   ]
  },
  {
   "cell_type": "code",
   "execution_count": 9,
   "metadata": {
    "tags": [
     "ns"
    ]
   },
   "outputs": [],
   "source": [
    "env=Environment(loader=FileSystemLoader('.'))"
   ]
  },
  {
   "cell_type": "code",
   "execution_count": 10,
   "metadata": {
    "tags": [
     "ns"
    ]
   },
   "outputs": [],
   "source": [
    "#declare our jinja template\n",
    "template= env.get_template('report_template.html')\n",
    "template_vars={'title':'Diabetes Dataset',\n",
    "              'data':diab.sort_values('AGE').head(20),\n",
    "              'headers':list(diab.columns.values)}\n",
    "\n",
    "#render out our html with jinja\n",
    "html_out=template.render(template_vars)\n",
    "file_name='report.html'\n",
    "with open(file_name, 'w') as fh:\n",
    "    fh.write(html_out)\n",
    "\n",
    "#Save our pdf file\n",
    "pdf_name='report_pdf.pdf'\n",
    "HTML(string=html_out).write_pdf(pdf_name,stylesheets=[\"report.css\"])"
   ]
  },
  {
   "cell_type": "code",
   "execution_count": 11,
   "metadata": {
    "tags": [
     "ns"
    ]
   },
   "outputs": [],
   "source": [
    "#fancier example using bootstrap (I prefer to download bootstra without the print)\n",
    "template= env.get_template('report_template_fancy.html')\n",
    "template_vars={'title':'Diabetes Dataset',\n",
    "              'data':diab.sort_values('AGE').head(20),\n",
    "              'headers':list(diab.columns.values)}\n",
    "\n",
    "html_out=template.render(template_vars)\n",
    "\n",
    "#This isn't necessary but it lets \n",
    "file_name='report_fancy.html'\n",
    "with open(file_name, 'w') as fh:\n",
    "    fh.write(html_out)\n",
    "\n",
    "#Here we load both our reportcss with the page declaration and the bootstrap css\n",
    "pdf_name='report_pdf_fancy.pdf'\n",
    "HTML(string=html_out).write_pdf(pdf_name,stylesheets=[\"report_fancy.css\",\"bootstrap.css\"])"
   ]
  },
  {
   "cell_type": "markdown",
   "metadata": {
    "tags": [
     "ns"
    ]
   },
   "source": [
    "# TEST FAKER"
   ]
  },
  {
   "cell_type": "code",
   "execution_count": null,
   "metadata": {},
   "outputs": [],
   "source": []
  }
 ],
 "metadata": {
  "celltoolbar": "Tags",
  "kernelspec": {
   "display_name": "Python 3",
   "language": "python",
   "name": "python3"
  },
  "language_info": {
   "codemirror_mode": {
    "name": "ipython",
    "version": 3
   },
   "file_extension": ".py",
   "mimetype": "text/x-python",
   "name": "python",
   "nbconvert_exporter": "python",
   "pygments_lexer": "ipython3",
   "version": "3.7.0"
  }
 },
 "nbformat": 4,
 "nbformat_minor": 2
}
